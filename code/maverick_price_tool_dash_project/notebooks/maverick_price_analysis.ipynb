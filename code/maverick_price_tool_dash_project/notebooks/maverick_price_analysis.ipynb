{
 "cells": [
  {
   "cell_type": "code",
   "execution_count": 41,
   "metadata": {},
   "outputs": [],
   "source": [
    "import pandas as pd\n",
    "import numpy as np\n",
    "import matplotlib.pyplot as plt\n",
    "import seaborn as sb\n",
    "import plotly.express as px"
   ]
  },
  {
   "cell_type": "code",
   "execution_count": 42,
   "metadata": {},
   "outputs": [],
   "source": [
    "path = '/Users/jonathanduberman/maverick_price_tool/data/2023-05-12T134737-carsdotcom_for_sale.csv'\n",
    "odf = pd.read_csv(path)"
   ]
  },
  {
   "cell_type": "code",
   "execution_count": 43,
   "metadata": {},
   "outputs": [],
   "source": [
    "df = odf.copy()"
   ]
  },
  {
   "cell_type": "code",
   "execution_count": 44,
   "metadata": {},
   "outputs": [],
   "source": [
    "acceptable_trim_levels = ['XL','XLT','LARIAT']"
   ]
  },
  {
   "cell_type": "code",
   "execution_count": 45,
   "metadata": {},
   "outputs": [],
   "source": [
    "mavericks = df.drop('Unnamed: 0', axis=1)"
   ]
  },
  {
   "cell_type": "code",
   "execution_count": 46,
   "metadata": {},
   "outputs": [
    {
     "data": {
      "text/html": [
       "<div>\n",
       "<style scoped>\n",
       "    .dataframe tbody tr th:only-of-type {\n",
       "        vertical-align: middle;\n",
       "    }\n",
       "\n",
       "    .dataframe tbody tr th {\n",
       "        vertical-align: top;\n",
       "    }\n",
       "\n",
       "    .dataframe thead th {\n",
       "        text-align: right;\n",
       "    }\n",
       "</style>\n",
       "<table border=\"1\" class=\"dataframe\">\n",
       "  <thead>\n",
       "    <tr style=\"text-align: right;\">\n",
       "      <th></th>\n",
       "      <th>condition</th>\n",
       "      <th>model_year</th>\n",
       "      <th>make</th>\n",
       "      <th>model</th>\n",
       "      <th>trim_level</th>\n",
       "      <th>list_price</th>\n",
       "      <th>exterior_color</th>\n",
       "      <th>interior_color</th>\n",
       "      <th>fwd_or_awd</th>\n",
       "      <th>hybrid_or_eco</th>\n",
       "      <th>mileage</th>\n",
       "      <th>dealer_address</th>\n",
       "      <th>date_parsed</th>\n",
       "    </tr>\n",
       "  </thead>\n",
       "  <tbody>\n",
       "    <tr>\n",
       "      <th>0</th>\n",
       "      <td>USED</td>\n",
       "      <td>2023</td>\n",
       "      <td>FORD</td>\n",
       "      <td>MAVERICK</td>\n",
       "      <td>XLT</td>\n",
       "      <td>38988.0</td>\n",
       "      <td>Hot Pepper Red Tinted Clearcoat</td>\n",
       "      <td>Navy Pier</td>\n",
       "      <td>Front-wheel Drive</td>\n",
       "      <td>Hybrid</td>\n",
       "      <td>20.0</td>\n",
       "      <td>4328 Louisburg Rd Raleigh, NC 27604</td>\n",
       "      <td>2023-05-12</td>\n",
       "    </tr>\n",
       "    <tr>\n",
       "      <th>1</th>\n",
       "      <td>USED</td>\n",
       "      <td>2023</td>\n",
       "      <td>FORD</td>\n",
       "      <td>MAVERICK</td>\n",
       "      <td>LARIAT</td>\n",
       "      <td>40873.0</td>\n",
       "      <td>Oxford White</td>\n",
       "      <td>Desert</td>\n",
       "      <td>All-wheel Drive</td>\n",
       "      <td>Gasoline</td>\n",
       "      <td>42.0</td>\n",
       "      <td>4900 Capital Blvd Raleigh, NC 27616</td>\n",
       "      <td>2023-05-12</td>\n",
       "    </tr>\n",
       "    <tr>\n",
       "      <th>2</th>\n",
       "      <td>USED</td>\n",
       "      <td>2022</td>\n",
       "      <td>FORD</td>\n",
       "      <td>MAVERICK</td>\n",
       "      <td>XL</td>\n",
       "      <td>34091.0</td>\n",
       "      <td>Iconic Silver Metallic</td>\n",
       "      <td>Black Onyx</td>\n",
       "      <td>Front-wheel Drive</td>\n",
       "      <td>Hybrid</td>\n",
       "      <td>14911.0</td>\n",
       "      <td>3940 Capital Hills Drive Raleigh, NC 27616</td>\n",
       "      <td>2023-05-12</td>\n",
       "    </tr>\n",
       "    <tr>\n",
       "      <th>3</th>\n",
       "      <td>USED</td>\n",
       "      <td>2022</td>\n",
       "      <td>FORD</td>\n",
       "      <td>MAVERICK</td>\n",
       "      <td>XLT</td>\n",
       "      <td>35497.0</td>\n",
       "      <td>Silver</td>\n",
       "      <td>Black Onyx</td>\n",
       "      <td>Front-wheel Drive</td>\n",
       "      <td>Gasoline</td>\n",
       "      <td>18425.0</td>\n",
       "      <td>9820 Capital Blvd Wake Forest, NC 27587</td>\n",
       "      <td>2023-05-12</td>\n",
       "    </tr>\n",
       "    <tr>\n",
       "      <th>4</th>\n",
       "      <td>USED</td>\n",
       "      <td>2022</td>\n",
       "      <td>FORD</td>\n",
       "      <td>MAVERICK</td>\n",
       "      <td>XLT</td>\n",
       "      <td>36000.0</td>\n",
       "      <td>Area 51</td>\n",
       "      <td>Navy Pier</td>\n",
       "      <td>All-wheel Drive</td>\n",
       "      <td>Gasoline</td>\n",
       "      <td>2913.0</td>\n",
       "      <td>11000 Capital Blvd Wake Forest, NC 27587</td>\n",
       "      <td>2023-05-12</td>\n",
       "    </tr>\n",
       "    <tr>\n",
       "      <th>...</th>\n",
       "      <td>...</td>\n",
       "      <td>...</td>\n",
       "      <td>...</td>\n",
       "      <td>...</td>\n",
       "      <td>...</td>\n",
       "      <td>...</td>\n",
       "      <td>...</td>\n",
       "      <td>...</td>\n",
       "      <td>...</td>\n",
       "      <td>...</td>\n",
       "      <td>...</td>\n",
       "      <td>...</td>\n",
       "      <td>...</td>\n",
       "    </tr>\n",
       "    <tr>\n",
       "      <th>748</th>\n",
       "      <td>USED</td>\n",
       "      <td>2022</td>\n",
       "      <td>FORD</td>\n",
       "      <td>MAVERICK</td>\n",
       "      <td>XL</td>\n",
       "      <td>32998.0</td>\n",
       "      <td>Gray</td>\n",
       "      <td>Black</td>\n",
       "      <td>All-wheel Drive</td>\n",
       "      <td>Gasoline</td>\n",
       "      <td>9719.0</td>\n",
       "      <td>2783 Corby Ave Santa Rosa, CA 95407</td>\n",
       "      <td>2023-05-12</td>\n",
       "    </tr>\n",
       "    <tr>\n",
       "      <th>749</th>\n",
       "      <td>USED</td>\n",
       "      <td>2023</td>\n",
       "      <td>FORD</td>\n",
       "      <td>MAVERICK</td>\n",
       "      <td>XLT</td>\n",
       "      <td>39999.0</td>\n",
       "      <td>Carbonized Gray Metallic</td>\n",
       "      <td>Navy Pier</td>\n",
       "      <td>All-wheel Drive</td>\n",
       "      <td>Gasoline</td>\n",
       "      <td>0.0</td>\n",
       "      <td>711 E Wishkah St Aberdeen, WA 98520</td>\n",
       "      <td>2023-05-12</td>\n",
       "    </tr>\n",
       "    <tr>\n",
       "      <th>750</th>\n",
       "      <td>USED</td>\n",
       "      <td>2023</td>\n",
       "      <td>FORD</td>\n",
       "      <td>MAVERICK</td>\n",
       "      <td>XLT</td>\n",
       "      <td>37999.0</td>\n",
       "      <td>Alto Blue Metallic Tinted Clearcoat</td>\n",
       "      <td>Navy Pier</td>\n",
       "      <td>Front-wheel Drive</td>\n",
       "      <td>Gasoline</td>\n",
       "      <td>45.0</td>\n",
       "      <td>711 E Wishkah St Aberdeen, WA 98520</td>\n",
       "      <td>2023-05-12</td>\n",
       "    </tr>\n",
       "    <tr>\n",
       "      <th>751</th>\n",
       "      <td>USED</td>\n",
       "      <td>2022</td>\n",
       "      <td>FORD</td>\n",
       "      <td>MAVERICK</td>\n",
       "      <td>XL</td>\n",
       "      <td>36988.0</td>\n",
       "      <td>Oxford White</td>\n",
       "      <td>Black Onyx</td>\n",
       "      <td>All-wheel Drive</td>\n",
       "      <td>Gasoline</td>\n",
       "      <td>13296.0</td>\n",
       "      <td>2701 E Mountain Village Dr Wasilla, AK 99654</td>\n",
       "      <td>2023-05-12</td>\n",
       "    </tr>\n",
       "    <tr>\n",
       "      <th>752</th>\n",
       "      <td>CERTIFIED</td>\n",
       "      <td>2022</td>\n",
       "      <td>FORD</td>\n",
       "      <td>MAVERICK</td>\n",
       "      <td>LARIAT</td>\n",
       "      <td>42987.0</td>\n",
       "      <td>Iconic Silver Metallic</td>\n",
       "      <td>Desert</td>\n",
       "      <td>All-wheel Drive</td>\n",
       "      <td>Gasoline</td>\n",
       "      <td>8788.0</td>\n",
       "      <td>98-15 Kamehameha Hwy Aiea, HI 96701</td>\n",
       "      <td>2023-05-12</td>\n",
       "    </tr>\n",
       "  </tbody>\n",
       "</table>\n",
       "<p>753 rows × 13 columns</p>\n",
       "</div>"
      ],
      "text/plain": [
       "     condition  model_year  make     model trim_level  list_price  \\\n",
       "0         USED        2023  FORD  MAVERICK        XLT     38988.0   \n",
       "1         USED        2023  FORD  MAVERICK     LARIAT     40873.0   \n",
       "2         USED        2022  FORD  MAVERICK         XL     34091.0   \n",
       "3         USED        2022  FORD  MAVERICK        XLT     35497.0   \n",
       "4         USED        2022  FORD  MAVERICK        XLT     36000.0   \n",
       "..         ...         ...   ...       ...        ...         ...   \n",
       "748       USED        2022  FORD  MAVERICK         XL     32998.0   \n",
       "749       USED        2023  FORD  MAVERICK        XLT     39999.0   \n",
       "750       USED        2023  FORD  MAVERICK        XLT     37999.0   \n",
       "751       USED        2022  FORD  MAVERICK         XL     36988.0   \n",
       "752  CERTIFIED        2022  FORD  MAVERICK     LARIAT     42987.0   \n",
       "\n",
       "                          exterior_color interior_color         fwd_or_awd  \\\n",
       "0        Hot Pepper Red Tinted Clearcoat      Navy Pier  Front-wheel Drive   \n",
       "1                           Oxford White         Desert    All-wheel Drive   \n",
       "2                 Iconic Silver Metallic     Black Onyx  Front-wheel Drive   \n",
       "3                                 Silver     Black Onyx  Front-wheel Drive   \n",
       "4                                Area 51      Navy Pier    All-wheel Drive   \n",
       "..                                   ...            ...                ...   \n",
       "748                                 Gray          Black    All-wheel Drive   \n",
       "749             Carbonized Gray Metallic      Navy Pier    All-wheel Drive   \n",
       "750  Alto Blue Metallic Tinted Clearcoat      Navy Pier  Front-wheel Drive   \n",
       "751                         Oxford White     Black Onyx    All-wheel Drive   \n",
       "752               Iconic Silver Metallic         Desert    All-wheel Drive   \n",
       "\n",
       "    hybrid_or_eco  mileage                                dealer_address  \\\n",
       "0          Hybrid     20.0           4328 Louisburg Rd Raleigh, NC 27604   \n",
       "1        Gasoline     42.0           4900 Capital Blvd Raleigh, NC 27616   \n",
       "2          Hybrid  14911.0    3940 Capital Hills Drive Raleigh, NC 27616   \n",
       "3        Gasoline  18425.0       9820 Capital Blvd Wake Forest, NC 27587   \n",
       "4        Gasoline   2913.0      11000 Capital Blvd Wake Forest, NC 27587   \n",
       "..            ...      ...                                           ...   \n",
       "748      Gasoline   9719.0           2783 Corby Ave Santa Rosa, CA 95407   \n",
       "749      Gasoline      0.0           711 E Wishkah St Aberdeen, WA 98520   \n",
       "750      Gasoline     45.0           711 E Wishkah St Aberdeen, WA 98520   \n",
       "751      Gasoline  13296.0  2701 E Mountain Village Dr Wasilla, AK 99654   \n",
       "752      Gasoline   8788.0           98-15 Kamehameha Hwy Aiea, HI 96701   \n",
       "\n",
       "    date_parsed  \n",
       "0    2023-05-12  \n",
       "1    2023-05-12  \n",
       "2    2023-05-12  \n",
       "3    2023-05-12  \n",
       "4    2023-05-12  \n",
       "..          ...  \n",
       "748  2023-05-12  \n",
       "749  2023-05-12  \n",
       "750  2023-05-12  \n",
       "751  2023-05-12  \n",
       "752  2023-05-12  \n",
       "\n",
       "[753 rows x 13 columns]"
      ]
     },
     "execution_count": 46,
     "metadata": {},
     "output_type": "execute_result"
    }
   ],
   "source": [
    "mavericks"
   ]
  },
  {
   "cell_type": "code",
   "execution_count": 47,
   "metadata": {},
   "outputs": [
    {
     "data": {
      "text/plain": [
       "count      717.000000\n",
       "mean     36722.054393\n",
       "std       4766.907061\n",
       "min          0.000000\n",
       "25%      34611.000000\n",
       "50%      36604.000000\n",
       "75%      38998.000000\n",
       "max      52000.000000\n",
       "Name: list_price, dtype: float64"
      ]
     },
     "execution_count": 47,
     "metadata": {},
     "output_type": "execute_result"
    }
   ],
   "source": [
    "mavericks.list_price.describe()"
   ]
  },
  {
   "cell_type": "code",
   "execution_count": 48,
   "metadata": {},
   "outputs": [
    {
     "data": {
      "text/plain": [
       "0      38988.0\n",
       "1      40873.0\n",
       "2      34091.0\n",
       "3      35497.0\n",
       "4      36000.0\n",
       "        ...   \n",
       "748    32998.0\n",
       "749    39999.0\n",
       "750    37999.0\n",
       "751    36988.0\n",
       "752    42987.0\n",
       "Name: list_price, Length: 753, dtype: float64"
      ]
     },
     "execution_count": 48,
     "metadata": {},
     "output_type": "execute_result"
    }
   ],
   "source": [
    "mavericks.list_price"
   ]
  },
  {
   "cell_type": "code",
   "execution_count": 49,
   "metadata": {},
   "outputs": [
    {
     "data": {
      "text/html": [
       "<div>\n",
       "<style scoped>\n",
       "    .dataframe tbody tr th:only-of-type {\n",
       "        vertical-align: middle;\n",
       "    }\n",
       "\n",
       "    .dataframe tbody tr th {\n",
       "        vertical-align: top;\n",
       "    }\n",
       "\n",
       "    .dataframe thead th {\n",
       "        text-align: right;\n",
       "    }\n",
       "</style>\n",
       "<table border=\"1\" class=\"dataframe\">\n",
       "  <thead>\n",
       "    <tr style=\"text-align: right;\">\n",
       "      <th></th>\n",
       "      <th>count</th>\n",
       "    </tr>\n",
       "    <tr>\n",
       "      <th>trim_level</th>\n",
       "      <th></th>\n",
       "    </tr>\n",
       "  </thead>\n",
       "  <tbody>\n",
       "    <tr>\n",
       "      <th>6N</th>\n",
       "      <td>2</td>\n",
       "    </tr>\n",
       "    <tr>\n",
       "      <th>FOR</th>\n",
       "      <td>20</td>\n",
       "    </tr>\n",
       "    <tr>\n",
       "      <th>LARIAT</th>\n",
       "      <td>167</td>\n",
       "    </tr>\n",
       "    <tr>\n",
       "      <th>SPRINT</th>\n",
       "      <td>1</td>\n",
       "    </tr>\n",
       "    <tr>\n",
       "      <th>SUPERC</th>\n",
       "      <td>9</td>\n",
       "    </tr>\n",
       "    <tr>\n",
       "      <th>XL</th>\n",
       "      <td>183</td>\n",
       "    </tr>\n",
       "    <tr>\n",
       "      <th>XLT</th>\n",
       "      <td>371</td>\n",
       "    </tr>\n",
       "  </tbody>\n",
       "</table>\n",
       "</div>"
      ],
      "text/plain": [
       "            count\n",
       "trim_level       \n",
       "6N              2\n",
       "FOR            20\n",
       "LARIAT        167\n",
       "SPRINT          1\n",
       "SUPERC          9\n",
       "XL            183\n",
       "XLT           371"
      ]
     },
     "execution_count": 49,
     "metadata": {},
     "output_type": "execute_result"
    }
   ],
   "source": [
    "mavericks.groupby(by='trim_level').count()['condition'].to_frame().rename(columns={'condition':'count'})"
   ]
  },
  {
   "cell_type": "code",
   "execution_count": 50,
   "metadata": {},
   "outputs": [
    {
     "data": {
      "text/html": [
       "<div>\n",
       "<style scoped>\n",
       "    .dataframe tbody tr th:only-of-type {\n",
       "        vertical-align: middle;\n",
       "    }\n",
       "\n",
       "    .dataframe tbody tr th {\n",
       "        vertical-align: top;\n",
       "    }\n",
       "\n",
       "    .dataframe thead th {\n",
       "        text-align: right;\n",
       "    }\n",
       "</style>\n",
       "<table border=\"1\" class=\"dataframe\">\n",
       "  <thead>\n",
       "    <tr style=\"text-align: right;\">\n",
       "      <th></th>\n",
       "      <th>condition</th>\n",
       "      <th>model_year</th>\n",
       "      <th>make</th>\n",
       "      <th>model</th>\n",
       "      <th>trim_level</th>\n",
       "      <th>list_price</th>\n",
       "      <th>exterior_color</th>\n",
       "      <th>interior_color</th>\n",
       "      <th>fwd_or_awd</th>\n",
       "      <th>hybrid_or_eco</th>\n",
       "      <th>mileage</th>\n",
       "      <th>dealer_address</th>\n",
       "      <th>date_parsed</th>\n",
       "    </tr>\n",
       "  </thead>\n",
       "  <tbody>\n",
       "    <tr>\n",
       "      <th>77</th>\n",
       "      <td>USED</td>\n",
       "      <td>2022</td>\n",
       "      <td>FORD</td>\n",
       "      <td>MAVERICK</td>\n",
       "      <td>LARIAT</td>\n",
       "      <td>0.0</td>\n",
       "      <td>Carbonized Grey Metallic</td>\n",
       "      <td>Desert Brown</td>\n",
       "      <td>Front-wheel Drive</td>\n",
       "      <td>Gasoline</td>\n",
       "      <td>7518.0</td>\n",
       "      <td>700 N US Route 15 Dillsburg, PA 17019</td>\n",
       "      <td>2023-05-12</td>\n",
       "    </tr>\n",
       "    <tr>\n",
       "      <th>272</th>\n",
       "      <td>USED</td>\n",
       "      <td>2022</td>\n",
       "      <td>FORD</td>\n",
       "      <td>MAVERICK</td>\n",
       "      <td>XLT</td>\n",
       "      <td>0.0</td>\n",
       "      <td>Blue</td>\n",
       "      <td>Navy Pier/Medium Slate</td>\n",
       "      <td>All-wheel Drive</td>\n",
       "      <td>Gasoline</td>\n",
       "      <td>11649.0</td>\n",
       "      <td>45 Washington St Foxboro, MA 02035</td>\n",
       "      <td>2023-05-12</td>\n",
       "    </tr>\n",
       "    <tr>\n",
       "      <th>414</th>\n",
       "      <td>USED</td>\n",
       "      <td>2022</td>\n",
       "      <td>FORD</td>\n",
       "      <td>MAVERICK</td>\n",
       "      <td>XLT</td>\n",
       "      <td>0.0</td>\n",
       "      <td>–</td>\n",
       "      <td>Navy Pier/Medium Slate</td>\n",
       "      <td>Front-wheel Drive</td>\n",
       "      <td>Gasoline</td>\n",
       "      <td>23050.0</td>\n",
       "      <td>308 N Outer Rd St James, MO 65559</td>\n",
       "      <td>2023-05-12</td>\n",
       "    </tr>\n",
       "    <tr>\n",
       "      <th>553</th>\n",
       "      <td>USED</td>\n",
       "      <td>2022</td>\n",
       "      <td>FORD</td>\n",
       "      <td>MAVERICK</td>\n",
       "      <td>XLT</td>\n",
       "      <td>0.0</td>\n",
       "      <td>–</td>\n",
       "      <td>Navy Pier/Medium Slate</td>\n",
       "      <td>Front-wheel Drive</td>\n",
       "      <td>Gasoline</td>\n",
       "      <td>9857.0</td>\n",
       "      <td>815 Nw 4th St Grand Rapids, MN 55744</td>\n",
       "      <td>2023-05-12</td>\n",
       "    </tr>\n",
       "  </tbody>\n",
       "</table>\n",
       "</div>"
      ],
      "text/plain": [
       "    condition  model_year  make     model trim_level  list_price  \\\n",
       "77       USED        2022  FORD  MAVERICK     LARIAT         0.0   \n",
       "272      USED        2022  FORD  MAVERICK        XLT         0.0   \n",
       "414      USED        2022  FORD  MAVERICK        XLT         0.0   \n",
       "553      USED        2022  FORD  MAVERICK        XLT         0.0   \n",
       "\n",
       "               exterior_color          interior_color         fwd_or_awd  \\\n",
       "77   Carbonized Grey Metallic            Desert Brown  Front-wheel Drive   \n",
       "272                      Blue  Navy Pier/Medium Slate    All-wheel Drive   \n",
       "414                         –  Navy Pier/Medium Slate  Front-wheel Drive   \n",
       "553                         –  Navy Pier/Medium Slate  Front-wheel Drive   \n",
       "\n",
       "    hybrid_or_eco  mileage                         dealer_address date_parsed  \n",
       "77       Gasoline   7518.0  700 N US Route 15 Dillsburg, PA 17019  2023-05-12  \n",
       "272      Gasoline  11649.0     45 Washington St Foxboro, MA 02035  2023-05-12  \n",
       "414      Gasoline  23050.0      308 N Outer Rd St James, MO 65559  2023-05-12  \n",
       "553      Gasoline   9857.0   815 Nw 4th St Grand Rapids, MN 55744  2023-05-12  "
      ]
     },
     "execution_count": 50,
     "metadata": {},
     "output_type": "execute_result"
    }
   ],
   "source": [
    "mavericks[mavericks.list_price == 0]"
   ]
  },
  {
   "cell_type": "code",
   "execution_count": 51,
   "metadata": {},
   "outputs": [
    {
     "data": {
      "text/plain": [
       "count       751.000000\n",
       "mean       9528.392810\n",
       "std       12418.448861\n",
       "min           0.000000\n",
       "25%        1332.000000\n",
       "50%        6339.000000\n",
       "75%       13348.500000\n",
       "max      169337.000000\n",
       "Name: mileage, dtype: float64"
      ]
     },
     "execution_count": 51,
     "metadata": {},
     "output_type": "execute_result"
    }
   ],
   "source": [
    "mavericks.mileage.describe()"
   ]
  },
  {
   "cell_type": "code",
   "execution_count": 52,
   "metadata": {},
   "outputs": [
    {
     "data": {
      "text/html": [
       "<div>\n",
       "<style scoped>\n",
       "    .dataframe tbody tr th:only-of-type {\n",
       "        vertical-align: middle;\n",
       "    }\n",
       "\n",
       "    .dataframe tbody tr th {\n",
       "        vertical-align: top;\n",
       "    }\n",
       "\n",
       "    .dataframe thead th {\n",
       "        text-align: right;\n",
       "    }\n",
       "</style>\n",
       "<table border=\"1\" class=\"dataframe\">\n",
       "  <thead>\n",
       "    <tr style=\"text-align: right;\">\n",
       "      <th></th>\n",
       "      <th>condition</th>\n",
       "      <th>model_year</th>\n",
       "      <th>make</th>\n",
       "      <th>model</th>\n",
       "      <th>trim_level</th>\n",
       "      <th>list_price</th>\n",
       "      <th>exterior_color</th>\n",
       "      <th>interior_color</th>\n",
       "      <th>fwd_or_awd</th>\n",
       "      <th>hybrid_or_eco</th>\n",
       "      <th>mileage</th>\n",
       "      <th>dealer_address</th>\n",
       "      <th>date_parsed</th>\n",
       "    </tr>\n",
       "  </thead>\n",
       "  <tbody>\n",
       "    <tr>\n",
       "      <th>269</th>\n",
       "      <td>CERTIFIED</td>\n",
       "      <td>2022</td>\n",
       "      <td>FORD</td>\n",
       "      <td>MAVERICK</td>\n",
       "      <td>XLT</td>\n",
       "      <td>38900.0</td>\n",
       "      <td>ICONIC SILVER METALLIC</td>\n",
       "      <td>NAVY PIER -MED SLATE TRIM</td>\n",
       "      <td>–</td>\n",
       "      <td>–</td>\n",
       "      <td>169337.0</td>\n",
       "      <td>3004 East Avenue, Rt 49 Central Square, NY 13036</td>\n",
       "      <td>2023-05-12</td>\n",
       "    </tr>\n",
       "    <tr>\n",
       "      <th>385</th>\n",
       "      <td>USED</td>\n",
       "      <td>2022</td>\n",
       "      <td>FORD</td>\n",
       "      <td>MAVERICK</td>\n",
       "      <td>XLT</td>\n",
       "      <td>27945.0</td>\n",
       "      <td>Blue</td>\n",
       "      <td>Gray</td>\n",
       "      <td>All-wheel Drive</td>\n",
       "      <td>Gasoline</td>\n",
       "      <td>113522.0</td>\n",
       "      <td>25W175 Lake St Roselle, IL 60172</td>\n",
       "      <td>2023-05-12</td>\n",
       "    </tr>\n",
       "  </tbody>\n",
       "</table>\n",
       "</div>"
      ],
      "text/plain": [
       "     condition  model_year  make     model trim_level  list_price  \\\n",
       "269  CERTIFIED        2022  FORD  MAVERICK        XLT     38900.0   \n",
       "385       USED        2022  FORD  MAVERICK        XLT     27945.0   \n",
       "\n",
       "             exterior_color             interior_color       fwd_or_awd  \\\n",
       "269  ICONIC SILVER METALLIC  NAVY PIER -MED SLATE TRIM                –   \n",
       "385                    Blue                       Gray  All-wheel Drive   \n",
       "\n",
       "    hybrid_or_eco   mileage                                    dealer_address  \\\n",
       "269             –  169337.0  3004 East Avenue, Rt 49 Central Square, NY 13036   \n",
       "385      Gasoline  113522.0                  25W175 Lake St Roselle, IL 60172   \n",
       "\n",
       "    date_parsed  \n",
       "269  2023-05-12  \n",
       "385  2023-05-12  "
      ]
     },
     "execution_count": 52,
     "metadata": {},
     "output_type": "execute_result"
    }
   ],
   "source": [
    "mavericks[mavericks.mileage >= 100000]"
   ]
  },
  {
   "cell_type": "code",
   "execution_count": 53,
   "metadata": {},
   "outputs": [
    {
     "data": {
      "text/html": [
       "<div>\n",
       "<style scoped>\n",
       "    .dataframe tbody tr th:only-of-type {\n",
       "        vertical-align: middle;\n",
       "    }\n",
       "\n",
       "    .dataframe tbody tr th {\n",
       "        vertical-align: top;\n",
       "    }\n",
       "\n",
       "    .dataframe thead th {\n",
       "        text-align: right;\n",
       "    }\n",
       "</style>\n",
       "<table border=\"1\" class=\"dataframe\">\n",
       "  <thead>\n",
       "    <tr style=\"text-align: right;\">\n",
       "      <th></th>\n",
       "      <th>condition</th>\n",
       "      <th>model_year</th>\n",
       "      <th>make</th>\n",
       "      <th>model</th>\n",
       "      <th>trim_level</th>\n",
       "      <th>list_price</th>\n",
       "      <th>exterior_color</th>\n",
       "      <th>interior_color</th>\n",
       "      <th>fwd_or_awd</th>\n",
       "      <th>hybrid_or_eco</th>\n",
       "      <th>mileage</th>\n",
       "      <th>dealer_address</th>\n",
       "      <th>date_parsed</th>\n",
       "    </tr>\n",
       "  </thead>\n",
       "  <tbody>\n",
       "    <tr>\n",
       "      <th>1</th>\n",
       "      <td>USED</td>\n",
       "      <td>2023</td>\n",
       "      <td>FORD</td>\n",
       "      <td>MAVERICK</td>\n",
       "      <td>LARIAT</td>\n",
       "      <td>40873.0</td>\n",
       "      <td>Oxford White</td>\n",
       "      <td>Desert</td>\n",
       "      <td>All-wheel Drive</td>\n",
       "      <td>Gasoline</td>\n",
       "      <td>42.0</td>\n",
       "      <td>4900 Capital Blvd Raleigh, NC 27616</td>\n",
       "      <td>2023-05-12</td>\n",
       "    </tr>\n",
       "    <tr>\n",
       "      <th>28</th>\n",
       "      <td>USED</td>\n",
       "      <td>2022</td>\n",
       "      <td>FORD</td>\n",
       "      <td>MAVERICK</td>\n",
       "      <td>LARIAT</td>\n",
       "      <td>43700.0</td>\n",
       "      <td>Area 51</td>\n",
       "      <td>Desert</td>\n",
       "      <td>Front-wheel Drive</td>\n",
       "      <td>Hybrid</td>\n",
       "      <td>7683.0</td>\n",
       "      <td>617 N Main St Belmont, NC 28012</td>\n",
       "      <td>2023-05-12</td>\n",
       "    </tr>\n",
       "    <tr>\n",
       "      <th>29</th>\n",
       "      <td>USED</td>\n",
       "      <td>2022</td>\n",
       "      <td>FORD</td>\n",
       "      <td>MAVERICK</td>\n",
       "      <td>XLT</td>\n",
       "      <td>41800.0</td>\n",
       "      <td>Velocity Blue Metallic</td>\n",
       "      <td>Navy Pier</td>\n",
       "      <td>Front-wheel Drive</td>\n",
       "      <td>Hybrid</td>\n",
       "      <td>14930.0</td>\n",
       "      <td>617 N Main St Belmont, NC 28012</td>\n",
       "      <td>2023-05-12</td>\n",
       "    </tr>\n",
       "    <tr>\n",
       "      <th>46</th>\n",
       "      <td>USED</td>\n",
       "      <td>2023</td>\n",
       "      <td>FORD</td>\n",
       "      <td>MAVERICK</td>\n",
       "      <td>LARIAT</td>\n",
       "      <td>49997.0</td>\n",
       "      <td>White</td>\n",
       "      <td>Black Onyx</td>\n",
       "      <td>All-wheel Drive</td>\n",
       "      <td>Gasoline</td>\n",
       "      <td>135.0</td>\n",
       "      <td>6510 Little River Tpke Alexandria, VA 22312</td>\n",
       "      <td>2023-05-12</td>\n",
       "    </tr>\n",
       "    <tr>\n",
       "      <th>47</th>\n",
       "      <td>USED</td>\n",
       "      <td>2023</td>\n",
       "      <td>FORD</td>\n",
       "      <td>MAVERICK</td>\n",
       "      <td>XLT</td>\n",
       "      <td>41000.0</td>\n",
       "      <td>Blue</td>\n",
       "      <td>Navy Pier</td>\n",
       "      <td>Front-wheel Drive</td>\n",
       "      <td>Gasoline</td>\n",
       "      <td>145.0</td>\n",
       "      <td>6510 Little River Tpke Alexandria, VA 22312</td>\n",
       "      <td>2023-05-12</td>\n",
       "    </tr>\n",
       "    <tr>\n",
       "      <th>...</th>\n",
       "      <td>...</td>\n",
       "      <td>...</td>\n",
       "      <td>...</td>\n",
       "      <td>...</td>\n",
       "      <td>...</td>\n",
       "      <td>...</td>\n",
       "      <td>...</td>\n",
       "      <td>...</td>\n",
       "      <td>...</td>\n",
       "      <td>...</td>\n",
       "      <td>...</td>\n",
       "      <td>...</td>\n",
       "      <td>...</td>\n",
       "    </tr>\n",
       "    <tr>\n",
       "      <th>741</th>\n",
       "      <td>USED</td>\n",
       "      <td>2023</td>\n",
       "      <td>FORD</td>\n",
       "      <td>MAVERICK</td>\n",
       "      <td>LARIAT</td>\n",
       "      <td>40800.0</td>\n",
       "      <td>Shadow Black</td>\n",
       "      <td>Desert</td>\n",
       "      <td>All-wheel Drive</td>\n",
       "      <td>Gasoline</td>\n",
       "      <td>3065.0</td>\n",
       "      <td>2100 N Broadway Walnut Creek, CA 94596</td>\n",
       "      <td>2023-05-12</td>\n",
       "    </tr>\n",
       "    <tr>\n",
       "      <th>743</th>\n",
       "      <td>USED</td>\n",
       "      <td>2022</td>\n",
       "      <td>FORD</td>\n",
       "      <td>MAVERICK</td>\n",
       "      <td>LARIAT</td>\n",
       "      <td>40987.0</td>\n",
       "      <td>Shadow Black</td>\n",
       "      <td>Desert</td>\n",
       "      <td>All-wheel Drive</td>\n",
       "      <td>Gasoline</td>\n",
       "      <td>4280.0</td>\n",
       "      <td>3900 Portland Rd Newberg, OR 97132</td>\n",
       "      <td>2023-05-12</td>\n",
       "    </tr>\n",
       "    <tr>\n",
       "      <th>744</th>\n",
       "      <td>USED</td>\n",
       "      <td>2022</td>\n",
       "      <td>FORD</td>\n",
       "      <td>MAVERICK</td>\n",
       "      <td>SUPERC</td>\n",
       "      <td>43998.0</td>\n",
       "      <td>Iconic Silver</td>\n",
       "      <td>Navy Pier</td>\n",
       "      <td>Front-wheel Drive</td>\n",
       "      <td>Hybrid</td>\n",
       "      <td>10109.0</td>\n",
       "      <td>2517 Biddle Road Medford, OR 97504</td>\n",
       "      <td>2023-05-12</td>\n",
       "    </tr>\n",
       "    <tr>\n",
       "      <th>747</th>\n",
       "      <td>USED</td>\n",
       "      <td>2022</td>\n",
       "      <td>FORD</td>\n",
       "      <td>MAVERICK</td>\n",
       "      <td>LARIAT</td>\n",
       "      <td>42990.0</td>\n",
       "      <td>Green</td>\n",
       "      <td>Desert</td>\n",
       "      <td>All-wheel Drive</td>\n",
       "      <td>Gasoline</td>\n",
       "      <td>12015.0</td>\n",
       "      <td>846 Goodpasture Island Rd Eugene, OR 97401</td>\n",
       "      <td>2023-05-12</td>\n",
       "    </tr>\n",
       "    <tr>\n",
       "      <th>752</th>\n",
       "      <td>CERTIFIED</td>\n",
       "      <td>2022</td>\n",
       "      <td>FORD</td>\n",
       "      <td>MAVERICK</td>\n",
       "      <td>LARIAT</td>\n",
       "      <td>42987.0</td>\n",
       "      <td>Iconic Silver Metallic</td>\n",
       "      <td>Desert</td>\n",
       "      <td>All-wheel Drive</td>\n",
       "      <td>Gasoline</td>\n",
       "      <td>8788.0</td>\n",
       "      <td>98-15 Kamehameha Hwy Aiea, HI 96701</td>\n",
       "      <td>2023-05-12</td>\n",
       "    </tr>\n",
       "  </tbody>\n",
       "</table>\n",
       "<p>121 rows × 13 columns</p>\n",
       "</div>"
      ],
      "text/plain": [
       "     condition  model_year  make     model trim_level  list_price  \\\n",
       "1         USED        2023  FORD  MAVERICK     LARIAT     40873.0   \n",
       "28        USED        2022  FORD  MAVERICK     LARIAT     43700.0   \n",
       "29        USED        2022  FORD  MAVERICK        XLT     41800.0   \n",
       "46        USED        2023  FORD  MAVERICK     LARIAT     49997.0   \n",
       "47        USED        2023  FORD  MAVERICK        XLT     41000.0   \n",
       "..         ...         ...   ...       ...        ...         ...   \n",
       "741       USED        2023  FORD  MAVERICK     LARIAT     40800.0   \n",
       "743       USED        2022  FORD  MAVERICK     LARIAT     40987.0   \n",
       "744       USED        2022  FORD  MAVERICK     SUPERC     43998.0   \n",
       "747       USED        2022  FORD  MAVERICK     LARIAT     42990.0   \n",
       "752  CERTIFIED        2022  FORD  MAVERICK     LARIAT     42987.0   \n",
       "\n",
       "             exterior_color interior_color         fwd_or_awd hybrid_or_eco  \\\n",
       "1              Oxford White         Desert    All-wheel Drive      Gasoline   \n",
       "28                  Area 51         Desert  Front-wheel Drive        Hybrid   \n",
       "29   Velocity Blue Metallic      Navy Pier  Front-wheel Drive        Hybrid   \n",
       "46                    White     Black Onyx    All-wheel Drive      Gasoline   \n",
       "47                     Blue      Navy Pier  Front-wheel Drive      Gasoline   \n",
       "..                      ...            ...                ...           ...   \n",
       "741            Shadow Black         Desert    All-wheel Drive      Gasoline   \n",
       "743            Shadow Black         Desert    All-wheel Drive      Gasoline   \n",
       "744           Iconic Silver      Navy Pier  Front-wheel Drive        Hybrid   \n",
       "747                   Green         Desert    All-wheel Drive      Gasoline   \n",
       "752  Iconic Silver Metallic         Desert    All-wheel Drive      Gasoline   \n",
       "\n",
       "     mileage                               dealer_address date_parsed  \n",
       "1       42.0          4900 Capital Blvd Raleigh, NC 27616  2023-05-12  \n",
       "28    7683.0              617 N Main St Belmont, NC 28012  2023-05-12  \n",
       "29   14930.0              617 N Main St Belmont, NC 28012  2023-05-12  \n",
       "46     135.0  6510 Little River Tpke Alexandria, VA 22312  2023-05-12  \n",
       "47     145.0  6510 Little River Tpke Alexandria, VA 22312  2023-05-12  \n",
       "..       ...                                          ...         ...  \n",
       "741   3065.0       2100 N Broadway Walnut Creek, CA 94596  2023-05-12  \n",
       "743   4280.0           3900 Portland Rd Newberg, OR 97132  2023-05-12  \n",
       "744  10109.0           2517 Biddle Road Medford, OR 97504  2023-05-12  \n",
       "747  12015.0   846 Goodpasture Island Rd Eugene, OR 97401  2023-05-12  \n",
       "752   8788.0          98-15 Kamehameha Hwy Aiea, HI 96701  2023-05-12  \n",
       "\n",
       "[121 rows x 13 columns]"
      ]
     },
     "execution_count": 53,
     "metadata": {},
     "output_type": "execute_result"
    }
   ],
   "source": [
    "mavericks[mavericks.list_price >= 40000]"
   ]
  },
  {
   "cell_type": "code",
   "execution_count": 54,
   "metadata": {},
   "outputs": [
    {
     "data": {
      "text/plain": [
       "<seaborn.axisgrid.FacetGrid at 0x7fef1e9e8fd0>"
      ]
     },
     "execution_count": 54,
     "metadata": {},
     "output_type": "execute_result"
    },
    {
     "data": {
      "image/png": "[encoded data removed]",
      "text/plain": [
       "<Figure size 360x360 with 1 Axes>"
      ]
     },
     "metadata": {
      "needs_background": "light"
     },
     "output_type": "display_data"
    }
   ],
   "source": [
    "sb.displot(mavericks.list_price)"
   ]
  },
  {
   "cell_type": "code",
   "execution_count": 55,
   "metadata": {},
   "outputs": [
    {
     "data": {
      "application/vnd.plotly.v1+json": {
       "config": {
        "plotlyServerURL": "https://plotly.com"
       },
       "data": [
        {
         "alignmentgroup": "True",
         "bingroup": "x",
         "hovertemplate": "list_price=%{x}<br>count=%{y}<extra></extra>",
         "legendgroup": "",
         "marker": {
          "color": "#636efa",
          "pattern": {
           "shape": ""
          }
         },
         "name": "",
         "offsetgroup": "",
         "orientation": "v",
         "showlegend": false,
         "type": "histogram",
         "x": [
          38988,
          40873,
          34091,
          35497,
          36000,
          38989,
          38695,
          37787,
          37900,
          37773,
          35473,
          37093,
          34998,
          36604,
          35998,
          39596,
          36900,
          36700,
          34812,
          37599,
          38968,
          34765,
          39999,
          37492,
          35320,
          35997,
          36988,
          35900,
          43700,
          41800,
          31634,
          39900,
          34498,
          30998,
          32500,
          33853,
          29995,
          29995,
          29995,
          29995,
          37173,
          38250,
          29988,
          29743,
          29742,
          28810,
          49997,
          41000,
          32649,
          38678,
          39988,
          33995,
          36903,
          37824,
          36000,
          32998,
          42998,
          31998,
          35998,
          37000,
          36599,
          33998,
          38000,
          34000,
          38998,
          37999,
          34395,
          46828,
          35399,
          37895,
          41995,
          33495,
          36875,
          33000,
          36000,
          36500,
          35000,
          0,
          31000,
          33500,
          34500,
          34500,
          32509,
          35499,
          38843,
          38574,
          39995,
          35332,
          38495,
          35598,
          35545,
          35706,
          30670,
          30998,
          33399,
          38993,
          34991,
          35206,
          33968,
          38999,
          38995,
          32588,
          29995,
          43582,
          51825,
          32975,
          40654,
          34995,
          37695,
          34900,
          35998,
          39998,
          null,
          35998,
          37900,
          39855,
          34999,
          35914,
          30950,
          35468,
          34990,
          31788,
          34622,
          36991,
          39992,
          36522,
          33463,
          34995,
          35500,
          null,
          null,
          33998,
          31995,
          36990,
          35998,
          34988,
          34000,
          30895,
          33988,
          38998,
          37262,
          35998,
          36642,
          36900,
          40900,
          35650,
          38815,
          36975,
          46500,
          39995,
          35000,
          null,
          35682,
          32632,
          null,
          33500,
          31990,
          null,
          37980,
          39980,
          34199,
          37398,
          35101,
          37998,
          35333,
          40998,
          34950,
          28999,
          32998,
          35998,
          35990,
          34600,
          35500,
          35955,
          42454,
          42351,
          39459,
          35588,
          32990,
          32990,
          31500,
          35887,
          45524,
          39400,
          39897,
          34985,
          44995,
          37051,
          37990,
          34799,
          27839,
          39986,
          32900,
          null,
          42000,
          34990,
          34877,
          33995,
          35998,
          34836,
          28797,
          45752,
          47995,
          null,
          37998,
          37995,
          34988,
          38995,
          36899,
          30999,
          35998,
          42852,
          40750,
          40970,
          39457,
          null,
          42980,
          35233,
          34611,
          42991,
          35999,
          37500,
          33891,
          39994,
          34899,
          32995,
          37998,
          31964,
          34500,
          38450,
          42735,
          33564,
          35574,
          36300,
          36999,
          39998,
          39524,
          33900,
          36639,
          31700,
          34990,
          30988,
          35900,
          30837,
          37898,
          36995,
          36040,
          38900,
          40899,
          35698,
          43555,
          35991,
          42888,
          40747,
          41477,
          28998,
          42890,
          42997,
          35454,
          33884,
          34456,
          36988,
          35929,
          37995,
          42900,
          35999,
          41477,
          33883,
          38899,
          38900,
          34999,
          32543,
          0,
          30995,
          38980,
          33490,
          36277,
          35990,
          35600,
          35998,
          35487,
          32900,
          31900,
          32998,
          33800,
          35997,
          36500,
          29999,
          34999,
          44949,
          45990,
          36999,
          33499,
          35000,
          41778,
          39060,
          39500,
          36000,
          35949,
          35641,
          32596,
          38995,
          34000,
          35000,
          41500,
          38445,
          36825,
          38779,
          38995,
          40084,
          32984,
          40995,
          35995,
          36995,
          40991,
          34991,
          29999,
          40495,
          39995,
          37591,
          31998,
          31999,
          36395,
          31910,
          31910,
          31910,
          31910,
          37998,
          39410,
          40875,
          35991,
          34907,
          34950,
          36499,
          23950,
          11950,
          34817,
          32761,
          34890,
          42850,
          37850,
          37698,
          34898,
          38990,
          31495,
          32991,
          33991,
          36000,
          42995,
          null,
          31798,
          36998,
          31998,
          36883,
          34998,
          36900,
          39346,
          39000,
          41999,
          37864,
          36950,
          35947,
          null,
          33999,
          30962,
          33990,
          null,
          null,
          null,
          34977,
          35450,
          44350,
          39750,
          45997,
          40899,
          32995,
          30995,
          37995,
          35999,
          36995,
          31500,
          42000,
          42800,
          39800,
          36200,
          27945,
          36774,
          41626,
          38998,
          39995,
          45000,
          35999,
          36395,
          39900,
          39000,
          52000,
          31994,
          35130,
          41995,
          43988,
          34851,
          43995,
          35488,
          37652,
          40982,
          36900,
          null,
          36593,
          29993,
          37991,
          37498,
          39586,
          31995,
          38095,
          0,
          38900,
          34634,
          40408,
          33700,
          36342,
          35734,
          42633,
          36250,
          37000,
          37500,
          37500,
          38988,
          37495,
          34300,
          39780,
          35995,
          34943,
          39855,
          33985,
          35980,
          35997,
          38059,
          37333,
          31995,
          38581,
          36249,
          35995,
          37995,
          35937,
          42229,
          38000,
          38495,
          36201,
          40047,
          null,
          35998,
          37799,
          36790,
          44997,
          47997,
          32900,
          39900,
          38500,
          34500,
          40000,
          34500,
          41998,
          40779,
          34962,
          39832,
          35600,
          35995,
          44336,
          37999,
          38677,
          37900,
          35800,
          34147,
          29987,
          35312,
          35199,
          36980,
          38790,
          38750,
          34983,
          32500,
          40988,
          29991,
          33900,
          36895,
          39999,
          33297,
          34995,
          34995,
          41250,
          36500,
          null,
          37000,
          33055,
          null,
          38997,
          31541,
          33993,
          34980,
          32000,
          40500,
          34383,
          33980,
          31783,
          33782,
          27888,
          34999,
          36990,
          37900,
          44950,
          36950,
          36500,
          27995,
          35494,
          44750,
          38999,
          37127,
          36992,
          39994,
          34989,
          41995,
          37000,
          null,
          35999,
          35000,
          36500,
          40000,
          33750,
          38904,
          35905,
          36499,
          34608,
          34500,
          39880,
          34999,
          42497,
          37500,
          37497,
          33900,
          35999,
          34985,
          33991,
          39995,
          33333,
          35540,
          37732,
          35995,
          33433,
          34990,
          37982,
          39991,
          40892,
          35998,
          0,
          39580,
          36362,
          35999,
          39005,
          34996,
          38901,
          32495,
          null,
          29995,
          38991,
          42291,
          38918,
          null,
          40995,
          39998,
          38340,
          36991,
          39162,
          28495,
          35888,
          33491,
          42999,
          42177,
          42379,
          36448,
          33816,
          31900,
          38849,
          38998,
          36998,
          null,
          null,
          null,
          34400,
          35000,
          41000,
          null,
          37299,
          37599,
          null,
          40000,
          38590,
          37800,
          41890,
          39990,
          37990,
          39990,
          39488,
          39999,
          38080,
          35000,
          32998,
          38393,
          36998,
          null,
          36010,
          34283,
          25500,
          36988,
          42988,
          null,
          42990,
          27999,
          35995,
          38923,
          27995,
          35232,
          31999,
          35500,
          35990,
          38990,
          41900,
          34494,
          null,
          41963,
          45999,
          38812,
          42999,
          36601,
          37888,
          33888,
          38888,
          38999,
          null,
          null,
          32988,
          41995,
          43844,
          40595,
          41998,
          37430,
          null,
          33591,
          38995,
          36998,
          38489,
          30600,
          40875,
          39975,
          43950,
          34000,
          31999,
          39998,
          33998,
          31495,
          34888,
          37495,
          35995,
          37495,
          38895,
          36998,
          44998,
          32295,
          36234,
          35998,
          38977,
          44777,
          31785,
          35632,
          45791,
          39777,
          34798,
          36500,
          null,
          36998,
          35998,
          42901,
          38741,
          38861,
          38981,
          31998,
          38998,
          38998,
          34250,
          35988,
          39988,
          32000,
          null,
          34500,
          38799,
          36988,
          34500,
          37695,
          41000,
          38195,
          40690,
          40690,
          42000,
          34500,
          38991,
          41989,
          34320,
          40998,
          42951,
          34998,
          38991,
          38761,
          38106,
          39233,
          39999,
          33865,
          43988,
          35988,
          46988,
          46988,
          35988,
          37995,
          34441,
          37330,
          null,
          null,
          45971,
          37254,
          43099,
          40678,
          33511,
          36500,
          34999,
          39998,
          36998,
          36997,
          31998,
          37999,
          35998,
          33950,
          36950,
          36998,
          40800,
          36981,
          40987,
          43998,
          35531,
          38661,
          42990,
          32998,
          39999,
          37999,
          36988,
          42987
         ],
         "xaxis": "x",
         "yaxis": "y"
        }
       ],
       "layout": {
        "barmode": "relative",
        "legend": {
         "tracegroupgap": 0
        },
        "margin": {
         "t": 60
        },
        "template": {
         "data": {
          "bar": [
           {
            "error_x": {
             "color": "#2a3f5f"
            },
            "error_y": {
             "color": "#2a3f5f"
            },
            "marker": {
             "line": {
              "color": "#E5ECF6",
              "width": 0.5
             },
             "pattern": {
              "fillmode": "overlay",
              "size": 10,
              "solidity": 0.2
             }
            },
            "type": "bar"
           }
          ],
          "barpolar": [
           {
            "marker": {
             "line": {
              "color": "#E5ECF6",
              "width": 0.5
             },
             "pattern": {
              "fillmode": "overlay",
              "size": 10,
              "solidity": 0.2
             }
            },
            "type": "barpolar"
           }
          ],
          "carpet": [
           {
            "aaxis": {
             "endlinecolor": "#2a3f5f",
             "gridcolor": "white",
             "linecolor": "white",
             "minorgridcolor": "white",
             "startlinecolor": "#2a3f5f"
            },
            "baxis": {
             "endlinecolor": "#2a3f5f",
             "gridcolor": "white",
             "linecolor": "white",
             "minorgridcolor": "white",
             "startlinecolor": "#2a3f5f"
            },
            "type": "carpet"
           }
          ],
          "choropleth": [
           {
            "colorbar": {
             "outlinewidth": 0,
             "ticks": ""
            },
            "type": "choropleth"
           }
          ],
          "contour": [
           {
            "colorbar": {
             "outlinewidth": 0,
             "ticks": ""
            },
            "colorscale": [
             [
              0,
              "#0d0887"
             ],
             [
              0.1111111111111111,
              "#46039f"
             ],
             [
              0.2222222222222222,
              "#7201a8"
             ],
             [
              0.3333333333333333,
              "#9c179e"
             ],
             [
              0.4444444444444444,
              "#bd3786"
             ],
             [
              0.5555555555555556,
              "#d8576b"
             ],
             [
              0.6666666666666666,
              "#ed7953"
             ],
             [
              0.7777777777777778,
              "#fb9f3a"
             ],
             [
              0.8888888888888888,
              "#fdca26"
             ],
             [
              1,
              "#f0f921"
             ]
            ],
            "type": "contour"
           }
          ],
          "contourcarpet": [
           {
            "colorbar": {
             "outlinewidth": 0,
             "ticks": ""
            },
            "type": "contourcarpet"
           }
          ],
          "heatmap": [
           {
            "colorbar": {
             "outlinewidth": 0,
             "ticks": ""
            },
            "colorscale": [
             [
              0,
              "#0d0887"
             ],
             [
              0.1111111111111111,
              "#46039f"
             ],
             [
              0.2222222222222222,
              "#7201a8"
             ],
             [
              0.3333333333333333,
              "#9c179e"
             ],
             [
              0.4444444444444444,
              "#bd3786"
             ],
             [
              0.5555555555555556,
              "#d8576b"
             ],
             [
              0.6666666666666666,
              "#ed7953"
             ],
             [
              0.7777777777777778,
              "#fb9f3a"
             ],
             [
              0.8888888888888888,
              "#fdca26"
             ],
             [
              1,
              "#f0f921"
             ]
            ],
            "type": "heatmap"
           }
          ],
          "heatmapgl": [
           {
            "colorbar": {
             "outlinewidth": 0,
             "ticks": ""
            },
            "colorscale": [
             [
              0,
              "#0d0887"
             ],
             [
              0.1111111111111111,
              "#46039f"
             ],
             [
              0.2222222222222222,
              "#7201a8"
             ],
             [
              0.3333333333333333,
              "#9c179e"
             ],
             [
              0.4444444444444444,
              "#bd3786"
             ],
             [
              0.5555555555555556,
              "#d8576b"
             ],
             [
              0.6666666666666666,
              "#ed7953"
             ],
             [
              0.7777777777777778,
              "#fb9f3a"
             ],
             [
              0.8888888888888888,
              "#fdca26"
             ],
             [
              1,
              "#f0f921"
             ]
            ],
            "type": "heatmapgl"
           }
          ],
          "histogram": [
           {
            "marker": {
             "pattern": {
              "fillmode": "overlay",
              "size": 10,
              "solidity": 0.2
             }
            },
            "type": "histogram"
           }
          ],
          "histogram2d": [
           {
            "colorbar": {
             "outlinewidth": 0,
             "ticks": ""
            },
            "colorscale": [
             [
              0,
              "#0d0887"
             ],
             [
              0.1111111111111111,
              "#46039f"
             ],
             [
              0.2222222222222222,
              "#7201a8"
             ],
             [
              0.3333333333333333,
              "#9c179e"
             ],
             [
              0.4444444444444444,
              "#bd3786"
             ],
             [
              0.5555555555555556,
              "#d8576b"
             ],
             [
              0.6666666666666666,
              "#ed7953"
             ],
             [
              0.7777777777777778,
              "#fb9f3a"
             ],
             [
              0.8888888888888888,
              "#fdca26"
             ],
             [
              1,
              "#f0f921"
             ]
            ],
            "type": "histogram2d"
           }
          ],
          "histogram2dcontour": [
           {
            "colorbar": {
             "outlinewidth": 0,
             "ticks": ""
            },
            "colorscale": [
             [
              0,
              "#0d0887"
             ],
             [
              0.1111111111111111,
              "#46039f"
             ],
             [
              0.2222222222222222,
              "#7201a8"
             ],
             [
              0.3333333333333333,
              "#9c179e"
             ],
             [
              0.4444444444444444,
              "#bd3786"
             ],
             [
              0.5555555555555556,
              "#d8576b"
             ],
             [
              0.6666666666666666,
              "#ed7953"
             ],
             [
              0.7777777777777778,
              "#fb9f3a"
             ],
             [
              0.8888888888888888,
              "#fdca26"
             ],
             [
              1,
              "#f0f921"
             ]
            ],
            "type": "histogram2dcontour"
           }
          ],
          "mesh3d": [
           {
            "colorbar": {
             "outlinewidth": 0,
             "ticks": ""
            },
            "type": "mesh3d"
           }
          ],
          "parcoords": [
           {
            "line": {
             "colorbar": {
              "outlinewidth": 0,
              "ticks": ""
             }
            },
            "type": "parcoords"
           }
          ],
          "pie": [
           {
            "automargin": true,
            "type": "pie"
           }
          ],
          "scatter": [
           {
            "marker": {
             "colorbar": {
              "outlinewidth": 0,
              "ticks": ""
             }
            },
            "type": "scatter"
           }
          ],
          "scatter3d": [
           {
            "line": {
             "colorbar": {
              "outlinewidth": 0,
              "ticks": ""
             }
            },
            "marker": {
             "colorbar": {
              "outlinewidth": 0,
              "ticks": ""
             }
            },
            "type": "scatter3d"
           }
          ],
          "scattercarpet": [
           {
            "marker": {
             "colorbar": {
              "outlinewidth": 0,
              "ticks": ""
             }
            },
            "type": "scattercarpet"
           }
          ],
          "scattergeo": [
           {
            "marker": {
             "colorbar": {
              "outlinewidth": 0,
              "ticks": ""
             }
            },
            "type": "scattergeo"
           }
          ],
          "scattergl": [
           {
            "marker": {
             "colorbar": {
              "outlinewidth": 0,
              "ticks": ""
             }
            },
            "type": "scattergl"
           }
          ],
          "scattermapbox": [
           {
            "marker": {
             "colorbar": {
              "outlinewidth": 0,
              "ticks": ""
             }
            },
            "type": "scattermapbox"
           }
          ],
          "scatterpolar": [
           {
            "marker": {
             "colorbar": {
              "outlinewidth": 0,
              "ticks": ""
             }
            },
            "type": "scatterpolar"
           }
          ],
          "scatterpolargl": [
           {
            "marker": {
             "colorbar": {
              "outlinewidth": 0,
              "ticks": ""
             }
            },
            "type": "scatterpolargl"
           }
          ],
          "scatterternary": [
           {
            "marker": {
             "colorbar": {
              "outlinewidth": 0,
              "ticks": ""
             }
            },
            "type": "scatterternary"
           }
          ],
          "surface": [
           {
            "colorbar": {
             "outlinewidth": 0,
             "ticks": ""
            },
            "colorscale": [
             [
              0,
              "#0d0887"
             ],
             [
              0.1111111111111111,
              "#46039f"
             ],
             [
              0.2222222222222222,
              "#7201a8"
             ],
             [
              0.3333333333333333,
              "#9c179e"
             ],
             [
              0.4444444444444444,
              "#bd3786"
             ],
             [
              0.5555555555555556,
              "#d8576b"
             ],
             [
              0.6666666666666666,
              "#ed7953"
             ],
             [
              0.7777777777777778,
              "#fb9f3a"
             ],
             [
              0.8888888888888888,
              "#fdca26"
             ],
             [
              1,
              "#f0f921"
             ]
            ],
            "type": "surface"
           }
          ],
          "table": [
           {
            "cells": {
             "fill": {
              "color": "#EBF0F8"
             },
             "line": {
              "color": "white"
             }
            },
            "header": {
             "fill": {
              "color": "#C8D4E3"
             },
             "line": {
              "color": "white"
             }
            },
            "type": "table"
           }
          ]
         },
         "layout": {
          "annotationdefaults": {
           "arrowcolor": "#2a3f5f",
           "arrowhead": 0,
           "arrowwidth": 1
          },
          "autotypenumbers": "strict",
          "coloraxis": {
           "colorbar": {
            "outlinewidth": 0,
            "ticks": ""
           }
          },
          "colorscale": {
           "diverging": [
            [
             0,
             "#8e0152"
            ],
            [
             0.1,
             "#c51b7d"
            ],
            [
             0.2,
             "#de77ae"
            ],
            [
             0.3,
             "#f1b6da"
            ],
            [
             0.4,
             "#fde0ef"
            ],
            [
             0.5,
             "#f7f7f7"
            ],
            [
             0.6,
             "#e6f5d0"
            ],
            [
             0.7,
             "#b8e186"
            ],
            [
             0.8,
             "#7fbc41"
            ],
            [
             0.9,
             "#4d9221"
            ],
            [
             1,
             "#276419"
            ]
           ],
           "sequential": [
            [
             0,
             "#0d0887"
            ],
            [
             0.1111111111111111,
             "#46039f"
            ],
            [
             0.2222222222222222,
             "#7201a8"
            ],
            [
             0.3333333333333333,
             "#9c179e"
            ],
            [
             0.4444444444444444,
             "#bd3786"
            ],
            [
             0.5555555555555556,
             "#d8576b"
            ],
            [
             0.6666666666666666,
             "#ed7953"
            ],
            [
             0.7777777777777778,
             "#fb9f3a"
            ],
            [
             0.8888888888888888,
             "#fdca26"
            ],
            [
             1,
             "#f0f921"
            ]
           ],
           "sequentialminus": [
            [
             0,
             "#0d0887"
            ],
            [
             0.1111111111111111,
             "#46039f"
            ],
            [
             0.2222222222222222,
             "#7201a8"
            ],
            [
             0.3333333333333333,
             "#9c179e"
            ],
            [
             0.4444444444444444,
             "#bd3786"
            ],
            [
             0.5555555555555556,
             "#d8576b"
            ],
            [
             0.6666666666666666,
             "#ed7953"
            ],
            [
             0.7777777777777778,
             "#fb9f3a"
            ],
            [
             0.8888888888888888,
             "#fdca26"
            ],
            [
             1,
             "#f0f921"
            ]
           ]
          },
          "colorway": [
           "#636efa",
           "#EF553B",
           "#00cc96",
           "#ab63fa",
           "#FFA15A",
           "#19d3f3",
           "#FF6692",
           "#B6E880",
           "#FF97FF",
           "#FECB52"
          ],
          "font": {
           "color": "#2a3f5f"
          },
          "geo": {
           "bgcolor": "white",
           "lakecolor": "white",
           "landcolor": "#E5ECF6",
           "showlakes": true,
           "showland": true,
           "subunitcolor": "white"
          },
          "hoverlabel": {
           "align": "left"
          },
          "hovermode": "closest",
          "mapbox": {
           "style": "light"
          },
          "paper_bgcolor": "white",
          "plot_bgcolor": "#E5ECF6",
          "polar": {
           "angularaxis": {
            "gridcolor": "white",
            "linecolor": "white",
            "ticks": ""
           },
           "bgcolor": "#E5ECF6",
           "radialaxis": {
            "gridcolor": "white",
            "linecolor": "white",
            "ticks": ""
           }
          },
          "scene": {
           "xaxis": {
            "backgroundcolor": "#E5ECF6",
            "gridcolor": "white",
            "gridwidth": 2,
            "linecolor": "white",
            "showbackground": true,
            "ticks": "",
            "zerolinecolor": "white"
           },
           "yaxis": {
            "backgroundcolor": "#E5ECF6",
            "gridcolor": "white",
            "gridwidth": 2,
            "linecolor": "white",
            "showbackground": true,
            "ticks": "",
            "zerolinecolor": "white"
           },
           "zaxis": {
            "backgroundcolor": "#E5ECF6",
            "gridcolor": "white",
            "gridwidth": 2,
            "linecolor": "white",
            "showbackground": true,
            "ticks": "",
            "zerolinecolor": "white"
           }
          },
          "shapedefaults": {
           "line": {
            "color": "#2a3f5f"
           }
          },
          "ternary": {
           "aaxis": {
            "gridcolor": "white",
            "linecolor": "white",
            "ticks": ""
           },
           "baxis": {
            "gridcolor": "white",
            "linecolor": "white",
            "ticks": ""
           },
           "bgcolor": "#E5ECF6",
           "caxis": {
            "gridcolor": "white",
            "linecolor": "white",
            "ticks": ""
           }
          },
          "title": {
           "x": 0.05
          },
          "xaxis": {
           "automargin": true,
           "gridcolor": "white",
           "linecolor": "white",
           "ticks": "",
           "title": {
            "standoff": 15
           },
           "zerolinecolor": "white",
           "zerolinewidth": 2
          },
          "yaxis": {
           "automargin": true,
           "gridcolor": "white",
           "linecolor": "white",
           "ticks": "",
           "title": {
            "standoff": 15
           },
           "zerolinecolor": "white",
           "zerolinewidth": 2
          }
         }
        },
        "xaxis": {
         "anchor": "y",
         "domain": [
          0,
          1
         ],
         "title": {
          "text": "list_price"
         }
        },
        "yaxis": {
         "anchor": "x",
         "domain": [
          0,
          1
         ],
         "title": {
          "text": "count"
         }
        }
       }
      }
     },
     "metadata": {},
     "output_type": "display_data"
    }
   ],
   "source": [
    "px.histogram(mavericks, x='list_price')"
   ]
  },
  {
   "cell_type": "code",
   "execution_count": 57,
   "metadata": {},
   "outputs": [],
   "source": [
    "mavericks = mavericks[mavericks.trim_level.isin(acceptable_trim_levels)]"
   ]
  },
  {
   "cell_type": "code",
   "execution_count": 59,
   "metadata": {},
   "outputs": [
    {
     "data": {
      "application/vnd.plotly.v1+json": {
       "config": {
        "plotlyServerURL": "https://plotly.com"
       },
       "data": [
        {
         "alignmentgroup": "True",
         "hovertemplate": "trim_level=%{x}<br>list_price=%{y}<extra></extra>",
         "legendgroup": "",
         "marker": {
          "color": "#636efa"
         },
         "name": "",
         "notched": false,
         "offsetgroup": "",
         "orientation": "v",
         "showlegend": false,
         "type": "box",
         "x": [
          "XLT",
          "LARIAT",
          "XL",
          "XLT",
          "XLT",
          "LARIAT",
          "XLT",
          "LARIAT",
          "XLT",
          "XLT",
          "XLT",
          "XLT",
          "XLT",
          "XLT",
          "XLT",
          "LARIAT",
          "XLT",
          "XLT",
          "XLT",
          "XL",
          "XLT",
          "XLT",
          "LARIAT",
          "XLT",
          "XLT",
          "XLT",
          "XLT",
          "XL",
          "LARIAT",
          "XLT",
          "XL",
          "LARIAT",
          "XL",
          "XLT",
          "XLT",
          "XL",
          "XL",
          "XL",
          "XL",
          "XL",
          "LARIAT",
          "XLT",
          "XL",
          "XL",
          "XL",
          "XLT",
          "LARIAT",
          "XLT",
          "XL",
          "LARIAT",
          "LARIAT",
          "XL",
          "XLT",
          "LARIAT",
          "XLT",
          "XL",
          "LARIAT",
          "XL",
          "XL",
          "XLT",
          "LARIAT",
          "XLT",
          "LARIAT",
          "XLT",
          "XLT",
          "LARIAT",
          "XL",
          "LARIAT",
          "XLT",
          "LARIAT",
          "LARIAT",
          "XLT",
          "XLT",
          "XL",
          "XLT",
          "XLT",
          "XLT",
          "LARIAT",
          "XL",
          "XLT",
          "XLT",
          "XLT",
          "XL",
          "XLT",
          "XLT",
          "XLT",
          "XLT",
          "XL",
          "XLT",
          "XLT",
          "XLT",
          "XLT",
          "XLT",
          "XL",
          "XLT",
          "XLT",
          "XLT",
          "XLT",
          "XL",
          "XLT",
          "LARIAT",
          "XL",
          "XL",
          "XLT",
          "LARIAT",
          "XL",
          "LARIAT",
          "XLT",
          "XLT",
          "XLT",
          "XLT",
          "XLT",
          "XLT",
          "XL",
          "XLT",
          "XLT",
          "LARIAT",
          "XLT",
          "XL",
          "XLT",
          "XL",
          "XL",
          "XLT",
          "XL",
          "LARIAT",
          "XLT",
          "XL",
          "XLT",
          "XLT",
          "XLT",
          "XLT",
          "XL",
          "LARIAT",
          "XL",
          "XLT",
          "XL",
          "XL",
          "XL",
          "LARIAT",
          "XLT",
          "XLT",
          "LARIAT",
          "XLT",
          "LARIAT",
          "XLT",
          "XLT",
          "XLT",
          "LARIAT",
          "XLT",
          "XL",
          "XLT",
          "XL",
          "XLT",
          "XL",
          "XLT",
          "XLT",
          "XL",
          "XLT",
          "LARIAT",
          "XLT",
          "LARIAT",
          "LARIAT",
          "XLT",
          "XL",
          "XL",
          "XLT",
          "XLT",
          "XLT",
          "XLT",
          "XL",
          "XLT",
          "LARIAT",
          "LARIAT",
          "XLT",
          "XLT",
          "XLT",
          "XLT",
          "XLT",
          "XL",
          "LARIAT",
          "XLT",
          "LARIAT",
          "XLT",
          "LARIAT",
          "XLT",
          "XLT",
          "XLT",
          "XL",
          "LARIAT",
          "XLT",
          "LARIAT",
          "LARIAT",
          "XLT",
          "XLT",
          "XL",
          "XLT",
          "XLT",
          "XL",
          "LARIAT",
          "LARIAT",
          "XLT",
          "XLT",
          "XLT",
          "XLT",
          "XLT",
          "LARIAT",
          "XL",
          "XLT",
          "LARIAT",
          "LARIAT",
          "XL",
          "LARIAT",
          "LARIAT",
          "LARIAT",
          "XLT",
          "XL",
          "LARIAT",
          "LARIAT",
          "LARIAT",
          "XL",
          "XLT",
          "XL",
          "XL",
          "XLT",
          "XL",
          "XLT",
          "XLT",
          "LARIAT",
          "XL",
          "XLT",
          "XLT",
          "XLT",
          "XLT",
          "LARIAT",
          "XL",
          "XLT",
          "XL",
          "XLT",
          "XL",
          "XLT",
          "XLT",
          "XLT",
          "XLT",
          "XL",
          "XLT",
          "XLT",
          "LARIAT",
          "XLT",
          "LARIAT",
          "LARIAT",
          "LARIAT",
          "XL",
          "LARIAT",
          "LARIAT",
          "XL",
          "XLT",
          "XL",
          "LARIAT",
          "XL",
          "XLT",
          "LARIAT",
          "XLT",
          "LARIAT",
          "XLT",
          "XLT",
          "XLT",
          "XLT",
          "XLT",
          "XLT",
          "XL",
          "XLT",
          "XLT",
          "XLT",
          "XLT",
          "XL",
          "XLT",
          "XLT",
          "XL",
          "XL",
          "XL",
          "XLT",
          "XLT",
          "LARIAT",
          "XLT",
          "XLT",
          "LARIAT",
          "LARIAT",
          "XLT",
          "XLT",
          "XLT",
          "LARIAT",
          "LARIAT",
          "LARIAT",
          "XLT",
          "XL",
          "XLT",
          "XL",
          "XL",
          "XLT",
          "XLT",
          "XLT",
          "XLT",
          "XLT",
          "XLT",
          "LARIAT",
          "XL",
          "LARIAT",
          "XLT",
          "LARIAT",
          "LARIAT",
          "XLT",
          "XLT",
          "LARIAT",
          "XLT",
          "XLT",
          "XL",
          "XL",
          "XLT",
          "XL",
          "XL",
          "XL",
          "XL",
          "XLT",
          "XLT",
          "XLT",
          "XLT",
          "XLT",
          "XL",
          "XLT",
          "XL",
          "XL",
          "XLT",
          "XL",
          "XL",
          "LARIAT",
          "XLT",
          "XLT",
          "XLT",
          "XLT",
          "LARIAT",
          "XL",
          "XLT",
          "XLT",
          "LARIAT",
          "XL",
          "XLT",
          "XLT",
          "XLT",
          "XL",
          "XLT",
          "XLT",
          "LARIAT",
          "LARIAT",
          "XL",
          "XL",
          "XLT",
          "LARIAT",
          "XL",
          "XL",
          "XL",
          "XL",
          "LARIAT",
          "XLT",
          "LARIAT",
          "LARIAT",
          "XL",
          "XL",
          "XLT",
          "XLT",
          "XLT",
          "XL",
          "XLT",
          "XLT",
          "XLT",
          "XL",
          "XLT",
          "XLT",
          "LARIAT",
          "XLT",
          "LARIAT",
          "LARIAT",
          "XLT",
          "XLT",
          "LARIAT",
          "XLT",
          "LARIAT",
          "XL",
          "XLT",
          "LARIAT",
          "XLT",
          "XLT",
          "LARIAT",
          "XLT",
          "XLT",
          "XLT",
          "XLT",
          "XLT",
          "XL",
          "XLT",
          "XLT",
          "LARIAT",
          "XL",
          "XLT",
          "XLT",
          "XLT",
          "XL",
          "LARIAT",
          "XL",
          "XLT",
          "XLT",
          "LARIAT",
          "XLT",
          "XLT",
          "XLT",
          "XLT",
          "XLT",
          "XLT",
          "XL",
          "XLT",
          "XLT",
          "XL",
          "LARIAT",
          "XL",
          "XLT",
          "XL",
          "XLT",
          "XL",
          "XLT",
          "XLT",
          "XLT",
          "XLT",
          "XLT",
          "XLT",
          "LARIAT",
          "XLT",
          "XLT",
          "XLT",
          "XLT",
          "XL",
          "XLT",
          "XLT",
          "XLT",
          "LARIAT",
          "LARIAT",
          "LARIAT",
          "XLT",
          "LARIAT",
          "XLT",
          "LARIAT",
          "XL",
          "LARIAT",
          "LARIAT",
          "LARIAT",
          "LARIAT",
          "XLT",
          "LARIAT",
          "LARIAT",
          "XLT",
          "LARIAT",
          "LARIAT",
          "XLT",
          "XL",
          "XL",
          "XLT",
          "XLT",
          "XLT",
          "XLT",
          "LARIAT",
          "XL",
          "XL",
          "LARIAT",
          "XL",
          "XLT",
          "XLT",
          "LARIAT",
          "XLT",
          "XLT",
          "XLT",
          "XLT",
          "XL",
          "XLT",
          "XL",
          "XL",
          "XL",
          "XL",
          "LARIAT",
          "XLT",
          "XLT",
          "XLT",
          "XLT",
          "XL",
          "XL",
          "XLT",
          "XLT",
          "LARIAT",
          "XLT",
          "XLT",
          "XL",
          "XL",
          "LARIAT",
          "XLT",
          "XLT",
          "XLT",
          "LARIAT",
          "XL",
          "XLT",
          "XLT",
          "XL",
          "XL",
          "XLT",
          "XLT",
          "XLT",
          "XLT",
          "XL",
          "XLT",
          "XLT",
          "XLT",
          "XLT",
          "LARIAT",
          "XLT",
          "LARIAT",
          "XLT",
          "XLT",
          "XL",
          "XLT",
          "LARIAT",
          "XL",
          "LARIAT",
          "XLT",
          "XLT",
          "XLT",
          "LARIAT",
          "XL",
          "XL",
          "XL",
          "XLT",
          "LARIAT",
          "XLT",
          "XLT",
          "LARIAT",
          "XL",
          "XL",
          "XL",
          "XL",
          "LARIAT",
          "XL",
          "XL",
          "XLT",
          "LARIAT",
          "XLT",
          "LARIAT",
          "XLT",
          "XL",
          "XLT",
          "LARIAT",
          "XL",
          "XLT",
          "XLT",
          "LARIAT",
          "LARIAT",
          "LARIAT",
          "XLT",
          "XL",
          "XL",
          "LARIAT",
          "XLT",
          "XLT",
          "XL",
          "XLT",
          "XLT",
          "LARIAT",
          "XLT",
          "XLT",
          "LARIAT",
          "LARIAT",
          "XLT",
          "XLT",
          "XLT",
          "XLT",
          "XLT",
          "LARIAT",
          "LARIAT",
          "XLT",
          "XL",
          "XL",
          "XLT",
          "XLT",
          "XLT",
          "XL",
          "XL",
          "XL",
          "XLT",
          "XLT",
          "LARIAT",
          "XLT",
          "XLT",
          "LARIAT",
          "XLT",
          "XLT",
          "XLT",
          "XLT",
          "XL",
          "XL",
          "XLT",
          "XLT",
          "LARIAT",
          "XL",
          "LARIAT",
          "XLT",
          "XLT",
          "XLT",
          "XLT",
          "XL",
          "LARIAT",
          "XLT",
          "LARIAT",
          "LARIAT",
          "LARIAT",
          "LARIAT",
          "XLT",
          "XL",
          "XLT",
          "LARIAT",
          "XLT",
          "LARIAT",
          "XLT",
          "XLT",
          "XLT",
          "XL",
          "XLT",
          "LARIAT",
          "XL",
          "XLT",
          "XL",
          "XLT",
          "XLT",
          "XLT",
          "XLT",
          "XLT",
          "LARIAT",
          "XL",
          "XL",
          "XLT",
          "XL",
          "LARIAT",
          "XL",
          "XLT",
          "LARIAT",
          "LARIAT",
          "XLT",
          "XLT",
          "XLT",
          "XL",
          "LARIAT",
          "XLT",
          "XLT",
          "XLT",
          "XL",
          "LARIAT",
          "XLT",
          "XLT",
          "XLT",
          "LARIAT",
          "XL",
          "XLT",
          "XLT",
          "XL",
          "XL",
          "XL",
          "XLT",
          "XLT",
          "XL",
          "XL",
          "XLT",
          "XLT",
          "XLT",
          "XLT",
          "LARIAT",
          "XLT",
          "XL",
          "LARIAT",
          "XL",
          "XLT",
          "XLT",
          "XLT",
          "XL",
          "XLT",
          "XL",
          "LARIAT",
          "LARIAT",
          "XL",
          "LARIAT",
          "XLT",
          "XLT",
          "LARIAT",
          "LARIAT",
          "LARIAT",
          "LARIAT",
          "XL",
          "XL",
          "XL",
          "XLT",
          "XLT",
          "XLT",
          "XL",
          "XLT",
          "XL",
          "XL",
          "XLT",
          "XLT",
          "LARIAT",
          "XLT",
          "LARIAT",
          "XLT",
          "XLT",
          "LARIAT",
          "XL",
          "XLT",
          "XLT",
          "XL",
          "LARIAT"
         ],
         "x0": " ",
         "xaxis": "x",
         "y": [
          38988,
          40873,
          34091,
          35497,
          36000,
          38989,
          38695,
          37787,
          37900,
          37773,
          35473,
          37093,
          34998,
          36604,
          35998,
          39596,
          36900,
          36700,
          34812,
          37599,
          38968,
          34765,
          39999,
          37492,
          35320,
          35997,
          36988,
          35900,
          43700,
          41800,
          31634,
          39900,
          34498,
          30998,
          32500,
          33853,
          29995,
          29995,
          29995,
          29995,
          37173,
          38250,
          29988,
          29743,
          29742,
          28810,
          49997,
          41000,
          32649,
          38678,
          39988,
          33995,
          36903,
          37824,
          36000,
          32998,
          42998,
          31998,
          35998,
          37000,
          36599,
          33998,
          38000,
          34000,
          38998,
          37999,
          34395,
          46828,
          35399,
          37895,
          41995,
          33495,
          36875,
          33000,
          36000,
          36500,
          35000,
          0,
          31000,
          33500,
          34500,
          34500,
          32509,
          35499,
          38843,
          38574,
          39995,
          35332,
          38495,
          35598,
          35545,
          35706,
          30670,
          30998,
          33399,
          38993,
          34991,
          35206,
          33968,
          38999,
          38995,
          32588,
          29995,
          43582,
          51825,
          32975,
          40654,
          34995,
          37695,
          34900,
          35998,
          39998,
          null,
          35998,
          37900,
          39855,
          34999,
          35914,
          30950,
          35468,
          34990,
          31788,
          34622,
          36991,
          39992,
          36522,
          33463,
          34995,
          35500,
          null,
          null,
          33998,
          36990,
          35998,
          34988,
          34000,
          30895,
          33988,
          38998,
          37262,
          35998,
          36642,
          36900,
          40900,
          35650,
          38815,
          36975,
          46500,
          39995,
          35000,
          35682,
          32632,
          33500,
          31990,
          null,
          37980,
          39980,
          34199,
          37398,
          35101,
          37998,
          35333,
          40998,
          34950,
          28999,
          32998,
          35998,
          35990,
          34600,
          35500,
          35955,
          42454,
          42351,
          39459,
          35588,
          32990,
          32990,
          31500,
          35887,
          45524,
          39400,
          39897,
          34985,
          44995,
          37051,
          37990,
          34799,
          27839,
          39986,
          32900,
          null,
          42000,
          34990,
          34877,
          33995,
          35998,
          34836,
          28797,
          45752,
          47995,
          null,
          37998,
          37995,
          34988,
          38995,
          36899,
          30999,
          35998,
          42852,
          40750,
          40970,
          39457,
          null,
          42980,
          35233,
          34611,
          42991,
          35999,
          37500,
          33891,
          39994,
          34899,
          32995,
          37998,
          31964,
          34500,
          38450,
          42735,
          33564,
          35574,
          36300,
          36999,
          39998,
          39524,
          33900,
          36639,
          31700,
          34990,
          30988,
          35900,
          30837,
          37898,
          36995,
          36040,
          38900,
          35698,
          43555,
          35991,
          42888,
          40747,
          41477,
          28998,
          42890,
          42997,
          35454,
          33884,
          34456,
          36988,
          35929,
          37995,
          42900,
          35999,
          41477,
          33883,
          38899,
          38900,
          34999,
          32543,
          0,
          30995,
          38980,
          33490,
          36277,
          35990,
          35600,
          35998,
          35487,
          32900,
          31900,
          32998,
          33800,
          35997,
          36500,
          29999,
          34999,
          44949,
          45990,
          36999,
          33499,
          35000,
          41778,
          39060,
          39500,
          36000,
          35949,
          35641,
          32596,
          34000,
          35000,
          41500,
          38445,
          36825,
          38779,
          38995,
          40084,
          32984,
          40995,
          35995,
          36995,
          40991,
          34991,
          29999,
          40495,
          39995,
          37591,
          31998,
          31999,
          36395,
          31910,
          31910,
          31910,
          31910,
          37998,
          39410,
          40875,
          35991,
          34907,
          34950,
          36499,
          23950,
          11950,
          34817,
          32761,
          34890,
          42850,
          37850,
          37698,
          34898,
          38990,
          31495,
          32991,
          33991,
          36000,
          42995,
          31798,
          36998,
          31998,
          36883,
          34998,
          36900,
          39346,
          39000,
          41999,
          37864,
          36950,
          35947,
          33999,
          30962,
          33990,
          34977,
          35450,
          44350,
          39750,
          45997,
          40899,
          32995,
          30995,
          37995,
          35999,
          36995,
          31500,
          42000,
          42800,
          39800,
          36200,
          27945,
          36774,
          41626,
          38998,
          39995,
          45000,
          35999,
          36395,
          39900,
          39000,
          52000,
          31994,
          35130,
          41995,
          43988,
          34851,
          43995,
          35488,
          37652,
          40982,
          36900,
          36593,
          29993,
          37991,
          37498,
          39586,
          31995,
          38095,
          0,
          38900,
          34634,
          40408,
          33700,
          36342,
          35734,
          42633,
          36250,
          37000,
          37500,
          37500,
          38988,
          37495,
          34300,
          39780,
          35995,
          34943,
          39855,
          33985,
          35980,
          35997,
          38059,
          37333,
          31995,
          38581,
          36249,
          35995,
          37995,
          35937,
          42229,
          38000,
          38495,
          36201,
          40047,
          null,
          35998,
          37799,
          36790,
          44997,
          47997,
          32900,
          39900,
          38500,
          34500,
          40000,
          34500,
          41998,
          40779,
          34962,
          39832,
          35600,
          35995,
          44336,
          37999,
          38677,
          37900,
          35800,
          34147,
          29987,
          35312,
          35199,
          36980,
          38790,
          38750,
          34983,
          32500,
          40988,
          29991,
          33900,
          36895,
          39999,
          33297,
          41250,
          36500,
          37000,
          33055,
          38997,
          31541,
          33993,
          34980,
          32000,
          40500,
          34383,
          33980,
          31783,
          33782,
          27888,
          34999,
          36990,
          37900,
          44950,
          36950,
          36500,
          27995,
          35494,
          44750,
          38999,
          37127,
          36992,
          39994,
          34989,
          41995,
          37000,
          null,
          35999,
          35000,
          36500,
          40000,
          33750,
          38904,
          35905,
          36499,
          34608,
          34500,
          39880,
          34999,
          42497,
          37500,
          37497,
          33900,
          35999,
          34985,
          33991,
          39995,
          33333,
          35540,
          37732,
          35995,
          33433,
          34990,
          37982,
          39991,
          40892,
          35998,
          0,
          39580,
          36362,
          35999,
          39005,
          34996,
          38901,
          32495,
          29995,
          38991,
          42291,
          38918,
          40995,
          39998,
          38340,
          36991,
          39162,
          28495,
          35888,
          33491,
          42999,
          42177,
          42379,
          36448,
          33816,
          31900,
          38849,
          38998,
          36998,
          34400,
          35000,
          41000,
          null,
          37299,
          37599,
          40000,
          38590,
          37800,
          41890,
          39990,
          37990,
          39990,
          39488,
          39999,
          38080,
          35000,
          32998,
          38393,
          36998,
          36010,
          34283,
          25500,
          36988,
          42988,
          null,
          42990,
          27999,
          35995,
          38923,
          27995,
          35232,
          31999,
          35500,
          35990,
          38990,
          41900,
          34494,
          41963,
          45999,
          38812,
          42999,
          36601,
          37888,
          33888,
          38888,
          38999,
          32988,
          41995,
          43844,
          40595,
          41998,
          37430,
          null,
          33591,
          38995,
          36998,
          38489,
          30600,
          39975,
          43950,
          34000,
          31999,
          39998,
          33998,
          31495,
          34888,
          37495,
          35995,
          37495,
          38895,
          36998,
          44998,
          32295,
          36234,
          35998,
          38977,
          44777,
          31785,
          35632,
          45791,
          39777,
          34798,
          36500,
          36998,
          35998,
          42901,
          38741,
          38861,
          38981,
          31998,
          38998,
          38998,
          34250,
          35988,
          39988,
          32000,
          34500,
          38799,
          36988,
          34500,
          37695,
          41000,
          38195,
          40690,
          40690,
          42000,
          34500,
          38991,
          41989,
          40998,
          42951,
          34998,
          38991,
          38761,
          38106,
          39233,
          39999,
          33865,
          43988,
          35988,
          46988,
          46988,
          35988,
          37995,
          34441,
          37330,
          45971,
          37254,
          43099,
          40678,
          33511,
          36500,
          34999,
          39998,
          36998,
          36997,
          31998,
          37999,
          35998,
          33950,
          36950,
          36998,
          40800,
          36981,
          40987,
          35531,
          38661,
          42990,
          32998,
          39999,
          37999,
          36988,
          42987
         ],
         "y0": " ",
         "yaxis": "y"
        }
       ],
       "layout": {
        "boxmode": "group",
        "legend": {
         "tracegroupgap": 0
        },
        "margin": {
         "t": 60
        },
        "template": {
         "data": {
          "bar": [
           {
            "error_x": {
             "color": "#2a3f5f"
            },
            "error_y": {
             "color": "#2a3f5f"
            },
            "marker": {
             "line": {
              "color": "#E5ECF6",
              "width": 0.5
             },
             "pattern": {
              "fillmode": "overlay",
              "size": 10,
              "solidity": 0.2
             }
            },
            "type": "bar"
           }
          ],
          "barpolar": [
           {
            "marker": {
             "line": {
              "color": "#E5ECF6",
              "width": 0.5
             },
             "pattern": {
              "fillmode": "overlay",
              "size": 10,
              "solidity": 0.2
             }
            },
            "type": "barpolar"
           }
          ],
          "carpet": [
           {
            "aaxis": {
             "endlinecolor": "#2a3f5f",
             "gridcolor": "white",
             "linecolor": "white",
             "minorgridcolor": "white",
             "startlinecolor": "#2a3f5f"
            },
            "baxis": {
             "endlinecolor": "#2a3f5f",
             "gridcolor": "white",
             "linecolor": "white",
             "minorgridcolor": "white",
             "startlinecolor": "#2a3f5f"
            },
            "type": "carpet"
           }
          ],
          "choropleth": [
           {
            "colorbar": {
             "outlinewidth": 0,
             "ticks": ""
            },
            "type": "choropleth"
           }
          ],
          "contour": [
           {
            "colorbar": {
             "outlinewidth": 0,
             "ticks": ""
            },
            "colorscale": [
             [
              0,
              "#0d0887"
             ],
             [
              0.1111111111111111,
              "#46039f"
             ],
             [
              0.2222222222222222,
              "#7201a8"
             ],
             [
              0.3333333333333333,
              "#9c179e"
             ],
             [
              0.4444444444444444,
              "#bd3786"
             ],
             [
              0.5555555555555556,
              "#d8576b"
             ],
             [
              0.6666666666666666,
              "#ed7953"
             ],
             [
              0.7777777777777778,
              "#fb9f3a"
             ],
             [
              0.8888888888888888,
              "#fdca26"
             ],
             [
              1,
              "#f0f921"
             ]
            ],
            "type": "contour"
           }
          ],
          "contourcarpet": [
           {
            "colorbar": {
             "outlinewidth": 0,
             "ticks": ""
            },
            "type": "contourcarpet"
           }
          ],
          "heatmap": [
           {
            "colorbar": {
             "outlinewidth": 0,
             "ticks": ""
            },
            "colorscale": [
             [
              0,
              "#0d0887"
             ],
             [
              0.1111111111111111,
              "#46039f"
             ],
             [
              0.2222222222222222,
              "#7201a8"
             ],
             [
              0.3333333333333333,
              "#9c179e"
             ],
             [
              0.4444444444444444,
              "#bd3786"
             ],
             [
              0.5555555555555556,
              "#d8576b"
             ],
             [
              0.6666666666666666,
              "#ed7953"
             ],
             [
              0.7777777777777778,
              "#fb9f3a"
             ],
             [
              0.8888888888888888,
              "#fdca26"
             ],
             [
              1,
              "#f0f921"
             ]
            ],
            "type": "heatmap"
           }
          ],
          "heatmapgl": [
           {
            "colorbar": {
             "outlinewidth": 0,
             "ticks": ""
            },
            "colorscale": [
             [
              0,
              "#0d0887"
             ],
             [
              0.1111111111111111,
              "#46039f"
             ],
             [
              0.2222222222222222,
              "#7201a8"
             ],
             [
              0.3333333333333333,
              "#9c179e"
             ],
             [
              0.4444444444444444,
              "#bd3786"
             ],
             [
              0.5555555555555556,
              "#d8576b"
             ],
             [
              0.6666666666666666,
              "#ed7953"
             ],
             [
              0.7777777777777778,
              "#fb9f3a"
             ],
             [
              0.8888888888888888,
              "#fdca26"
             ],
             [
              1,
              "#f0f921"
             ]
            ],
            "type": "heatmapgl"
           }
          ],
          "histogram": [
           {
            "marker": {
             "pattern": {
              "fillmode": "overlay",
              "size": 10,
              "solidity": 0.2
             }
            },
            "type": "histogram"
           }
          ],
          "histogram2d": [
           {
            "colorbar": {
             "outlinewidth": 0,
             "ticks": ""
            },
            "colorscale": [
             [
              0,
              "#0d0887"
             ],
             [
              0.1111111111111111,
              "#46039f"
             ],
             [
              0.2222222222222222,
              "#7201a8"
             ],
             [
              0.3333333333333333,
              "#9c179e"
             ],
             [
              0.4444444444444444,
              "#bd3786"
             ],
             [
              0.5555555555555556,
              "#d8576b"
             ],
             [
              0.6666666666666666,
              "#ed7953"
             ],
             [
              0.7777777777777778,
              "#fb9f3a"
             ],
             [
              0.8888888888888888,
              "#fdca26"
             ],
             [
              1,
              "#f0f921"
             ]
            ],
            "type": "histogram2d"
           }
          ],
          "histogram2dcontour": [
           {
            "colorbar": {
             "outlinewidth": 0,
             "ticks": ""
            },
            "colorscale": [
             [
              0,
              "#0d0887"
             ],
             [
              0.1111111111111111,
              "#46039f"
             ],
             [
              0.2222222222222222,
              "#7201a8"
             ],
             [
              0.3333333333333333,
              "#9c179e"
             ],
             [
              0.4444444444444444,
              "#bd3786"
             ],
             [
              0.5555555555555556,
              "#d8576b"
             ],
             [
              0.6666666666666666,
              "#ed7953"
             ],
             [
              0.7777777777777778,
              "#fb9f3a"
             ],
             [
              0.8888888888888888,
              "#fdca26"
             ],
             [
              1,
              "#f0f921"
             ]
            ],
            "type": "histogram2dcontour"
           }
          ],
          "mesh3d": [
           {
            "colorbar": {
             "outlinewidth": 0,
             "ticks": ""
            },
            "type": "mesh3d"
           }
          ],
          "parcoords": [
           {
            "line": {
             "colorbar": {
              "outlinewidth": 0,
              "ticks": ""
             }
            },
            "type": "parcoords"
           }
          ],
          "pie": [
           {
            "automargin": true,
            "type": "pie"
           }
          ],
          "scatter": [
           {
            "marker": {
             "colorbar": {
              "outlinewidth": 0,
              "ticks": ""
             }
            },
            "type": "scatter"
           }
          ],
          "scatter3d": [
           {
            "line": {
             "colorbar": {
              "outlinewidth": 0,
              "ticks": ""
             }
            },
            "marker": {
             "colorbar": {
              "outlinewidth": 0,
              "ticks": ""
             }
            },
            "type": "scatter3d"
           }
          ],
          "scattercarpet": [
           {
            "marker": {
             "colorbar": {
              "outlinewidth": 0,
              "ticks": ""
             }
            },
            "type": "scattercarpet"
           }
          ],
          "scattergeo": [
           {
            "marker": {
             "colorbar": {
              "outlinewidth": 0,
              "ticks": ""
             }
            },
            "type": "scattergeo"
           }
          ],
          "scattergl": [
           {
            "marker": {
             "colorbar": {
              "outlinewidth": 0,
              "ticks": ""
             }
            },
            "type": "scattergl"
           }
          ],
          "scattermapbox": [
           {
            "marker": {
             "colorbar": {
              "outlinewidth": 0,
              "ticks": ""
             }
            },
            "type": "scattermapbox"
           }
          ],
          "scatterpolar": [
           {
            "marker": {
             "colorbar": {
              "outlinewidth": 0,
              "ticks": ""
             }
            },
            "type": "scatterpolar"
           }
          ],
          "scatterpolargl": [
           {
            "marker": {
             "colorbar": {
              "outlinewidth": 0,
              "ticks": ""
             }
            },
            "type": "scatterpolargl"
           }
          ],
          "scatterternary": [
           {
            "marker": {
             "colorbar": {
              "outlinewidth": 0,
              "ticks": ""
             }
            },
            "type": "scatterternary"
           }
          ],
          "surface": [
           {
            "colorbar": {
             "outlinewidth": 0,
             "ticks": ""
            },
            "colorscale": [
             [
              0,
              "#0d0887"
             ],
             [
              0.1111111111111111,
              "#46039f"
             ],
             [
              0.2222222222222222,
              "#7201a8"
             ],
             [
              0.3333333333333333,
              "#9c179e"
             ],
             [
              0.4444444444444444,
              "#bd3786"
             ],
             [
              0.5555555555555556,
              "#d8576b"
             ],
             [
              0.6666666666666666,
              "#ed7953"
             ],
             [
              0.7777777777777778,
              "#fb9f3a"
             ],
             [
              0.8888888888888888,
              "#fdca26"
             ],
             [
              1,
              "#f0f921"
             ]
            ],
            "type": "surface"
           }
          ],
          "table": [
           {
            "cells": {
             "fill": {
              "color": "#EBF0F8"
             },
             "line": {
              "color": "white"
             }
            },
            "header": {
             "fill": {
              "color": "#C8D4E3"
             },
             "line": {
              "color": "white"
             }
            },
            "type": "table"
           }
          ]
         },
         "layout": {
          "annotationdefaults": {
           "arrowcolor": "#2a3f5f",
           "arrowhead": 0,
           "arrowwidth": 1
          },
          "autotypenumbers": "strict",
          "coloraxis": {
           "colorbar": {
            "outlinewidth": 0,
            "ticks": ""
           }
          },
          "colorscale": {
           "diverging": [
            [
             0,
             "#8e0152"
            ],
            [
             0.1,
             "#c51b7d"
            ],
            [
             0.2,
             "#de77ae"
            ],
            [
             0.3,
             "#f1b6da"
            ],
            [
             0.4,
             "#fde0ef"
            ],
            [
             0.5,
             "#f7f7f7"
            ],
            [
             0.6,
             "#e6f5d0"
            ],
            [
             0.7,
             "#b8e186"
            ],
            [
             0.8,
             "#7fbc41"
            ],
            [
             0.9,
             "#4d9221"
            ],
            [
             1,
             "#276419"
            ]
           ],
           "sequential": [
            [
             0,
             "#0d0887"
            ],
            [
             0.1111111111111111,
             "#46039f"
            ],
            [
             0.2222222222222222,
             "#7201a8"
            ],
            [
             0.3333333333333333,
             "#9c179e"
            ],
            [
             0.4444444444444444,
             "#bd3786"
            ],
            [
             0.5555555555555556,
             "#d8576b"
            ],
            [
             0.6666666666666666,
             "#ed7953"
            ],
            [
             0.7777777777777778,
             "#fb9f3a"
            ],
            [
             0.8888888888888888,
             "#fdca26"
            ],
            [
             1,
             "#f0f921"
            ]
           ],
           "sequentialminus": [
            [
             0,
             "#0d0887"
            ],
            [
             0.1111111111111111,
             "#46039f"
            ],
            [
             0.2222222222222222,
             "#7201a8"
            ],
            [
             0.3333333333333333,
             "#9c179e"
            ],
            [
             0.4444444444444444,
             "#bd3786"
            ],
            [
             0.5555555555555556,
             "#d8576b"
            ],
            [
             0.6666666666666666,
             "#ed7953"
            ],
            [
             0.7777777777777778,
             "#fb9f3a"
            ],
            [
             0.8888888888888888,
             "#fdca26"
            ],
            [
             1,
             "#f0f921"
            ]
           ]
          },
          "colorway": [
           "#636efa",
           "#EF553B",
           "#00cc96",
           "#ab63fa",
           "#FFA15A",
           "#19d3f3",
           "#FF6692",
           "#B6E880",
           "#FF97FF",
           "#FECB52"
          ],
          "font": {
           "color": "#2a3f5f"
          },
          "geo": {
           "bgcolor": "white",
           "lakecolor": "white",
           "landcolor": "#E5ECF6",
           "showlakes": true,
           "showland": true,
           "subunitcolor": "white"
          },
          "hoverlabel": {
           "align": "left"
          },
          "hovermode": "closest",
          "mapbox": {
           "style": "light"
          },
          "paper_bgcolor": "white",
          "plot_bgcolor": "#E5ECF6",
          "polar": {
           "angularaxis": {
            "gridcolor": "white",
            "linecolor": "white",
            "ticks": ""
           },
           "bgcolor": "#E5ECF6",
           "radialaxis": {
            "gridcolor": "white",
            "linecolor": "white",
            "ticks": ""
           }
          },
          "scene": {
           "xaxis": {
            "backgroundcolor": "#E5ECF6",
            "gridcolor": "white",
            "gridwidth": 2,
            "linecolor": "white",
            "showbackground": true,
            "ticks": "",
            "zerolinecolor": "white"
           },
           "yaxis": {
            "backgroundcolor": "#E5ECF6",
            "gridcolor": "white",
            "gridwidth": 2,
            "linecolor": "white",
            "showbackground": true,
            "ticks": "",
            "zerolinecolor": "white"
           },
           "zaxis": {
            "backgroundcolor": "#E5ECF6",
            "gridcolor": "white",
            "gridwidth": 2,
            "linecolor": "white",
            "showbackground": true,
            "ticks": "",
            "zerolinecolor": "white"
           }
          },
          "shapedefaults": {
           "line": {
            "color": "#2a3f5f"
           }
          },
          "ternary": {
           "aaxis": {
            "gridcolor": "white",
            "linecolor": "white",
            "ticks": ""
           },
           "baxis": {
            "gridcolor": "white",
            "linecolor": "white",
            "ticks": ""
           },
           "bgcolor": "#E5ECF6",
           "caxis": {
            "gridcolor": "white",
            "linecolor": "white",
            "ticks": ""
           }
          },
          "title": {
           "x": 0.05
          },
          "xaxis": {
           "automargin": true,
           "gridcolor": "white",
           "linecolor": "white",
           "ticks": "",
           "title": {
            "standoff": 15
           },
           "zerolinecolor": "white",
           "zerolinewidth": 2
          },
          "yaxis": {
           "automargin": true,
           "gridcolor": "white",
           "linecolor": "white",
           "ticks": "",
           "title": {
            "standoff": 15
           },
           "zerolinecolor": "white",
           "zerolinewidth": 2
          }
         }
        },
        "xaxis": {
         "anchor": "y",
         "domain": [
          0,
          1
         ],
         "title": {
          "text": "trim_level"
         }
        },
        "yaxis": {
         "anchor": "x",
         "domain": [
          0,
          1
         ],
         "title": {
          "text": "list_price"
         }
        }
       }
      }
     },
     "metadata": {},
     "output_type": "display_data"
    }
   ],
   "source": [
    "px.box(mavericks, x=mavericks.trim_level, y=mavericks.list_price)"
   ]
  },
  {
   "cell_type": "code",
   "execution_count": 60,
   "metadata": {},
   "outputs": [
    {
     "data": {
      "text/plain": [
       "model_year     2022.0\n",
       "list_price    34611.0\n",
       "mileage        1294.5\n",
       "Name: 0.25, dtype: float64"
      ]
     },
     "execution_count": 60,
     "metadata": {},
     "output_type": "execute_result"
    }
   ],
   "source": [
    "mavericks.quantile(.25)"
   ]
  },
  {
   "cell_type": "code",
   "execution_count": null,
   "metadata": {},
   "outputs": [],
   "source": []
  },
  {
   "cell_type": "code",
   "execution_count": 61,
   "metadata": {},
   "outputs": [
    {
     "data": {
      "text/html": [
       "<div>\n",
       "<style scoped>\n",
       "    .dataframe tbody tr th:only-of-type {\n",
       "        vertical-align: middle;\n",
       "    }\n",
       "\n",
       "    .dataframe tbody tr th {\n",
       "        vertical-align: top;\n",
       "    }\n",
       "\n",
       "    .dataframe thead th {\n",
       "        text-align: right;\n",
       "    }\n",
       "</style>\n",
       "<table border=\"1\" class=\"dataframe\">\n",
       "  <thead>\n",
       "    <tr style=\"text-align: right;\">\n",
       "      <th></th>\n",
       "      <th>condition</th>\n",
       "      <th>model_year</th>\n",
       "      <th>make</th>\n",
       "      <th>model</th>\n",
       "      <th>trim_level</th>\n",
       "      <th>list_price</th>\n",
       "      <th>exterior_color</th>\n",
       "      <th>interior_color</th>\n",
       "      <th>fwd_or_awd</th>\n",
       "      <th>hybrid_or_eco</th>\n",
       "      <th>mileage</th>\n",
       "      <th>dealer_address</th>\n",
       "      <th>date_parsed</th>\n",
       "    </tr>\n",
       "  </thead>\n",
       "  <tbody>\n",
       "    <tr>\n",
       "      <th>553</th>\n",
       "      <td>USED</td>\n",
       "      <td>2022</td>\n",
       "      <td>FORD</td>\n",
       "      <td>MAVERICK</td>\n",
       "      <td>XLT</td>\n",
       "      <td>0.0</td>\n",
       "      <td>–</td>\n",
       "      <td>Navy Pier/Medium Slate</td>\n",
       "      <td>Front-wheel Drive</td>\n",
       "      <td>Gasoline</td>\n",
       "      <td>9857.0</td>\n",
       "      <td>815 Nw 4th St Grand Rapids, MN 55744</td>\n",
       "      <td>2023-05-12</td>\n",
       "    </tr>\n",
       "    <tr>\n",
       "      <th>414</th>\n",
       "      <td>USED</td>\n",
       "      <td>2022</td>\n",
       "      <td>FORD</td>\n",
       "      <td>MAVERICK</td>\n",
       "      <td>XLT</td>\n",
       "      <td>0.0</td>\n",
       "      <td>–</td>\n",
       "      <td>Navy Pier/Medium Slate</td>\n",
       "      <td>Front-wheel Drive</td>\n",
       "      <td>Gasoline</td>\n",
       "      <td>23050.0</td>\n",
       "      <td>308 N Outer Rd St James, MO 65559</td>\n",
       "      <td>2023-05-12</td>\n",
       "    </tr>\n",
       "    <tr>\n",
       "      <th>77</th>\n",
       "      <td>USED</td>\n",
       "      <td>2022</td>\n",
       "      <td>FORD</td>\n",
       "      <td>MAVERICK</td>\n",
       "      <td>LARIAT</td>\n",
       "      <td>0.0</td>\n",
       "      <td>Carbonized Grey Metallic</td>\n",
       "      <td>Desert Brown</td>\n",
       "      <td>Front-wheel Drive</td>\n",
       "      <td>Gasoline</td>\n",
       "      <td>7518.0</td>\n",
       "      <td>700 N US Route 15 Dillsburg, PA 17019</td>\n",
       "      <td>2023-05-12</td>\n",
       "    </tr>\n",
       "    <tr>\n",
       "      <th>272</th>\n",
       "      <td>USED</td>\n",
       "      <td>2022</td>\n",
       "      <td>FORD</td>\n",
       "      <td>MAVERICK</td>\n",
       "      <td>XLT</td>\n",
       "      <td>0.0</td>\n",
       "      <td>Blue</td>\n",
       "      <td>Navy Pier/Medium Slate</td>\n",
       "      <td>All-wheel Drive</td>\n",
       "      <td>Gasoline</td>\n",
       "      <td>11649.0</td>\n",
       "      <td>45 Washington St Foxboro, MA 02035</td>\n",
       "      <td>2023-05-12</td>\n",
       "    </tr>\n",
       "    <tr>\n",
       "      <th>335</th>\n",
       "      <td>USED</td>\n",
       "      <td>2022</td>\n",
       "      <td>FORD</td>\n",
       "      <td>MAVERICK</td>\n",
       "      <td>XL</td>\n",
       "      <td>11950.0</td>\n",
       "      <td>White</td>\n",
       "      <td>Gray</td>\n",
       "      <td>Front-wheel Drive</td>\n",
       "      <td>Gasoline</td>\n",
       "      <td>12729.0</td>\n",
       "      <td>5700 NW 27th Ave Miami, FL 33142</td>\n",
       "      <td>2023-05-12</td>\n",
       "    </tr>\n",
       "    <tr>\n",
       "      <th>...</th>\n",
       "      <td>...</td>\n",
       "      <td>...</td>\n",
       "      <td>...</td>\n",
       "      <td>...</td>\n",
       "      <td>...</td>\n",
       "      <td>...</td>\n",
       "      <td>...</td>\n",
       "      <td>...</td>\n",
       "      <td>...</td>\n",
       "      <td>...</td>\n",
       "      <td>...</td>\n",
       "      <td>...</td>\n",
       "      <td>...</td>\n",
       "    </tr>\n",
       "    <tr>\n",
       "      <th>449</th>\n",
       "      <td>USED</td>\n",
       "      <td>2022</td>\n",
       "      <td>FORD</td>\n",
       "      <td>MAVERICK</td>\n",
       "      <td>XL</td>\n",
       "      <td>NaN</td>\n",
       "      <td>Cactus</td>\n",
       "      <td>Black Onyx</td>\n",
       "      <td>All-wheel Drive</td>\n",
       "      <td>Gasoline</td>\n",
       "      <td>13415.0</td>\n",
       "      <td>501 NE Colbern Rd Lee's Summit, MO 64086</td>\n",
       "      <td>2023-05-12</td>\n",
       "    </tr>\n",
       "    <tr>\n",
       "      <th>522</th>\n",
       "      <td>USED</td>\n",
       "      <td>2023</td>\n",
       "      <td>FORD</td>\n",
       "      <td>MAVERICK</td>\n",
       "      <td>XL</td>\n",
       "      <td>NaN</td>\n",
       "      <td>–</td>\n",
       "      <td>–</td>\n",
       "      <td>FWD</td>\n",
       "      <td>Gasoline</td>\n",
       "      <td>7310.0</td>\n",
       "      <td>13115 Southwest Freeway Sugar Land, TX 77478</td>\n",
       "      <td>2023-05-12</td>\n",
       "    </tr>\n",
       "    <tr>\n",
       "      <th>590</th>\n",
       "      <td>USED</td>\n",
       "      <td>2022</td>\n",
       "      <td>FORD</td>\n",
       "      <td>MAVERICK</td>\n",
       "      <td>LARIAT</td>\n",
       "      <td>NaN</td>\n",
       "      <td>–</td>\n",
       "      <td>–</td>\n",
       "      <td>Front-wheel Drive</td>\n",
       "      <td>Hybrid</td>\n",
       "      <td>1402.0</td>\n",
       "      <td>1320 US-385 Andrews, TX 79714</td>\n",
       "      <td>2023-05-12</td>\n",
       "    </tr>\n",
       "    <tr>\n",
       "      <th>614</th>\n",
       "      <td>USED</td>\n",
       "      <td>2023</td>\n",
       "      <td>FORD</td>\n",
       "      <td>MAVERICK</td>\n",
       "      <td>XLT</td>\n",
       "      <td>NaN</td>\n",
       "      <td>Cactus Green / Gray</td>\n",
       "      <td>Black Onyx</td>\n",
       "      <td>All-wheel Drive</td>\n",
       "      <td>Gasoline</td>\n",
       "      <td>51.0</td>\n",
       "      <td>2900 N 19th Ave Bozeman, MT 59718</td>\n",
       "      <td>2023-05-12</td>\n",
       "    </tr>\n",
       "    <tr>\n",
       "      <th>645</th>\n",
       "      <td>CERTIFIED</td>\n",
       "      <td>2022</td>\n",
       "      <td>FORD</td>\n",
       "      <td>MAVERICK</td>\n",
       "      <td>XL</td>\n",
       "      <td>NaN</td>\n",
       "      <td>ICONIC SILVER METALLIC</td>\n",
       "      <td>BLACK ONYX-MED DK SLATE TRI</td>\n",
       "      <td>–</td>\n",
       "      <td>–</td>\n",
       "      <td>15785.0</td>\n",
       "      <td>5445 Drexel Road Las Vegas, NV 89130</td>\n",
       "      <td>2023-05-12</td>\n",
       "    </tr>\n",
       "  </tbody>\n",
       "</table>\n",
       "<p>721 rows × 13 columns</p>\n",
       "</div>"
      ],
      "text/plain": [
       "     condition  model_year  make     model trim_level  list_price  \\\n",
       "553       USED        2022  FORD  MAVERICK        XLT         0.0   \n",
       "414       USED        2022  FORD  MAVERICK        XLT         0.0   \n",
       "77        USED        2022  FORD  MAVERICK     LARIAT         0.0   \n",
       "272       USED        2022  FORD  MAVERICK        XLT         0.0   \n",
       "335       USED        2022  FORD  MAVERICK         XL     11950.0   \n",
       "..         ...         ...   ...       ...        ...         ...   \n",
       "449       USED        2022  FORD  MAVERICK         XL         NaN   \n",
       "522       USED        2023  FORD  MAVERICK         XL         NaN   \n",
       "590       USED        2022  FORD  MAVERICK     LARIAT         NaN   \n",
       "614       USED        2023  FORD  MAVERICK        XLT         NaN   \n",
       "645  CERTIFIED        2022  FORD  MAVERICK         XL         NaN   \n",
       "\n",
       "               exterior_color               interior_color         fwd_or_awd  \\\n",
       "553                         –       Navy Pier/Medium Slate  Front-wheel Drive   \n",
       "414                         –       Navy Pier/Medium Slate  Front-wheel Drive   \n",
       "77   Carbonized Grey Metallic                 Desert Brown  Front-wheel Drive   \n",
       "272                      Blue       Navy Pier/Medium Slate    All-wheel Drive   \n",
       "335                     White                         Gray  Front-wheel Drive   \n",
       "..                        ...                          ...                ...   \n",
       "449                    Cactus                   Black Onyx    All-wheel Drive   \n",
       "522                         –                            –                FWD   \n",
       "590                         –                            –  Front-wheel Drive   \n",
       "614       Cactus Green / Gray                   Black Onyx    All-wheel Drive   \n",
       "645    ICONIC SILVER METALLIC  BLACK ONYX-MED DK SLATE TRI                  –   \n",
       "\n",
       "    hybrid_or_eco  mileage                                dealer_address  \\\n",
       "553      Gasoline   9857.0          815 Nw 4th St Grand Rapids, MN 55744   \n",
       "414      Gasoline  23050.0             308 N Outer Rd St James, MO 65559   \n",
       "77       Gasoline   7518.0         700 N US Route 15 Dillsburg, PA 17019   \n",
       "272      Gasoline  11649.0            45 Washington St Foxboro, MA 02035   \n",
       "335      Gasoline  12729.0              5700 NW 27th Ave Miami, FL 33142   \n",
       "..            ...      ...                                           ...   \n",
       "449      Gasoline  13415.0      501 NE Colbern Rd Lee's Summit, MO 64086   \n",
       "522      Gasoline   7310.0  13115 Southwest Freeway Sugar Land, TX 77478   \n",
       "590        Hybrid   1402.0                 1320 US-385 Andrews, TX 79714   \n",
       "614      Gasoline     51.0             2900 N 19th Ave Bozeman, MT 59718   \n",
       "645             –  15785.0          5445 Drexel Road Las Vegas, NV 89130   \n",
       "\n",
       "    date_parsed  \n",
       "553  2023-05-12  \n",
       "414  2023-05-12  \n",
       "77   2023-05-12  \n",
       "272  2023-05-12  \n",
       "335  2023-05-12  \n",
       "..          ...  \n",
       "449  2023-05-12  \n",
       "522  2023-05-12  \n",
       "590  2023-05-12  \n",
       "614  2023-05-12  \n",
       "645  2023-05-12  \n",
       "\n",
       "[721 rows x 13 columns]"
      ]
     },
     "execution_count": 61,
     "metadata": {},
     "output_type": "execute_result"
    }
   ],
   "source": [
    "mavericks.sort_values(by='list_price')"
   ]
  },
  {
   "cell_type": "code",
   "execution_count": 62,
   "metadata": {},
   "outputs": [
    {
     "data": {
      "text/html": [
       "<div>\n",
       "<style scoped>\n",
       "    .dataframe tbody tr th:only-of-type {\n",
       "        vertical-align: middle;\n",
       "    }\n",
       "\n",
       "    .dataframe tbody tr th {\n",
       "        vertical-align: top;\n",
       "    }\n",
       "\n",
       "    .dataframe thead th {\n",
       "        text-align: right;\n",
       "    }\n",
       "</style>\n",
       "<table border=\"1\" class=\"dataframe\">\n",
       "  <thead>\n",
       "    <tr style=\"text-align: right;\">\n",
       "      <th></th>\n",
       "      <th>condition</th>\n",
       "      <th>model_year</th>\n",
       "      <th>make</th>\n",
       "      <th>model</th>\n",
       "      <th>trim_level</th>\n",
       "      <th>list_price</th>\n",
       "      <th>exterior_color</th>\n",
       "      <th>interior_color</th>\n",
       "      <th>fwd_or_awd</th>\n",
       "      <th>hybrid_or_eco</th>\n",
       "      <th>mileage</th>\n",
       "      <th>dealer_address</th>\n",
       "      <th>date_parsed</th>\n",
       "    </tr>\n",
       "  </thead>\n",
       "  <tbody>\n",
       "    <tr>\n",
       "      <th>112</th>\n",
       "      <td>USED</td>\n",
       "      <td>2023</td>\n",
       "      <td>FORD</td>\n",
       "      <td>MAVERICK</td>\n",
       "      <td>XLT</td>\n",
       "      <td>NaN</td>\n",
       "      <td>Area 51</td>\n",
       "      <td>Blue</td>\n",
       "      <td>FWD</td>\n",
       "      <td>Hybrid</td>\n",
       "      <td>NaN</td>\n",
       "      <td>3230 Satellite Blvd Duluth, GA 30096</td>\n",
       "      <td>2023-05-12</td>\n",
       "    </tr>\n",
       "    <tr>\n",
       "      <th>129</th>\n",
       "      <td>USED</td>\n",
       "      <td>2022</td>\n",
       "      <td>FORD</td>\n",
       "      <td>MAVERICK</td>\n",
       "      <td>XLT</td>\n",
       "      <td>NaN</td>\n",
       "      <td>NOT SPECIFIED</td>\n",
       "      <td>–</td>\n",
       "      <td>AWD</td>\n",
       "      <td>Gasoline</td>\n",
       "      <td>5845.0</td>\n",
       "      <td>60 Railroad Ave Hasbrouck Heights, NJ 07604</td>\n",
       "      <td>2023-05-12</td>\n",
       "    </tr>\n",
       "    <tr>\n",
       "      <th>130</th>\n",
       "      <td>USED</td>\n",
       "      <td>2022</td>\n",
       "      <td>FORD</td>\n",
       "      <td>MAVERICK</td>\n",
       "      <td>XLT</td>\n",
       "      <td>NaN</td>\n",
       "      <td>NOT SPECIFIED</td>\n",
       "      <td>–</td>\n",
       "      <td>AWD</td>\n",
       "      <td>Gasoline</td>\n",
       "      <td>15319.0</td>\n",
       "      <td>60 Railroad Ave Hasbrouck Heights, NJ 07604</td>\n",
       "      <td>2023-05-12</td>\n",
       "    </tr>\n",
       "    <tr>\n",
       "      <th>157</th>\n",
       "      <td>USED</td>\n",
       "      <td>2023</td>\n",
       "      <td>FORD</td>\n",
       "      <td>MAVERICK</td>\n",
       "      <td>XLT</td>\n",
       "      <td>NaN</td>\n",
       "      <td>Cyber Orange Metallic Tricoat</td>\n",
       "      <td>Navy Pier</td>\n",
       "      <td>All-wheel Drive</td>\n",
       "      <td>Gasoline</td>\n",
       "      <td>927.0</td>\n",
       "      <td>1024 Route 22 Brewster, NY 10509</td>\n",
       "      <td>2023-05-12</td>\n",
       "    </tr>\n",
       "    <tr>\n",
       "      <th>193</th>\n",
       "      <td>USED</td>\n",
       "      <td>2022</td>\n",
       "      <td>FORD</td>\n",
       "      <td>MAVERICK</td>\n",
       "      <td>LARIAT</td>\n",
       "      <td>NaN</td>\n",
       "      <td>Area 51</td>\n",
       "      <td>Desert Brown</td>\n",
       "      <td>Front-wheel Drive</td>\n",
       "      <td>Gasoline</td>\n",
       "      <td>11057.0</td>\n",
       "      <td>7040 E Colonial Dr Orlando, FL 32807</td>\n",
       "      <td>2023-05-12</td>\n",
       "    </tr>\n",
       "    <tr>\n",
       "      <th>203</th>\n",
       "      <td>USED</td>\n",
       "      <td>2022</td>\n",
       "      <td>FORD</td>\n",
       "      <td>MAVERICK</td>\n",
       "      <td>XLT</td>\n",
       "      <td>NaN</td>\n",
       "      <td>Blue</td>\n",
       "      <td>Navy Pier</td>\n",
       "      <td>All-wheel Drive</td>\n",
       "      <td>Gasoline</td>\n",
       "      <td>9066.0</td>\n",
       "      <td>1202 Malabar Rd SE Palm Bay, FL 32907</td>\n",
       "      <td>2023-05-12</td>\n",
       "    </tr>\n",
       "    <tr>\n",
       "      <th>215</th>\n",
       "      <td>USED</td>\n",
       "      <td>2022</td>\n",
       "      <td>FORD</td>\n",
       "      <td>MAVERICK</td>\n",
       "      <td>LARIAT</td>\n",
       "      <td>NaN</td>\n",
       "      <td>Area 51</td>\n",
       "      <td>Desert</td>\n",
       "      <td>Front-wheel Drive</td>\n",
       "      <td>Hybrid</td>\n",
       "      <td>12375.0</td>\n",
       "      <td>2600 Access Rd NW Davenport, FL 33897</td>\n",
       "      <td>2023-05-12</td>\n",
       "    </tr>\n",
       "    <tr>\n",
       "      <th>449</th>\n",
       "      <td>USED</td>\n",
       "      <td>2022</td>\n",
       "      <td>FORD</td>\n",
       "      <td>MAVERICK</td>\n",
       "      <td>XL</td>\n",
       "      <td>NaN</td>\n",
       "      <td>Cactus</td>\n",
       "      <td>Black Onyx</td>\n",
       "      <td>All-wheel Drive</td>\n",
       "      <td>Gasoline</td>\n",
       "      <td>13415.0</td>\n",
       "      <td>501 NE Colbern Rd Lee's Summit, MO 64086</td>\n",
       "      <td>2023-05-12</td>\n",
       "    </tr>\n",
       "    <tr>\n",
       "      <th>522</th>\n",
       "      <td>USED</td>\n",
       "      <td>2023</td>\n",
       "      <td>FORD</td>\n",
       "      <td>MAVERICK</td>\n",
       "      <td>XL</td>\n",
       "      <td>NaN</td>\n",
       "      <td>–</td>\n",
       "      <td>–</td>\n",
       "      <td>FWD</td>\n",
       "      <td>Gasoline</td>\n",
       "      <td>7310.0</td>\n",
       "      <td>13115 Southwest Freeway Sugar Land, TX 77478</td>\n",
       "      <td>2023-05-12</td>\n",
       "    </tr>\n",
       "    <tr>\n",
       "      <th>590</th>\n",
       "      <td>USED</td>\n",
       "      <td>2022</td>\n",
       "      <td>FORD</td>\n",
       "      <td>MAVERICK</td>\n",
       "      <td>LARIAT</td>\n",
       "      <td>NaN</td>\n",
       "      <td>–</td>\n",
       "      <td>–</td>\n",
       "      <td>Front-wheel Drive</td>\n",
       "      <td>Hybrid</td>\n",
       "      <td>1402.0</td>\n",
       "      <td>1320 US-385 Andrews, TX 79714</td>\n",
       "      <td>2023-05-12</td>\n",
       "    </tr>\n",
       "    <tr>\n",
       "      <th>614</th>\n",
       "      <td>USED</td>\n",
       "      <td>2023</td>\n",
       "      <td>FORD</td>\n",
       "      <td>MAVERICK</td>\n",
       "      <td>XLT</td>\n",
       "      <td>NaN</td>\n",
       "      <td>Cactus Green / Gray</td>\n",
       "      <td>Black Onyx</td>\n",
       "      <td>All-wheel Drive</td>\n",
       "      <td>Gasoline</td>\n",
       "      <td>51.0</td>\n",
       "      <td>2900 N 19th Ave Bozeman, MT 59718</td>\n",
       "      <td>2023-05-12</td>\n",
       "    </tr>\n",
       "    <tr>\n",
       "      <th>645</th>\n",
       "      <td>CERTIFIED</td>\n",
       "      <td>2022</td>\n",
       "      <td>FORD</td>\n",
       "      <td>MAVERICK</td>\n",
       "      <td>XL</td>\n",
       "      <td>NaN</td>\n",
       "      <td>ICONIC SILVER METALLIC</td>\n",
       "      <td>BLACK ONYX-MED DK SLATE TRI</td>\n",
       "      <td>–</td>\n",
       "      <td>–</td>\n",
       "      <td>15785.0</td>\n",
       "      <td>5445 Drexel Road Las Vegas, NV 89130</td>\n",
       "      <td>2023-05-12</td>\n",
       "    </tr>\n",
       "  </tbody>\n",
       "</table>\n",
       "</div>"
      ],
      "text/plain": [
       "     condition  model_year  make     model trim_level  list_price  \\\n",
       "112       USED        2023  FORD  MAVERICK        XLT         NaN   \n",
       "129       USED        2022  FORD  MAVERICK        XLT         NaN   \n",
       "130       USED        2022  FORD  MAVERICK        XLT         NaN   \n",
       "157       USED        2023  FORD  MAVERICK        XLT         NaN   \n",
       "193       USED        2022  FORD  MAVERICK     LARIAT         NaN   \n",
       "203       USED        2022  FORD  MAVERICK        XLT         NaN   \n",
       "215       USED        2022  FORD  MAVERICK     LARIAT         NaN   \n",
       "449       USED        2022  FORD  MAVERICK         XL         NaN   \n",
       "522       USED        2023  FORD  MAVERICK         XL         NaN   \n",
       "590       USED        2022  FORD  MAVERICK     LARIAT         NaN   \n",
       "614       USED        2023  FORD  MAVERICK        XLT         NaN   \n",
       "645  CERTIFIED        2022  FORD  MAVERICK         XL         NaN   \n",
       "\n",
       "                    exterior_color               interior_color  \\\n",
       "112                        Area 51                         Blue   \n",
       "129                  NOT SPECIFIED                            –   \n",
       "130                  NOT SPECIFIED                            –   \n",
       "157  Cyber Orange Metallic Tricoat                    Navy Pier   \n",
       "193                        Area 51                 Desert Brown   \n",
       "203                           Blue                    Navy Pier   \n",
       "215                        Area 51                       Desert   \n",
       "449                         Cactus                   Black Onyx   \n",
       "522                              –                            –   \n",
       "590                              –                            –   \n",
       "614            Cactus Green / Gray                   Black Onyx   \n",
       "645         ICONIC SILVER METALLIC  BLACK ONYX-MED DK SLATE TRI   \n",
       "\n",
       "            fwd_or_awd hybrid_or_eco  mileage  \\\n",
       "112                FWD        Hybrid      NaN   \n",
       "129                AWD      Gasoline   5845.0   \n",
       "130                AWD      Gasoline  15319.0   \n",
       "157    All-wheel Drive      Gasoline    927.0   \n",
       "193  Front-wheel Drive      Gasoline  11057.0   \n",
       "203    All-wheel Drive      Gasoline   9066.0   \n",
       "215  Front-wheel Drive        Hybrid  12375.0   \n",
       "449    All-wheel Drive      Gasoline  13415.0   \n",
       "522                FWD      Gasoline   7310.0   \n",
       "590  Front-wheel Drive        Hybrid   1402.0   \n",
       "614    All-wheel Drive      Gasoline     51.0   \n",
       "645                  –             –  15785.0   \n",
       "\n",
       "                                   dealer_address date_parsed  \n",
       "112          3230 Satellite Blvd Duluth, GA 30096  2023-05-12  \n",
       "129   60 Railroad Ave Hasbrouck Heights, NJ 07604  2023-05-12  \n",
       "130   60 Railroad Ave Hasbrouck Heights, NJ 07604  2023-05-12  \n",
       "157              1024 Route 22 Brewster, NY 10509  2023-05-12  \n",
       "193          7040 E Colonial Dr Orlando, FL 32807  2023-05-12  \n",
       "203         1202 Malabar Rd SE Palm Bay, FL 32907  2023-05-12  \n",
       "215         2600 Access Rd NW Davenport, FL 33897  2023-05-12  \n",
       "449      501 NE Colbern Rd Lee's Summit, MO 64086  2023-05-12  \n",
       "522  13115 Southwest Freeway Sugar Land, TX 77478  2023-05-12  \n",
       "590                 1320 US-385 Andrews, TX 79714  2023-05-12  \n",
       "614             2900 N 19th Ave Bozeman, MT 59718  2023-05-12  \n",
       "645          5445 Drexel Road Las Vegas, NV 89130  2023-05-12  "
      ]
     },
     "execution_count": 62,
     "metadata": {},
     "output_type": "execute_result"
    }
   ],
   "source": [
    "mavericks[mavericks.list_price.isna()]"
   ]
  },
  {
   "cell_type": "code",
   "execution_count": 63,
   "metadata": {},
   "outputs": [],
   "source": [
    "#this is an important line of code, do not delete it\n",
    "mavericks = mavericks.dropna(subset='list_price') # drop na because we are about to do statistics on price"
   ]
  },
  {
   "cell_type": "code",
   "execution_count": 102,
   "metadata": {},
   "outputs": [
    {
     "data": {
      "text/plain": [
       "(38998.0, 34611.0, 4387.0)"
      ]
     },
     "execution_count": 102,
     "metadata": {},
     "output_type": "execute_result"
    }
   ],
   "source": [
    "#important cell, do not delete\n",
    "#calculate upper and lower quartile so you can get the interquartile range to eliminate outliers\n",
    "q75,q25 = np.percentile(np.array(mavericks.list_price),[75,25])\n",
    "intr_qr = q75 - q25\n",
    "q75,q25,intr_qr\n"
   ]
  },
  {
   "cell_type": "code",
   "execution_count": 68,
   "metadata": {},
   "outputs": [
    {
     "data": {
      "text/plain": [
       "(45578.5, 28030.5)"
      ]
     },
     "execution_count": 68,
     "metadata": {},
     "output_type": "execute_result"
    }
   ],
   "source": [
    "#max = maximum value for standard outliers, min = min value for standard outliers\n",
    "max = q75+(1.5*intr_qr)\n",
    "min = q25-(1.5*intr_qr)\n",
    "max,min"
   ]
  },
  {
   "cell_type": "code",
   "execution_count": 69,
   "metadata": {},
   "outputs": [
    {
     "data": {
      "text/plain": [
       "(52159.0, 21450.0)"
      ]
     },
     "execution_count": 69,
     "metadata": {},
     "output_type": "execute_result"
    }
   ],
   "source": [
    "#max_ex = max value for extreme outliers, min_ex = min value for extreme outliers\n",
    "max_ex = q75+(3*intr_qr)\n",
    "min_ex = q25-(3*intr_qr)\n",
    "max_ex,min_ex"
   ]
  },
  {
   "cell_type": "code",
   "execution_count": 71,
   "metadata": {},
   "outputs": [
    {
     "data": {
      "text/html": [
       "<div>\n",
       "<style scoped>\n",
       "    .dataframe tbody tr th:only-of-type {\n",
       "        vertical-align: middle;\n",
       "    }\n",
       "\n",
       "    .dataframe tbody tr th {\n",
       "        vertical-align: top;\n",
       "    }\n",
       "\n",
       "    .dataframe thead th {\n",
       "        text-align: right;\n",
       "    }\n",
       "</style>\n",
       "<table border=\"1\" class=\"dataframe\">\n",
       "  <thead>\n",
       "    <tr style=\"text-align: right;\">\n",
       "      <th></th>\n",
       "      <th>condition</th>\n",
       "      <th>model_year</th>\n",
       "      <th>make</th>\n",
       "      <th>model</th>\n",
       "      <th>trim_level</th>\n",
       "      <th>list_price</th>\n",
       "      <th>exterior_color</th>\n",
       "      <th>interior_color</th>\n",
       "      <th>fwd_or_awd</th>\n",
       "      <th>hybrid_or_eco</th>\n",
       "      <th>mileage</th>\n",
       "      <th>dealer_address</th>\n",
       "      <th>date_parsed</th>\n",
       "    </tr>\n",
       "  </thead>\n",
       "  <tbody>\n",
       "    <tr>\n",
       "      <th>77</th>\n",
       "      <td>USED</td>\n",
       "      <td>2022</td>\n",
       "      <td>FORD</td>\n",
       "      <td>MAVERICK</td>\n",
       "      <td>LARIAT</td>\n",
       "      <td>0.0</td>\n",
       "      <td>Carbonized Grey Metallic</td>\n",
       "      <td>Desert Brown</td>\n",
       "      <td>Front-wheel Drive</td>\n",
       "      <td>Gasoline</td>\n",
       "      <td>7518.0</td>\n",
       "      <td>700 N US Route 15 Dillsburg, PA 17019</td>\n",
       "      <td>2023-05-12</td>\n",
       "    </tr>\n",
       "    <tr>\n",
       "      <th>272</th>\n",
       "      <td>USED</td>\n",
       "      <td>2022</td>\n",
       "      <td>FORD</td>\n",
       "      <td>MAVERICK</td>\n",
       "      <td>XLT</td>\n",
       "      <td>0.0</td>\n",
       "      <td>Blue</td>\n",
       "      <td>Navy Pier/Medium Slate</td>\n",
       "      <td>All-wheel Drive</td>\n",
       "      <td>Gasoline</td>\n",
       "      <td>11649.0</td>\n",
       "      <td>45 Washington St Foxboro, MA 02035</td>\n",
       "      <td>2023-05-12</td>\n",
       "    </tr>\n",
       "    <tr>\n",
       "      <th>335</th>\n",
       "      <td>USED</td>\n",
       "      <td>2022</td>\n",
       "      <td>FORD</td>\n",
       "      <td>MAVERICK</td>\n",
       "      <td>XL</td>\n",
       "      <td>11950.0</td>\n",
       "      <td>White</td>\n",
       "      <td>Gray</td>\n",
       "      <td>Front-wheel Drive</td>\n",
       "      <td>Gasoline</td>\n",
       "      <td>12729.0</td>\n",
       "      <td>5700 NW 27th Ave Miami, FL 33142</td>\n",
       "      <td>2023-05-12</td>\n",
       "    </tr>\n",
       "    <tr>\n",
       "      <th>414</th>\n",
       "      <td>USED</td>\n",
       "      <td>2022</td>\n",
       "      <td>FORD</td>\n",
       "      <td>MAVERICK</td>\n",
       "      <td>XLT</td>\n",
       "      <td>0.0</td>\n",
       "      <td>–</td>\n",
       "      <td>Navy Pier/Medium Slate</td>\n",
       "      <td>Front-wheel Drive</td>\n",
       "      <td>Gasoline</td>\n",
       "      <td>23050.0</td>\n",
       "      <td>308 N Outer Rd St James, MO 65559</td>\n",
       "      <td>2023-05-12</td>\n",
       "    </tr>\n",
       "    <tr>\n",
       "      <th>553</th>\n",
       "      <td>USED</td>\n",
       "      <td>2022</td>\n",
       "      <td>FORD</td>\n",
       "      <td>MAVERICK</td>\n",
       "      <td>XLT</td>\n",
       "      <td>0.0</td>\n",
       "      <td>–</td>\n",
       "      <td>Navy Pier/Medium Slate</td>\n",
       "      <td>Front-wheel Drive</td>\n",
       "      <td>Gasoline</td>\n",
       "      <td>9857.0</td>\n",
       "      <td>815 Nw 4th St Grand Rapids, MN 55744</td>\n",
       "      <td>2023-05-12</td>\n",
       "    </tr>\n",
       "  </tbody>\n",
       "</table>\n",
       "</div>"
      ],
      "text/plain": [
       "    condition  model_year  make     model trim_level  list_price  \\\n",
       "77       USED        2022  FORD  MAVERICK     LARIAT         0.0   \n",
       "272      USED        2022  FORD  MAVERICK        XLT         0.0   \n",
       "335      USED        2022  FORD  MAVERICK         XL     11950.0   \n",
       "414      USED        2022  FORD  MAVERICK        XLT         0.0   \n",
       "553      USED        2022  FORD  MAVERICK        XLT         0.0   \n",
       "\n",
       "               exterior_color          interior_color         fwd_or_awd  \\\n",
       "77   Carbonized Grey Metallic            Desert Brown  Front-wheel Drive   \n",
       "272                      Blue  Navy Pier/Medium Slate    All-wheel Drive   \n",
       "335                     White                    Gray  Front-wheel Drive   \n",
       "414                         –  Navy Pier/Medium Slate  Front-wheel Drive   \n",
       "553                         –  Navy Pier/Medium Slate  Front-wheel Drive   \n",
       "\n",
       "    hybrid_or_eco  mileage                         dealer_address date_parsed  \n",
       "77       Gasoline   7518.0  700 N US Route 15 Dillsburg, PA 17019  2023-05-12  \n",
       "272      Gasoline  11649.0     45 Washington St Foxboro, MA 02035  2023-05-12  \n",
       "335      Gasoline  12729.0       5700 NW 27th Ave Miami, FL 33142  2023-05-12  \n",
       "414      Gasoline  23050.0      308 N Outer Rd St James, MO 65559  2023-05-12  \n",
       "553      Gasoline   9857.0   815 Nw 4th St Grand Rapids, MN 55744  2023-05-12  "
      ]
     },
     "execution_count": 71,
     "metadata": {},
     "output_type": "execute_result"
    }
   ],
   "source": [
    "mavericks[mavericks.list_price < min_ex]"
   ]
  },
  {
   "cell_type": "code",
   "execution_count": 106,
   "metadata": {},
   "outputs": [
    {
     "data": {
      "text/html": [
       "<div>\n",
       "<style scoped>\n",
       "    .dataframe tbody tr th:only-of-type {\n",
       "        vertical-align: middle;\n",
       "    }\n",
       "\n",
       "    .dataframe tbody tr th {\n",
       "        vertical-align: top;\n",
       "    }\n",
       "\n",
       "    .dataframe thead th {\n",
       "        text-align: right;\n",
       "    }\n",
       "</style>\n",
       "<table border=\"1\" class=\"dataframe\">\n",
       "  <thead>\n",
       "    <tr style=\"text-align: right;\">\n",
       "      <th></th>\n",
       "      <th>condition</th>\n",
       "      <th>model_year</th>\n",
       "      <th>make</th>\n",
       "      <th>model</th>\n",
       "      <th>trim_level</th>\n",
       "      <th>list_price</th>\n",
       "      <th>exterior_color</th>\n",
       "      <th>interior_color</th>\n",
       "      <th>fwd_or_awd</th>\n",
       "      <th>hybrid_or_eco</th>\n",
       "      <th>mileage</th>\n",
       "      <th>dealer_address</th>\n",
       "      <th>date_parsed</th>\n",
       "    </tr>\n",
       "  </thead>\n",
       "  <tbody>\n",
       "  </tbody>\n",
       "</table>\n",
       "</div>"
      ],
      "text/plain": [
       "Empty DataFrame\n",
       "Columns: [condition, model_year, make, model, trim_level, list_price, exterior_color, interior_color, fwd_or_awd, hybrid_or_eco, mileage, dealer_address, date_parsed]\n",
       "Index: []"
      ]
     },
     "execution_count": 106,
     "metadata": {},
     "output_type": "execute_result"
    }
   ],
   "source": [
    "mavericks[mavericks.list_price > max_ex]"
   ]
  },
  {
   "cell_type": "code",
   "execution_count": 75,
   "metadata": {},
   "outputs": [],
   "source": [
    "#this is an important cell of code, do not delete\n",
    "#only removing low outliers for now because high outliers DNE, and slightly \"extreme\" outliers should be evaluated on a case by case basis in this market\n",
    "mavericks_outliers_removed = mavericks.copy() #make copy to do stats work on\n",
    "mavericks_outliers_removed.loc[:,'list_price'] = mavericks.list_price.mask(mavericks.list_price < min_ex, other=np.nan) # set extreme prices to nan \n",
    "#mavericks_outliers_removed.loc[:,'list_price'] = mavericks.list_price.mask(mavericks.list_price > max_ex, other=np.nan) # set extreme high prices to nan \n"
   ]
  },
  {
   "cell_type": "code",
   "execution_count": 105,
   "metadata": {},
   "outputs": [
    {
     "data": {
      "text/html": [
       "<div>\n",
       "<style scoped>\n",
       "    .dataframe tbody tr th:only-of-type {\n",
       "        vertical-align: middle;\n",
       "    }\n",
       "\n",
       "    .dataframe tbody tr th {\n",
       "        vertical-align: top;\n",
       "    }\n",
       "\n",
       "    .dataframe thead th {\n",
       "        text-align: right;\n",
       "    }\n",
       "</style>\n",
       "<table border=\"1\" class=\"dataframe\">\n",
       "  <thead>\n",
       "    <tr style=\"text-align: right;\">\n",
       "      <th></th>\n",
       "      <th>condition</th>\n",
       "      <th>model_year</th>\n",
       "      <th>make</th>\n",
       "      <th>model</th>\n",
       "      <th>trim_level</th>\n",
       "      <th>list_price</th>\n",
       "      <th>exterior_color</th>\n",
       "      <th>interior_color</th>\n",
       "      <th>fwd_or_awd</th>\n",
       "      <th>hybrid_or_eco</th>\n",
       "      <th>mileage</th>\n",
       "      <th>dealer_address</th>\n",
       "      <th>date_parsed</th>\n",
       "    </tr>\n",
       "  </thead>\n",
       "  <tbody>\n",
       "  </tbody>\n",
       "</table>\n",
       "</div>"
      ],
      "text/plain": [
       "Empty DataFrame\n",
       "Columns: [condition, model_year, make, model, trim_level, list_price, exterior_color, interior_color, fwd_or_awd, hybrid_or_eco, mileage, dealer_address, date_parsed]\n",
       "Index: []"
      ]
     },
     "execution_count": 105,
     "metadata": {},
     "output_type": "execute_result"
    }
   ],
   "source": []
  },
  {
   "cell_type": "code",
   "execution_count": null,
   "metadata": {},
   "outputs": [],
   "source": []
  },
  {
   "cell_type": "code",
   "execution_count": 83,
   "metadata": {},
   "outputs": [
    {
     "data": {
      "text/html": [
       "<div>\n",
       "<style scoped>\n",
       "    .dataframe tbody tr th:only-of-type {\n",
       "        vertical-align: middle;\n",
       "    }\n",
       "\n",
       "    .dataframe tbody tr th {\n",
       "        vertical-align: top;\n",
       "    }\n",
       "\n",
       "    .dataframe thead th {\n",
       "        text-align: right;\n",
       "    }\n",
       "</style>\n",
       "<table border=\"1\" class=\"dataframe\">\n",
       "  <thead>\n",
       "    <tr style=\"text-align: right;\">\n",
       "      <th></th>\n",
       "      <th>condition</th>\n",
       "      <th>model_year</th>\n",
       "      <th>make</th>\n",
       "      <th>model</th>\n",
       "      <th>trim_level</th>\n",
       "      <th>list_price</th>\n",
       "      <th>exterior_color</th>\n",
       "      <th>interior_color</th>\n",
       "      <th>fwd_or_awd</th>\n",
       "      <th>hybrid_or_eco</th>\n",
       "      <th>mileage</th>\n",
       "      <th>dealer_address</th>\n",
       "      <th>date_parsed</th>\n",
       "    </tr>\n",
       "  </thead>\n",
       "  <tbody>\n",
       "    <tr>\n",
       "      <th>0</th>\n",
       "      <td>USED</td>\n",
       "      <td>2023</td>\n",
       "      <td>FORD</td>\n",
       "      <td>MAVERICK</td>\n",
       "      <td>XLT</td>\n",
       "      <td>38988.0</td>\n",
       "      <td>Hot Pepper Red Tinted Clearcoat</td>\n",
       "      <td>Navy Pier</td>\n",
       "      <td>Front-wheel Drive</td>\n",
       "      <td>Hybrid</td>\n",
       "      <td>20.0</td>\n",
       "      <td>4328 Louisburg Rd Raleigh, NC 27604</td>\n",
       "      <td>2023-05-12</td>\n",
       "    </tr>\n",
       "    <tr>\n",
       "      <th>420</th>\n",
       "      <td>CERTIFIED</td>\n",
       "      <td>2022</td>\n",
       "      <td>FORD</td>\n",
       "      <td>MAVERICK</td>\n",
       "      <td>XLT</td>\n",
       "      <td>35734.0</td>\n",
       "      <td>Velocity Blue Metallic</td>\n",
       "      <td>Navy Pier</td>\n",
       "      <td>All-wheel Drive</td>\n",
       "      <td>Gasoline</td>\n",
       "      <td>20076.0</td>\n",
       "      <td>2303 W. Beltline Highway Madison, WI 53713</td>\n",
       "      <td>2023-05-12</td>\n",
       "    </tr>\n",
       "    <tr>\n",
       "      <th>379</th>\n",
       "      <td>USED</td>\n",
       "      <td>2022</td>\n",
       "      <td>FORD</td>\n",
       "      <td>MAVERICK</td>\n",
       "      <td>XLT</td>\n",
       "      <td>36995.0</td>\n",
       "      <td>Cactus Grey</td>\n",
       "      <td>Navy Pier/Medium Slate</td>\n",
       "      <td>All-wheel Drive</td>\n",
       "      <td>Gasoline</td>\n",
       "      <td>5565.0</td>\n",
       "      <td>4173 Ogden Ave Aurora, IL 60504</td>\n",
       "      <td>2023-05-12</td>\n",
       "    </tr>\n",
       "    <tr>\n",
       "      <th>378</th>\n",
       "      <td>CERTIFIED</td>\n",
       "      <td>2022</td>\n",
       "      <td>FORD</td>\n",
       "      <td>MAVERICK</td>\n",
       "      <td>XLT</td>\n",
       "      <td>35999.0</td>\n",
       "      <td>Shadow Black</td>\n",
       "      <td>Navy Pier</td>\n",
       "      <td>All-wheel Drive</td>\n",
       "      <td>Gasoline</td>\n",
       "      <td>7154.0</td>\n",
       "      <td>2055 Ogden Ave Naperville, IL 60540</td>\n",
       "      <td>2023-05-12</td>\n",
       "    </tr>\n",
       "    <tr>\n",
       "      <th>377</th>\n",
       "      <td>USED</td>\n",
       "      <td>2022</td>\n",
       "      <td>FORD</td>\n",
       "      <td>MAVERICK</td>\n",
       "      <td>XLT</td>\n",
       "      <td>37995.0</td>\n",
       "      <td>Area 51</td>\n",
       "      <td>Navy Pier</td>\n",
       "      <td>Front-wheel Drive</td>\n",
       "      <td>Gasoline</td>\n",
       "      <td>2160.0</td>\n",
       "      <td>1301 US 49 Paragould, AR 72450</td>\n",
       "      <td>2023-05-12</td>\n",
       "    </tr>\n",
       "    <tr>\n",
       "      <th>...</th>\n",
       "      <td>...</td>\n",
       "      <td>...</td>\n",
       "      <td>...</td>\n",
       "      <td>...</td>\n",
       "      <td>...</td>\n",
       "      <td>...</td>\n",
       "      <td>...</td>\n",
       "      <td>...</td>\n",
       "      <td>...</td>\n",
       "      <td>...</td>\n",
       "      <td>...</td>\n",
       "      <td>...</td>\n",
       "      <td>...</td>\n",
       "    </tr>\n",
       "    <tr>\n",
       "      <th>453</th>\n",
       "      <td>USED</td>\n",
       "      <td>2023</td>\n",
       "      <td>FORD</td>\n",
       "      <td>MAVERICK</td>\n",
       "      <td>LARIAT</td>\n",
       "      <td>44997.0</td>\n",
       "      <td>Gray</td>\n",
       "      <td>Brown</td>\n",
       "      <td>All-wheel Drive</td>\n",
       "      <td>Gasoline</td>\n",
       "      <td>1299.0</td>\n",
       "      <td>7576 US-51 Minocqua, WI 54548</td>\n",
       "      <td>2023-05-12</td>\n",
       "    </tr>\n",
       "    <tr>\n",
       "      <th>454</th>\n",
       "      <td>USED</td>\n",
       "      <td>2023</td>\n",
       "      <td>FORD</td>\n",
       "      <td>MAVERICK</td>\n",
       "      <td>LARIAT</td>\n",
       "      <td>47997.0</td>\n",
       "      <td>White</td>\n",
       "      <td>Black</td>\n",
       "      <td>All-wheel Drive</td>\n",
       "      <td>Gasoline</td>\n",
       "      <td>931.0</td>\n",
       "      <td>7576 US-51 Minocqua, WI 54548</td>\n",
       "      <td>2023-05-12</td>\n",
       "    </tr>\n",
       "    <tr>\n",
       "      <th>455</th>\n",
       "      <td>USED</td>\n",
       "      <td>2022</td>\n",
       "      <td>FORD</td>\n",
       "      <td>MAVERICK</td>\n",
       "      <td>LARIAT</td>\n",
       "      <td>32900.0</td>\n",
       "      <td>Orange</td>\n",
       "      <td>Brown / Black</td>\n",
       "      <td>All-wheel Drive</td>\n",
       "      <td>Gasoline</td>\n",
       "      <td>12717.0</td>\n",
       "      <td>805 SE 30th st Des Moines, IA 50317</td>\n",
       "      <td>2023-05-12</td>\n",
       "    </tr>\n",
       "    <tr>\n",
       "      <th>457</th>\n",
       "      <td>USED</td>\n",
       "      <td>2022</td>\n",
       "      <td>FORD</td>\n",
       "      <td>MAVERICK</td>\n",
       "      <td>LARIAT</td>\n",
       "      <td>38500.0</td>\n",
       "      <td>Cactus Green / Gray</td>\n",
       "      <td>Desert</td>\n",
       "      <td>All-wheel Drive</td>\n",
       "      <td>Gasoline</td>\n",
       "      <td>17784.0</td>\n",
       "      <td>220 W 103rd St KCMO, MO 64114</td>\n",
       "      <td>2023-05-12</td>\n",
       "    </tr>\n",
       "    <tr>\n",
       "      <th>752</th>\n",
       "      <td>CERTIFIED</td>\n",
       "      <td>2022</td>\n",
       "      <td>FORD</td>\n",
       "      <td>MAVERICK</td>\n",
       "      <td>LARIAT</td>\n",
       "      <td>42987.0</td>\n",
       "      <td>Iconic Silver Metallic</td>\n",
       "      <td>Desert</td>\n",
       "      <td>All-wheel Drive</td>\n",
       "      <td>Gasoline</td>\n",
       "      <td>8788.0</td>\n",
       "      <td>98-15 Kamehameha Hwy Aiea, HI 96701</td>\n",
       "      <td>2023-05-12</td>\n",
       "    </tr>\n",
       "  </tbody>\n",
       "</table>\n",
       "<p>709 rows × 13 columns</p>\n",
       "</div>"
      ],
      "text/plain": [
       "     condition  model_year  make     model trim_level  list_price  \\\n",
       "0         USED        2023  FORD  MAVERICK        XLT     38988.0   \n",
       "420  CERTIFIED        2022  FORD  MAVERICK        XLT     35734.0   \n",
       "379       USED        2022  FORD  MAVERICK        XLT     36995.0   \n",
       "378  CERTIFIED        2022  FORD  MAVERICK        XLT     35999.0   \n",
       "377       USED        2022  FORD  MAVERICK        XLT     37995.0   \n",
       "..         ...         ...   ...       ...        ...         ...   \n",
       "453       USED        2023  FORD  MAVERICK     LARIAT     44997.0   \n",
       "454       USED        2023  FORD  MAVERICK     LARIAT     47997.0   \n",
       "455       USED        2022  FORD  MAVERICK     LARIAT     32900.0   \n",
       "457       USED        2022  FORD  MAVERICK     LARIAT     38500.0   \n",
       "752  CERTIFIED        2022  FORD  MAVERICK     LARIAT     42987.0   \n",
       "\n",
       "                      exterior_color          interior_color  \\\n",
       "0    Hot Pepper Red Tinted Clearcoat               Navy Pier   \n",
       "420           Velocity Blue Metallic               Navy Pier   \n",
       "379                      Cactus Grey  Navy Pier/Medium Slate   \n",
       "378                     Shadow Black               Navy Pier   \n",
       "377                          Area 51               Navy Pier   \n",
       "..                               ...                     ...   \n",
       "453                             Gray                   Brown   \n",
       "454                            White                   Black   \n",
       "455                           Orange           Brown / Black   \n",
       "457              Cactus Green / Gray                  Desert   \n",
       "752           Iconic Silver Metallic                  Desert   \n",
       "\n",
       "            fwd_or_awd hybrid_or_eco  mileage  \\\n",
       "0    Front-wheel Drive        Hybrid     20.0   \n",
       "420    All-wheel Drive      Gasoline  20076.0   \n",
       "379    All-wheel Drive      Gasoline   5565.0   \n",
       "378    All-wheel Drive      Gasoline   7154.0   \n",
       "377  Front-wheel Drive      Gasoline   2160.0   \n",
       "..                 ...           ...      ...   \n",
       "453    All-wheel Drive      Gasoline   1299.0   \n",
       "454    All-wheel Drive      Gasoline    931.0   \n",
       "455    All-wheel Drive      Gasoline  12717.0   \n",
       "457    All-wheel Drive      Gasoline  17784.0   \n",
       "752    All-wheel Drive      Gasoline   8788.0   \n",
       "\n",
       "                                 dealer_address date_parsed  \n",
       "0           4328 Louisburg Rd Raleigh, NC 27604  2023-05-12  \n",
       "420  2303 W. Beltline Highway Madison, WI 53713  2023-05-12  \n",
       "379             4173 Ogden Ave Aurora, IL 60504  2023-05-12  \n",
       "378         2055 Ogden Ave Naperville, IL 60540  2023-05-12  \n",
       "377              1301 US 49 Paragould, AR 72450  2023-05-12  \n",
       "..                                          ...         ...  \n",
       "453               7576 US-51 Minocqua, WI 54548  2023-05-12  \n",
       "454               7576 US-51 Minocqua, WI 54548  2023-05-12  \n",
       "455         805 SE 30th st Des Moines, IA 50317  2023-05-12  \n",
       "457               220 W 103rd St KCMO, MO 64114  2023-05-12  \n",
       "752         98-15 Kamehameha Hwy Aiea, HI 96701  2023-05-12  \n",
       "\n",
       "[709 rows x 13 columns]"
      ]
     },
     "execution_count": 83,
     "metadata": {},
     "output_type": "execute_result"
    }
   ],
   "source": [
    "mavericks_outliers_removed.sort_values(by='trim_level', ascending=False)"
   ]
  },
  {
   "cell_type": "code",
   "execution_count": 76,
   "metadata": {},
   "outputs": [
    {
     "data": {
      "text/html": [
       "<div>\n",
       "<style scoped>\n",
       "    .dataframe tbody tr th:only-of-type {\n",
       "        vertical-align: middle;\n",
       "    }\n",
       "\n",
       "    .dataframe tbody tr th {\n",
       "        vertical-align: top;\n",
       "    }\n",
       "\n",
       "    .dataframe thead th {\n",
       "        text-align: right;\n",
       "    }\n",
       "</style>\n",
       "<table border=\"1\" class=\"dataframe\">\n",
       "  <thead>\n",
       "    <tr style=\"text-align: right;\">\n",
       "      <th></th>\n",
       "      <th>condition</th>\n",
       "      <th>model_year</th>\n",
       "      <th>make</th>\n",
       "      <th>model</th>\n",
       "      <th>trim_level</th>\n",
       "      <th>list_price</th>\n",
       "      <th>exterior_color</th>\n",
       "      <th>interior_color</th>\n",
       "      <th>fwd_or_awd</th>\n",
       "      <th>hybrid_or_eco</th>\n",
       "      <th>mileage</th>\n",
       "      <th>dealer_address</th>\n",
       "      <th>date_parsed</th>\n",
       "    </tr>\n",
       "  </thead>\n",
       "  <tbody>\n",
       "    <tr>\n",
       "      <th>202</th>\n",
       "      <td>USED</td>\n",
       "      <td>2023</td>\n",
       "      <td>FORD</td>\n",
       "      <td>MAVERICK</td>\n",
       "      <td>LARIAT</td>\n",
       "      <td>47995.0</td>\n",
       "      <td>Oxford White</td>\n",
       "      <td>Desert</td>\n",
       "      <td>All-wheel Drive</td>\n",
       "      <td>Gasoline</td>\n",
       "      <td>272.0</td>\n",
       "      <td>2305 S. College St. Auburn, AL 36832</td>\n",
       "      <td>2023-05-12</td>\n",
       "    </tr>\n",
       "    <tr>\n",
       "      <th>454</th>\n",
       "      <td>USED</td>\n",
       "      <td>2023</td>\n",
       "      <td>FORD</td>\n",
       "      <td>MAVERICK</td>\n",
       "      <td>LARIAT</td>\n",
       "      <td>47997.0</td>\n",
       "      <td>White</td>\n",
       "      <td>Black</td>\n",
       "      <td>All-wheel Drive</td>\n",
       "      <td>Gasoline</td>\n",
       "      <td>931.0</td>\n",
       "      <td>7576 US-51 Minocqua, WI 54548</td>\n",
       "      <td>2023-05-12</td>\n",
       "    </tr>\n",
       "    <tr>\n",
       "      <th>46</th>\n",
       "      <td>USED</td>\n",
       "      <td>2023</td>\n",
       "      <td>FORD</td>\n",
       "      <td>MAVERICK</td>\n",
       "      <td>LARIAT</td>\n",
       "      <td>49997.0</td>\n",
       "      <td>White</td>\n",
       "      <td>Black Onyx</td>\n",
       "      <td>All-wheel Drive</td>\n",
       "      <td>Gasoline</td>\n",
       "      <td>135.0</td>\n",
       "      <td>6510 Little River Tpke Alexandria, VA 22312</td>\n",
       "      <td>2023-05-12</td>\n",
       "    </tr>\n",
       "    <tr>\n",
       "      <th>104</th>\n",
       "      <td>USED</td>\n",
       "      <td>2023</td>\n",
       "      <td>FORD</td>\n",
       "      <td>MAVERICK</td>\n",
       "      <td>LARIAT</td>\n",
       "      <td>51825.0</td>\n",
       "      <td>Cactus Green / Gray</td>\n",
       "      <td>Black Onyx</td>\n",
       "      <td>All-wheel Drive</td>\n",
       "      <td>Gasoline</td>\n",
       "      <td>129.0</td>\n",
       "      <td>2030 GA-40 Kingsland, GA 31548</td>\n",
       "      <td>2023-05-12</td>\n",
       "    </tr>\n",
       "    <tr>\n",
       "      <th>395</th>\n",
       "      <td>USED</td>\n",
       "      <td>2023</td>\n",
       "      <td>FORD</td>\n",
       "      <td>MAVERICK</td>\n",
       "      <td>LARIAT</td>\n",
       "      <td>52000.0</td>\n",
       "      <td>Oxford White</td>\n",
       "      <td>Black Onyx</td>\n",
       "      <td>All-wheel Drive</td>\n",
       "      <td>Gasoline</td>\n",
       "      <td>55.0</td>\n",
       "      <td>1045 E Chicago St Elgin, IL 60120</td>\n",
       "      <td>2023-05-12</td>\n",
       "    </tr>\n",
       "    <tr>\n",
       "      <th>77</th>\n",
       "      <td>USED</td>\n",
       "      <td>2022</td>\n",
       "      <td>FORD</td>\n",
       "      <td>MAVERICK</td>\n",
       "      <td>LARIAT</td>\n",
       "      <td>NaN</td>\n",
       "      <td>Carbonized Grey Metallic</td>\n",
       "      <td>Desert Brown</td>\n",
       "      <td>Front-wheel Drive</td>\n",
       "      <td>Gasoline</td>\n",
       "      <td>7518.0</td>\n",
       "      <td>700 N US Route 15 Dillsburg, PA 17019</td>\n",
       "      <td>2023-05-12</td>\n",
       "    </tr>\n",
       "    <tr>\n",
       "      <th>272</th>\n",
       "      <td>USED</td>\n",
       "      <td>2022</td>\n",
       "      <td>FORD</td>\n",
       "      <td>MAVERICK</td>\n",
       "      <td>XLT</td>\n",
       "      <td>NaN</td>\n",
       "      <td>Blue</td>\n",
       "      <td>Navy Pier/Medium Slate</td>\n",
       "      <td>All-wheel Drive</td>\n",
       "      <td>Gasoline</td>\n",
       "      <td>11649.0</td>\n",
       "      <td>45 Washington St Foxboro, MA 02035</td>\n",
       "      <td>2023-05-12</td>\n",
       "    </tr>\n",
       "    <tr>\n",
       "      <th>335</th>\n",
       "      <td>USED</td>\n",
       "      <td>2022</td>\n",
       "      <td>FORD</td>\n",
       "      <td>MAVERICK</td>\n",
       "      <td>XL</td>\n",
       "      <td>NaN</td>\n",
       "      <td>White</td>\n",
       "      <td>Gray</td>\n",
       "      <td>Front-wheel Drive</td>\n",
       "      <td>Gasoline</td>\n",
       "      <td>12729.0</td>\n",
       "      <td>5700 NW 27th Ave Miami, FL 33142</td>\n",
       "      <td>2023-05-12</td>\n",
       "    </tr>\n",
       "    <tr>\n",
       "      <th>414</th>\n",
       "      <td>USED</td>\n",
       "      <td>2022</td>\n",
       "      <td>FORD</td>\n",
       "      <td>MAVERICK</td>\n",
       "      <td>XLT</td>\n",
       "      <td>NaN</td>\n",
       "      <td>–</td>\n",
       "      <td>Navy Pier/Medium Slate</td>\n",
       "      <td>Front-wheel Drive</td>\n",
       "      <td>Gasoline</td>\n",
       "      <td>23050.0</td>\n",
       "      <td>308 N Outer Rd St James, MO 65559</td>\n",
       "      <td>2023-05-12</td>\n",
       "    </tr>\n",
       "    <tr>\n",
       "      <th>553</th>\n",
       "      <td>USED</td>\n",
       "      <td>2022</td>\n",
       "      <td>FORD</td>\n",
       "      <td>MAVERICK</td>\n",
       "      <td>XLT</td>\n",
       "      <td>NaN</td>\n",
       "      <td>–</td>\n",
       "      <td>Navy Pier/Medium Slate</td>\n",
       "      <td>Front-wheel Drive</td>\n",
       "      <td>Gasoline</td>\n",
       "      <td>9857.0</td>\n",
       "      <td>815 Nw 4th St Grand Rapids, MN 55744</td>\n",
       "      <td>2023-05-12</td>\n",
       "    </tr>\n",
       "  </tbody>\n",
       "</table>\n",
       "</div>"
      ],
      "text/plain": [
       "    condition  model_year  make     model trim_level  list_price  \\\n",
       "202      USED        2023  FORD  MAVERICK     LARIAT     47995.0   \n",
       "454      USED        2023  FORD  MAVERICK     LARIAT     47997.0   \n",
       "46       USED        2023  FORD  MAVERICK     LARIAT     49997.0   \n",
       "104      USED        2023  FORD  MAVERICK     LARIAT     51825.0   \n",
       "395      USED        2023  FORD  MAVERICK     LARIAT     52000.0   \n",
       "77       USED        2022  FORD  MAVERICK     LARIAT         NaN   \n",
       "272      USED        2022  FORD  MAVERICK        XLT         NaN   \n",
       "335      USED        2022  FORD  MAVERICK         XL         NaN   \n",
       "414      USED        2022  FORD  MAVERICK        XLT         NaN   \n",
       "553      USED        2022  FORD  MAVERICK        XLT         NaN   \n",
       "\n",
       "               exterior_color          interior_color         fwd_or_awd  \\\n",
       "202              Oxford White                  Desert    All-wheel Drive   \n",
       "454                     White                   Black    All-wheel Drive   \n",
       "46                      White              Black Onyx    All-wheel Drive   \n",
       "104       Cactus Green / Gray              Black Onyx    All-wheel Drive   \n",
       "395              Oxford White              Black Onyx    All-wheel Drive   \n",
       "77   Carbonized Grey Metallic            Desert Brown  Front-wheel Drive   \n",
       "272                      Blue  Navy Pier/Medium Slate    All-wheel Drive   \n",
       "335                     White                    Gray  Front-wheel Drive   \n",
       "414                         –  Navy Pier/Medium Slate  Front-wheel Drive   \n",
       "553                         –  Navy Pier/Medium Slate  Front-wheel Drive   \n",
       "\n",
       "    hybrid_or_eco  mileage                               dealer_address  \\\n",
       "202      Gasoline    272.0         2305 S. College St. Auburn, AL 36832   \n",
       "454      Gasoline    931.0                7576 US-51 Minocqua, WI 54548   \n",
       "46       Gasoline    135.0  6510 Little River Tpke Alexandria, VA 22312   \n",
       "104      Gasoline    129.0               2030 GA-40 Kingsland, GA 31548   \n",
       "395      Gasoline     55.0            1045 E Chicago St Elgin, IL 60120   \n",
       "77       Gasoline   7518.0        700 N US Route 15 Dillsburg, PA 17019   \n",
       "272      Gasoline  11649.0           45 Washington St Foxboro, MA 02035   \n",
       "335      Gasoline  12729.0             5700 NW 27th Ave Miami, FL 33142   \n",
       "414      Gasoline  23050.0            308 N Outer Rd St James, MO 65559   \n",
       "553      Gasoline   9857.0         815 Nw 4th St Grand Rapids, MN 55744   \n",
       "\n",
       "    date_parsed  \n",
       "202  2023-05-12  \n",
       "454  2023-05-12  \n",
       "46   2023-05-12  \n",
       "104  2023-05-12  \n",
       "395  2023-05-12  \n",
       "77   2023-05-12  \n",
       "272  2023-05-12  \n",
       "335  2023-05-12  \n",
       "414  2023-05-12  \n",
       "553  2023-05-12  "
      ]
     },
     "execution_count": 76,
     "metadata": {},
     "output_type": "execute_result"
    }
   ],
   "source": [
    "mavericks_outliers_removed.sort_values(by='list_price').tail(10)"
   ]
  },
  {
   "cell_type": "code",
   "execution_count": 107,
   "metadata": {},
   "outputs": [
    {
     "data": {
      "application/vnd.plotly.v1+json": {
       "config": {
        "plotlyServerURL": "https://plotly.com"
       },
       "data": [
        {
         "alignmentgroup": "True",
         "boxpoints": "all",
         "hovertemplate": "Trim Level=%{x}<br>List Price=%{y}<extra></extra>",
         "legendgroup": "",
         "marker": {
          "color": "#636efa"
         },
         "name": "",
         "notched": false,
         "offsetgroup": "",
         "orientation": "v",
         "showlegend": false,
         "type": "box",
         "x": [
          "XLT",
          "LARIAT",
          "XL",
          "XLT",
          "XLT",
          "LARIAT",
          "XLT",
          "LARIAT",
          "XLT",
          "XLT",
          "XLT",
          "XLT",
          "XLT",
          "XLT",
          "XLT",
          "LARIAT",
          "XLT",
          "XLT",
          "XLT",
          "XL",
          "XLT",
          "XLT",
          "LARIAT",
          "XLT",
          "XLT",
          "XLT",
          "XLT",
          "XL",
          "LARIAT",
          "XLT",
          "XL",
          "LARIAT",
          "XL",
          "XLT",
          "XLT",
          "XL",
          "XL",
          "XL",
          "XL",
          "XL",
          "LARIAT",
          "XLT",
          "XL",
          "XL",
          "XL",
          "XLT",
          "LARIAT",
          "XLT",
          "XL",
          "LARIAT",
          "LARIAT",
          "XL",
          "XLT",
          "LARIAT",
          "XLT",
          "XL",
          "LARIAT",
          "XL",
          "XL",
          "XLT",
          "LARIAT",
          "XLT",
          "LARIAT",
          "XLT",
          "XLT",
          "LARIAT",
          "XL",
          "LARIAT",
          "XLT",
          "LARIAT",
          "LARIAT",
          "XLT",
          "XLT",
          "XL",
          "XLT",
          "XLT",
          "XLT",
          "LARIAT",
          "XL",
          "XLT",
          "XLT",
          "XLT",
          "XL",
          "XLT",
          "XLT",
          "XLT",
          "XLT",
          "XL",
          "XLT",
          "XLT",
          "XLT",
          "XLT",
          "XLT",
          "XL",
          "XLT",
          "XLT",
          "XLT",
          "XLT",
          "XL",
          "XLT",
          "LARIAT",
          "XL",
          "XL",
          "XLT",
          "LARIAT",
          "XL",
          "LARIAT",
          "XLT",
          "XLT",
          "XLT",
          "XLT",
          "XLT",
          "XL",
          "XLT",
          "XLT",
          "LARIAT",
          "XLT",
          "XL",
          "XLT",
          "XL",
          "XL",
          "XLT",
          "XL",
          "LARIAT",
          "XLT",
          "XL",
          "XLT",
          "XLT",
          "XL",
          "LARIAT",
          "XL",
          "XLT",
          "XL",
          "XL",
          "XL",
          "LARIAT",
          "XLT",
          "XLT",
          "LARIAT",
          "XLT",
          "LARIAT",
          "XLT",
          "XLT",
          "XLT",
          "LARIAT",
          "XLT",
          "XL",
          "XLT",
          "XL",
          "XLT",
          "XL",
          "XLT",
          "XL",
          "XLT",
          "LARIAT",
          "XLT",
          "LARIAT",
          "LARIAT",
          "XLT",
          "XL",
          "XL",
          "XLT",
          "XLT",
          "XLT",
          "XLT",
          "XL",
          "XLT",
          "LARIAT",
          "LARIAT",
          "XLT",
          "XLT",
          "XLT",
          "XLT",
          "XLT",
          "XL",
          "LARIAT",
          "XLT",
          "LARIAT",
          "XLT",
          "LARIAT",
          "XLT",
          "XLT",
          "XLT",
          "XL",
          "LARIAT",
          "XLT",
          "LARIAT",
          "XLT",
          "XLT",
          "XL",
          "XLT",
          "XLT",
          "XL",
          "LARIAT",
          "LARIAT",
          "XLT",
          "XLT",
          "XLT",
          "XLT",
          "LARIAT",
          "XL",
          "XLT",
          "LARIAT",
          "LARIAT",
          "XL",
          "LARIAT",
          "LARIAT",
          "XLT",
          "XL",
          "LARIAT",
          "LARIAT",
          "LARIAT",
          "XL",
          "XLT",
          "XL",
          "XL",
          "XLT",
          "XL",
          "XLT",
          "XLT",
          "LARIAT",
          "XL",
          "XLT",
          "XLT",
          "XLT",
          "XLT",
          "LARIAT",
          "XL",
          "XLT",
          "XL",
          "XLT",
          "XL",
          "XLT",
          "XLT",
          "XLT",
          "XLT",
          "XL",
          "XLT",
          "XLT",
          "LARIAT",
          "XLT",
          "LARIAT",
          "LARIAT",
          "LARIAT",
          "XL",
          "LARIAT",
          "LARIAT",
          "XL",
          "XLT",
          "XL",
          "LARIAT",
          "XL",
          "XLT",
          "LARIAT",
          "XLT",
          "LARIAT",
          "XLT",
          "XLT",
          "XLT",
          "XLT",
          "XLT",
          "XLT",
          "XL",
          "XLT",
          "XLT",
          "XLT",
          "XLT",
          "XL",
          "XLT",
          "XLT",
          "XL",
          "XL",
          "XL",
          "XLT",
          "XLT",
          "LARIAT",
          "XLT",
          "XLT",
          "LARIAT",
          "LARIAT",
          "XLT",
          "XLT",
          "XLT",
          "LARIAT",
          "LARIAT",
          "LARIAT",
          "XLT",
          "XL",
          "XLT",
          "XL",
          "XL",
          "XLT",
          "XLT",
          "XLT",
          "XLT",
          "XLT",
          "XLT",
          "LARIAT",
          "XL",
          "LARIAT",
          "XLT",
          "LARIAT",
          "LARIAT",
          "XLT",
          "XLT",
          "LARIAT",
          "XLT",
          "XLT",
          "XL",
          "XL",
          "XLT",
          "XL",
          "XL",
          "XL",
          "XL",
          "XLT",
          "XLT",
          "XLT",
          "XLT",
          "XLT",
          "XL",
          "XLT",
          "XL",
          "XL",
          "XLT",
          "XL",
          "XL",
          "LARIAT",
          "XLT",
          "XLT",
          "XLT",
          "XLT",
          "LARIAT",
          "XL",
          "XLT",
          "XLT",
          "LARIAT",
          "XL",
          "XLT",
          "XLT",
          "XLT",
          "XL",
          "XLT",
          "XLT",
          "LARIAT",
          "LARIAT",
          "XL",
          "XL",
          "XLT",
          "LARIAT",
          "XL",
          "XL",
          "XL",
          "XL",
          "LARIAT",
          "XLT",
          "LARIAT",
          "LARIAT",
          "XL",
          "XL",
          "XLT",
          "XLT",
          "XLT",
          "XL",
          "XLT",
          "XLT",
          "XLT",
          "XL",
          "XLT",
          "XLT",
          "LARIAT",
          "XLT",
          "LARIAT",
          "LARIAT",
          "XLT",
          "XLT",
          "LARIAT",
          "XLT",
          "LARIAT",
          "XL",
          "XLT",
          "LARIAT",
          "XLT",
          "XLT",
          "LARIAT",
          "XLT",
          "XLT",
          "XLT",
          "XLT",
          "XLT",
          "XL",
          "XLT",
          "XLT",
          "LARIAT",
          "XL",
          "XLT",
          "XLT",
          "XLT",
          "XL",
          "LARIAT",
          "XL",
          "XLT",
          "XLT",
          "LARIAT",
          "XLT",
          "XLT",
          "XLT",
          "XLT",
          "XLT",
          "XLT",
          "XL",
          "XLT",
          "XLT",
          "XL",
          "LARIAT",
          "XL",
          "XLT",
          "XL",
          "XLT",
          "XL",
          "XLT",
          "XLT",
          "XLT",
          "XLT",
          "XLT",
          "XLT",
          "LARIAT",
          "XLT",
          "XLT",
          "XLT",
          "XLT",
          "XLT",
          "XLT",
          "XLT",
          "LARIAT",
          "LARIAT",
          "LARIAT",
          "XLT",
          "LARIAT",
          "XLT",
          "LARIAT",
          "XL",
          "LARIAT",
          "LARIAT",
          "LARIAT",
          "LARIAT",
          "XLT",
          "LARIAT",
          "LARIAT",
          "XLT",
          "LARIAT",
          "LARIAT",
          "XLT",
          "XL",
          "XL",
          "XLT",
          "XLT",
          "XLT",
          "XLT",
          "LARIAT",
          "XL",
          "XL",
          "LARIAT",
          "XL",
          "XLT",
          "XLT",
          "LARIAT",
          "XLT",
          "XLT",
          "XLT",
          "XLT",
          "XL",
          "XLT",
          "XL",
          "XL",
          "XL",
          "XL",
          "LARIAT",
          "XLT",
          "XLT",
          "XLT",
          "XLT",
          "XL",
          "XL",
          "XLT",
          "XLT",
          "LARIAT",
          "XLT",
          "XLT",
          "XL",
          "XL",
          "LARIAT",
          "XLT",
          "XLT",
          "XLT",
          "LARIAT",
          "XL",
          "XLT",
          "XLT",
          "XL",
          "XLT",
          "XLT",
          "XLT",
          "XLT",
          "XL",
          "XLT",
          "XLT",
          "XLT",
          "XLT",
          "LARIAT",
          "XLT",
          "LARIAT",
          "XLT",
          "XLT",
          "XL",
          "XLT",
          "LARIAT",
          "XL",
          "LARIAT",
          "XLT",
          "XLT",
          "XLT",
          "LARIAT",
          "XL",
          "XL",
          "XL",
          "XLT",
          "LARIAT",
          "XLT",
          "XLT",
          "LARIAT",
          "XL",
          "XL",
          "XL",
          "XL",
          "LARIAT",
          "XL",
          "XL",
          "XLT",
          "LARIAT",
          "XLT",
          "LARIAT",
          "XLT",
          "XL",
          "XLT",
          "LARIAT",
          "XL",
          "XLT",
          "XLT",
          "LARIAT",
          "LARIAT",
          "LARIAT",
          "XLT",
          "XL",
          "XL",
          "LARIAT",
          "XLT",
          "XLT",
          "XL",
          "XLT",
          "XLT",
          "XLT",
          "XLT",
          "LARIAT",
          "LARIAT",
          "XLT",
          "XLT",
          "XLT",
          "XLT",
          "XLT",
          "LARIAT",
          "LARIAT",
          "XLT",
          "XL",
          "XL",
          "XLT",
          "XLT",
          "XLT",
          "XL",
          "XL",
          "XL",
          "XLT",
          "LARIAT",
          "XLT",
          "XLT",
          "LARIAT",
          "XLT",
          "XLT",
          "XLT",
          "XLT",
          "XL",
          "XL",
          "XLT",
          "XLT",
          "LARIAT",
          "XL",
          "LARIAT",
          "XLT",
          "XLT",
          "XLT",
          "XLT",
          "XL",
          "LARIAT",
          "XLT",
          "LARIAT",
          "LARIAT",
          "LARIAT",
          "LARIAT",
          "XLT",
          "XLT",
          "LARIAT",
          "XLT",
          "LARIAT",
          "XLT",
          "XLT",
          "XLT",
          "XL",
          "XLT",
          "LARIAT",
          "XL",
          "XLT",
          "XL",
          "XLT",
          "XLT",
          "XLT",
          "XLT",
          "XLT",
          "LARIAT",
          "XL",
          "XL",
          "XLT",
          "XL",
          "LARIAT",
          "XL",
          "XLT",
          "LARIAT",
          "LARIAT",
          "XLT",
          "XLT",
          "XLT",
          "XL",
          "LARIAT",
          "XLT",
          "XLT",
          "XLT",
          "XL",
          "LARIAT",
          "XLT",
          "XLT",
          "XLT",
          "LARIAT",
          "XL",
          "XLT",
          "XLT",
          "XL",
          "XL",
          "XL",
          "XLT",
          "XLT",
          "XL",
          "XL",
          "XLT",
          "XLT",
          "XLT",
          "XLT",
          "LARIAT",
          "XLT",
          "XL",
          "LARIAT",
          "XL",
          "XLT",
          "XLT",
          "XLT",
          "XL",
          "XLT",
          "XL",
          "LARIAT",
          "LARIAT",
          "XL",
          "LARIAT",
          "XLT",
          "XLT",
          "LARIAT",
          "LARIAT",
          "LARIAT",
          "LARIAT",
          "XL",
          "XL",
          "XL",
          "XLT",
          "XLT",
          "XLT",
          "XL",
          "XLT",
          "XL",
          "XL",
          "XLT",
          "XLT",
          "LARIAT",
          "XLT",
          "LARIAT",
          "XLT",
          "XLT",
          "LARIAT",
          "XL",
          "XLT",
          "XLT",
          "XL",
          "LARIAT"
         ],
         "x0": " ",
         "xaxis": "x",
         "y": [
          38988,
          40873,
          34091,
          35497,
          36000,
          38989,
          38695,
          37787,
          37900,
          37773,
          35473,
          37093,
          34998,
          36604,
          35998,
          39596,
          36900,
          36700,
          34812,
          37599,
          38968,
          34765,
          39999,
          37492,
          35320,
          35997,
          36988,
          35900,
          43700,
          41800,
          31634,
          39900,
          34498,
          30998,
          32500,
          33853,
          29995,
          29995,
          29995,
          29995,
          37173,
          38250,
          29988,
          29743,
          29742,
          28810,
          49997,
          41000,
          32649,
          38678,
          39988,
          33995,
          36903,
          37824,
          36000,
          32998,
          42998,
          31998,
          35998,
          37000,
          36599,
          33998,
          38000,
          34000,
          38998,
          37999,
          34395,
          46828,
          35399,
          37895,
          41995,
          33495,
          36875,
          33000,
          36000,
          36500,
          35000,
          null,
          31000,
          33500,
          34500,
          34500,
          32509,
          35499,
          38843,
          38574,
          39995,
          35332,
          38495,
          35598,
          35545,
          35706,
          30670,
          30998,
          33399,
          38993,
          34991,
          35206,
          33968,
          38999,
          38995,
          32588,
          29995,
          43582,
          51825,
          32975,
          40654,
          34995,
          37695,
          34900,
          35998,
          39998,
          35998,
          37900,
          39855,
          34999,
          35914,
          30950,
          35468,
          34990,
          31788,
          34622,
          36991,
          39992,
          36522,
          33463,
          34995,
          35500,
          33998,
          36990,
          35998,
          34988,
          34000,
          30895,
          33988,
          38998,
          37262,
          35998,
          36642,
          36900,
          40900,
          35650,
          38815,
          36975,
          46500,
          39995,
          35000,
          35682,
          32632,
          33500,
          31990,
          37980,
          39980,
          34199,
          37398,
          35101,
          37998,
          35333,
          40998,
          34950,
          28999,
          32998,
          35998,
          35990,
          34600,
          35500,
          35955,
          42454,
          42351,
          39459,
          35588,
          32990,
          32990,
          31500,
          35887,
          45524,
          39400,
          39897,
          34985,
          44995,
          37051,
          37990,
          34799,
          27839,
          39986,
          32900,
          42000,
          34990,
          34877,
          33995,
          35998,
          34836,
          28797,
          45752,
          47995,
          37998,
          37995,
          34988,
          38995,
          36899,
          30999,
          35998,
          42852,
          40750,
          40970,
          39457,
          42980,
          35233,
          34611,
          42991,
          35999,
          37500,
          33891,
          39994,
          34899,
          32995,
          37998,
          31964,
          34500,
          38450,
          42735,
          33564,
          35574,
          36300,
          36999,
          39998,
          39524,
          33900,
          36639,
          31700,
          34990,
          30988,
          35900,
          30837,
          37898,
          36995,
          36040,
          38900,
          35698,
          43555,
          35991,
          42888,
          40747,
          41477,
          28998,
          42890,
          42997,
          35454,
          33884,
          34456,
          36988,
          35929,
          37995,
          42900,
          35999,
          41477,
          33883,
          38899,
          38900,
          34999,
          32543,
          null,
          30995,
          38980,
          33490,
          36277,
          35990,
          35600,
          35998,
          35487,
          32900,
          31900,
          32998,
          33800,
          35997,
          36500,
          29999,
          34999,
          44949,
          45990,
          36999,
          33499,
          35000,
          41778,
          39060,
          39500,
          36000,
          35949,
          35641,
          32596,
          34000,
          35000,
          41500,
          38445,
          36825,
          38779,
          38995,
          40084,
          32984,
          40995,
          35995,
          36995,
          40991,
          34991,
          29999,
          40495,
          39995,
          37591,
          31998,
          31999,
          36395,
          31910,
          31910,
          31910,
          31910,
          37998,
          39410,
          40875,
          35991,
          34907,
          34950,
          36499,
          23950,
          null,
          34817,
          32761,
          34890,
          42850,
          37850,
          37698,
          34898,
          38990,
          31495,
          32991,
          33991,
          36000,
          42995,
          31798,
          36998,
          31998,
          36883,
          34998,
          36900,
          39346,
          39000,
          41999,
          37864,
          36950,
          35947,
          33999,
          30962,
          33990,
          34977,
          35450,
          44350,
          39750,
          45997,
          40899,
          32995,
          30995,
          37995,
          35999,
          36995,
          31500,
          42000,
          42800,
          39800,
          36200,
          27945,
          36774,
          41626,
          38998,
          39995,
          45000,
          35999,
          36395,
          39900,
          39000,
          52000,
          31994,
          35130,
          41995,
          43988,
          34851,
          43995,
          35488,
          37652,
          40982,
          36900,
          36593,
          29993,
          37991,
          37498,
          39586,
          31995,
          38095,
          null,
          38900,
          34634,
          40408,
          33700,
          36342,
          35734,
          42633,
          36250,
          37000,
          37500,
          37500,
          38988,
          37495,
          34300,
          39780,
          35995,
          34943,
          39855,
          33985,
          35980,
          35997,
          38059,
          37333,
          31995,
          38581,
          36249,
          35995,
          37995,
          35937,
          42229,
          38000,
          38495,
          36201,
          40047,
          35998,
          37799,
          36790,
          44997,
          47997,
          32900,
          39900,
          38500,
          34500,
          40000,
          34500,
          41998,
          40779,
          34962,
          39832,
          35600,
          35995,
          44336,
          37999,
          38677,
          37900,
          35800,
          34147,
          29987,
          35312,
          35199,
          36980,
          38790,
          38750,
          34983,
          32500,
          40988,
          29991,
          33900,
          36895,
          39999,
          33297,
          41250,
          36500,
          37000,
          33055,
          38997,
          31541,
          33993,
          34980,
          32000,
          40500,
          34383,
          33980,
          31783,
          33782,
          27888,
          34999,
          36990,
          37900,
          44950,
          36950,
          36500,
          27995,
          35494,
          44750,
          38999,
          37127,
          36992,
          39994,
          34989,
          41995,
          37000,
          35999,
          35000,
          36500,
          40000,
          33750,
          38904,
          35905,
          36499,
          34608,
          34500,
          39880,
          34999,
          42497,
          37500,
          37497,
          33900,
          35999,
          34985,
          33991,
          39995,
          33333,
          35540,
          37732,
          35995,
          33433,
          34990,
          37982,
          39991,
          40892,
          35998,
          null,
          39580,
          36362,
          35999,
          39005,
          34996,
          38901,
          32495,
          29995,
          38991,
          42291,
          38918,
          40995,
          39998,
          38340,
          36991,
          39162,
          28495,
          35888,
          33491,
          42999,
          42177,
          42379,
          36448,
          33816,
          31900,
          38849,
          38998,
          36998,
          34400,
          35000,
          41000,
          37299,
          37599,
          40000,
          38590,
          37800,
          41890,
          39990,
          37990,
          39990,
          39488,
          39999,
          38080,
          35000,
          32998,
          38393,
          36998,
          36010,
          34283,
          25500,
          36988,
          42988,
          42990,
          27999,
          35995,
          38923,
          27995,
          35232,
          31999,
          35500,
          35990,
          38990,
          41900,
          34494,
          41963,
          45999,
          38812,
          42999,
          36601,
          37888,
          33888,
          38888,
          38999,
          32988,
          41995,
          43844,
          40595,
          41998,
          37430,
          33591,
          38995,
          36998,
          38489,
          30600,
          39975,
          43950,
          34000,
          31999,
          39998,
          33998,
          31495,
          34888,
          37495,
          35995,
          37495,
          38895,
          36998,
          44998,
          32295,
          36234,
          35998,
          38977,
          44777,
          31785,
          35632,
          45791,
          39777,
          34798,
          36500,
          36998,
          35998,
          42901,
          38741,
          38861,
          38981,
          31998,
          38998,
          38998,
          34250,
          35988,
          39988,
          32000,
          34500,
          38799,
          36988,
          34500,
          37695,
          41000,
          38195,
          40690,
          40690,
          42000,
          34500,
          38991,
          41989,
          40998,
          42951,
          34998,
          38991,
          38761,
          38106,
          39233,
          39999,
          33865,
          43988,
          35988,
          46988,
          46988,
          35988,
          37995,
          34441,
          37330,
          45971,
          37254,
          43099,
          40678,
          33511,
          36500,
          34999,
          39998,
          36998,
          36997,
          31998,
          37999,
          35998,
          33950,
          36950,
          36998,
          40800,
          36981,
          40987,
          35531,
          38661,
          42990,
          32998,
          39999,
          37999,
          36988,
          42987
         ],
         "y0": " ",
         "yaxis": "y"
        }
       ],
       "layout": {
        "boxmode": "group",
        "height": 800,
        "legend": {
         "tracegroupgap": 0
        },
        "template": {
         "data": {
          "bar": [
           {
            "error_x": {
             "color": "#2a3f5f"
            },
            "error_y": {
             "color": "#2a3f5f"
            },
            "marker": {
             "line": {
              "color": "#E5ECF6",
              "width": 0.5
             },
             "pattern": {
              "fillmode": "overlay",
              "size": 10,
              "solidity": 0.2
             }
            },
            "type": "bar"
           }
          ],
          "barpolar": [
           {
            "marker": {
             "line": {
              "color": "#E5ECF6",
              "width": 0.5
             },
             "pattern": {
              "fillmode": "overlay",
              "size": 10,
              "solidity": 0.2
             }
            },
            "type": "barpolar"
           }
          ],
          "carpet": [
           {
            "aaxis": {
             "endlinecolor": "#2a3f5f",
             "gridcolor": "white",
             "linecolor": "white",
             "minorgridcolor": "white",
             "startlinecolor": "#2a3f5f"
            },
            "baxis": {
             "endlinecolor": "#2a3f5f",
             "gridcolor": "white",
             "linecolor": "white",
             "minorgridcolor": "white",
             "startlinecolor": "#2a3f5f"
            },
            "type": "carpet"
           }
          ],
          "choropleth": [
           {
            "colorbar": {
             "outlinewidth": 0,
             "ticks": ""
            },
            "type": "choropleth"
           }
          ],
          "contour": [
           {
            "colorbar": {
             "outlinewidth": 0,
             "ticks": ""
            },
            "colorscale": [
             [
              0,
              "#0d0887"
             ],
             [
              0.1111111111111111,
              "#46039f"
             ],
             [
              0.2222222222222222,
              "#7201a8"
             ],
             [
              0.3333333333333333,
              "#9c179e"
             ],
             [
              0.4444444444444444,
              "#bd3786"
             ],
             [
              0.5555555555555556,
              "#d8576b"
             ],
             [
              0.6666666666666666,
              "#ed7953"
             ],
             [
              0.7777777777777778,
              "#fb9f3a"
             ],
             [
              0.8888888888888888,
              "#fdca26"
             ],
             [
              1,
              "#f0f921"
             ]
            ],
            "type": "contour"
           }
          ],
          "contourcarpet": [
           {
            "colorbar": {
             "outlinewidth": 0,
             "ticks": ""
            },
            "type": "contourcarpet"
           }
          ],
          "heatmap": [
           {
            "colorbar": {
             "outlinewidth": 0,
             "ticks": ""
            },
            "colorscale": [
             [
              0,
              "#0d0887"
             ],
             [
              0.1111111111111111,
              "#46039f"
             ],
             [
              0.2222222222222222,
              "#7201a8"
             ],
             [
              0.3333333333333333,
              "#9c179e"
             ],
             [
              0.4444444444444444,
              "#bd3786"
             ],
             [
              0.5555555555555556,
              "#d8576b"
             ],
             [
              0.6666666666666666,
              "#ed7953"
             ],
             [
              0.7777777777777778,
              "#fb9f3a"
             ],
             [
              0.8888888888888888,
              "#fdca26"
             ],
             [
              1,
              "#f0f921"
             ]
            ],
            "type": "heatmap"
           }
          ],
          "heatmapgl": [
           {
            "colorbar": {
             "outlinewidth": 0,
             "ticks": ""
            },
            "colorscale": [
             [
              0,
              "#0d0887"
             ],
             [
              0.1111111111111111,
              "#46039f"
             ],
             [
              0.2222222222222222,
              "#7201a8"
             ],
             [
              0.3333333333333333,
              "#9c179e"
             ],
             [
              0.4444444444444444,
              "#bd3786"
             ],
             [
              0.5555555555555556,
              "#d8576b"
             ],
             [
              0.6666666666666666,
              "#ed7953"
             ],
             [
              0.7777777777777778,
              "#fb9f3a"
             ],
             [
              0.8888888888888888,
              "#fdca26"
             ],
             [
              1,
              "#f0f921"
             ]
            ],
            "type": "heatmapgl"
           }
          ],
          "histogram": [
           {
            "marker": {
             "pattern": {
              "fillmode": "overlay",
              "size": 10,
              "solidity": 0.2
             }
            },
            "type": "histogram"
           }
          ],
          "histogram2d": [
           {
            "colorbar": {
             "outlinewidth": 0,
             "ticks": ""
            },
            "colorscale": [
             [
              0,
              "#0d0887"
             ],
             [
              0.1111111111111111,
              "#46039f"
             ],
             [
              0.2222222222222222,
              "#7201a8"
             ],
             [
              0.3333333333333333,
              "#9c179e"
             ],
             [
              0.4444444444444444,
              "#bd3786"
             ],
             [
              0.5555555555555556,
              "#d8576b"
             ],
             [
              0.6666666666666666,
              "#ed7953"
             ],
             [
              0.7777777777777778,
              "#fb9f3a"
             ],
             [
              0.8888888888888888,
              "#fdca26"
             ],
             [
              1,
              "#f0f921"
             ]
            ],
            "type": "histogram2d"
           }
          ],
          "histogram2dcontour": [
           {
            "colorbar": {
             "outlinewidth": 0,
             "ticks": ""
            },
            "colorscale": [
             [
              0,
              "#0d0887"
             ],
             [
              0.1111111111111111,
              "#46039f"
             ],
             [
              0.2222222222222222,
              "#7201a8"
             ],
             [
              0.3333333333333333,
              "#9c179e"
             ],
             [
              0.4444444444444444,
              "#bd3786"
             ],
             [
              0.5555555555555556,
              "#d8576b"
             ],
             [
              0.6666666666666666,
              "#ed7953"
             ],
             [
              0.7777777777777778,
              "#fb9f3a"
             ],
             [
              0.8888888888888888,
              "#fdca26"
             ],
             [
              1,
              "#f0f921"
             ]
            ],
            "type": "histogram2dcontour"
           }
          ],
          "mesh3d": [
           {
            "colorbar": {
             "outlinewidth": 0,
             "ticks": ""
            },
            "type": "mesh3d"
           }
          ],
          "parcoords": [
           {
            "line": {
             "colorbar": {
              "outlinewidth": 0,
              "ticks": ""
             }
            },
            "type": "parcoords"
           }
          ],
          "pie": [
           {
            "automargin": true,
            "type": "pie"
           }
          ],
          "scatter": [
           {
            "marker": {
             "colorbar": {
              "outlinewidth": 0,
              "ticks": ""
             }
            },
            "type": "scatter"
           }
          ],
          "scatter3d": [
           {
            "line": {
             "colorbar": {
              "outlinewidth": 0,
              "ticks": ""
             }
            },
            "marker": {
             "colorbar": {
              "outlinewidth": 0,
              "ticks": ""
             }
            },
            "type": "scatter3d"
           }
          ],
          "scattercarpet": [
           {
            "marker": {
             "colorbar": {
              "outlinewidth": 0,
              "ticks": ""
             }
            },
            "type": "scattercarpet"
           }
          ],
          "scattergeo": [
           {
            "marker": {
             "colorbar": {
              "outlinewidth": 0,
              "ticks": ""
             }
            },
            "type": "scattergeo"
           }
          ],
          "scattergl": [
           {
            "marker": {
             "colorbar": {
              "outlinewidth": 0,
              "ticks": ""
             }
            },
            "type": "scattergl"
           }
          ],
          "scattermapbox": [
           {
            "marker": {
             "colorbar": {
              "outlinewidth": 0,
              "ticks": ""
             }
            },
            "type": "scattermapbox"
           }
          ],
          "scatterpolar": [
           {
            "marker": {
             "colorbar": {
              "outlinewidth": 0,
              "ticks": ""
             }
            },
            "type": "scatterpolar"
           }
          ],
          "scatterpolargl": [
           {
            "marker": {
             "colorbar": {
              "outlinewidth": 0,
              "ticks": ""
             }
            },
            "type": "scatterpolargl"
           }
          ],
          "scatterternary": [
           {
            "marker": {
             "colorbar": {
              "outlinewidth": 0,
              "ticks": ""
             }
            },
            "type": "scatterternary"
           }
          ],
          "surface": [
           {
            "colorbar": {
             "outlinewidth": 0,
             "ticks": ""
            },
            "colorscale": [
             [
              0,
              "#0d0887"
             ],
             [
              0.1111111111111111,
              "#46039f"
             ],
             [
              0.2222222222222222,
              "#7201a8"
             ],
             [
              0.3333333333333333,
              "#9c179e"
             ],
             [
              0.4444444444444444,
              "#bd3786"
             ],
             [
              0.5555555555555556,
              "#d8576b"
             ],
             [
              0.6666666666666666,
              "#ed7953"
             ],
             [
              0.7777777777777778,
              "#fb9f3a"
             ],
             [
              0.8888888888888888,
              "#fdca26"
             ],
             [
              1,
              "#f0f921"
             ]
            ],
            "type": "surface"
           }
          ],
          "table": [
           {
            "cells": {
             "fill": {
              "color": "#EBF0F8"
             },
             "line": {
              "color": "white"
             }
            },
            "header": {
             "fill": {
              "color": "#C8D4E3"
             },
             "line": {
              "color": "white"
             }
            },
            "type": "table"
           }
          ]
         },
         "layout": {
          "annotationdefaults": {
           "arrowcolor": "#2a3f5f",
           "arrowhead": 0,
           "arrowwidth": 1
          },
          "autotypenumbers": "strict",
          "coloraxis": {
           "colorbar": {
            "outlinewidth": 0,
            "ticks": ""
           }
          },
          "colorscale": {
           "diverging": [
            [
             0,
             "#8e0152"
            ],
            [
             0.1,
             "#c51b7d"
            ],
            [
             0.2,
             "#de77ae"
            ],
            [
             0.3,
             "#f1b6da"
            ],
            [
             0.4,
             "#fde0ef"
            ],
            [
             0.5,
             "#f7f7f7"
            ],
            [
             0.6,
             "#e6f5d0"
            ],
            [
             0.7,
             "#b8e186"
            ],
            [
             0.8,
             "#7fbc41"
            ],
            [
             0.9,
             "#4d9221"
            ],
            [
             1,
             "#276419"
            ]
           ],
           "sequential": [
            [
             0,
             "#0d0887"
            ],
            [
             0.1111111111111111,
             "#46039f"
            ],
            [
             0.2222222222222222,
             "#7201a8"
            ],
            [
             0.3333333333333333,
             "#9c179e"
            ],
            [
             0.4444444444444444,
             "#bd3786"
            ],
            [
             0.5555555555555556,
             "#d8576b"
            ],
            [
             0.6666666666666666,
             "#ed7953"
            ],
            [
             0.7777777777777778,
             "#fb9f3a"
            ],
            [
             0.8888888888888888,
             "#fdca26"
            ],
            [
             1,
             "#f0f921"
            ]
           ],
           "sequentialminus": [
            [
             0,
             "#0d0887"
            ],
            [
             0.1111111111111111,
             "#46039f"
            ],
            [
             0.2222222222222222,
             "#7201a8"
            ],
            [
             0.3333333333333333,
             "#9c179e"
            ],
            [
             0.4444444444444444,
             "#bd3786"
            ],
            [
             0.5555555555555556,
             "#d8576b"
            ],
            [
             0.6666666666666666,
             "#ed7953"
            ],
            [
             0.7777777777777778,
             "#fb9f3a"
            ],
            [
             0.8888888888888888,
             "#fdca26"
            ],
            [
             1,
             "#f0f921"
            ]
           ]
          },
          "colorway": [
           "#636efa",
           "#EF553B",
           "#00cc96",
           "#ab63fa",
           "#FFA15A",
           "#19d3f3",
           "#FF6692",
           "#B6E880",
           "#FF97FF",
           "#FECB52"
          ],
          "font": {
           "color": "#2a3f5f"
          },
          "geo": {
           "bgcolor": "white",
           "lakecolor": "white",
           "landcolor": "#E5ECF6",
           "showlakes": true,
           "showland": true,
           "subunitcolor": "white"
          },
          "hoverlabel": {
           "align": "left"
          },
          "hovermode": "closest",
          "mapbox": {
           "style": "light"
          },
          "paper_bgcolor": "white",
          "plot_bgcolor": "#E5ECF6",
          "polar": {
           "angularaxis": {
            "gridcolor": "white",
            "linecolor": "white",
            "ticks": ""
           },
           "bgcolor": "#E5ECF6",
           "radialaxis": {
            "gridcolor": "white",
            "linecolor": "white",
            "ticks": ""
           }
          },
          "scene": {
           "xaxis": {
            "backgroundcolor": "#E5ECF6",
            "gridcolor": "white",
            "gridwidth": 2,
            "linecolor": "white",
            "showbackground": true,
            "ticks": "",
            "zerolinecolor": "white"
           },
           "yaxis": {
            "backgroundcolor": "#E5ECF6",
            "gridcolor": "white",
            "gridwidth": 2,
            "linecolor": "white",
            "showbackground": true,
            "ticks": "",
            "zerolinecolor": "white"
           },
           "zaxis": {
            "backgroundcolor": "#E5ECF6",
            "gridcolor": "white",
            "gridwidth": 2,
            "linecolor": "white",
            "showbackground": true,
            "ticks": "",
            "zerolinecolor": "white"
           }
          },
          "shapedefaults": {
           "line": {
            "color": "#2a3f5f"
           }
          },
          "ternary": {
           "aaxis": {
            "gridcolor": "white",
            "linecolor": "white",
            "ticks": ""
           },
           "baxis": {
            "gridcolor": "white",
            "linecolor": "white",
            "ticks": ""
           },
           "bgcolor": "#E5ECF6",
           "caxis": {
            "gridcolor": "white",
            "linecolor": "white",
            "ticks": ""
           }
          },
          "title": {
           "x": 0.05
          },
          "xaxis": {
           "automargin": true,
           "gridcolor": "white",
           "linecolor": "white",
           "ticks": "",
           "title": {
            "standoff": 15
           },
           "zerolinecolor": "white",
           "zerolinewidth": 2
          },
          "yaxis": {
           "automargin": true,
           "gridcolor": "white",
           "linecolor": "white",
           "ticks": "",
           "title": {
            "standoff": 15
           },
           "zerolinecolor": "white",
           "zerolinewidth": 2
          }
         }
        },
        "title": {
         "text": "Used Ford Mavericks Listed on Cars.com in USA as of 5/12/2023 (709 with data)"
        },
        "width": 1200,
        "xaxis": {
         "anchor": "y",
         "categoryarray": [
          "XL",
          "XLT",
          "LARIAT"
         ],
         "categoryorder": "array",
         "domain": [
          0,
          1
         ],
         "title": {
          "text": "Trim Level"
         }
        },
        "yaxis": {
         "anchor": "x",
         "domain": [
          0,
          1
         ],
         "title": {
          "text": "List Price"
         }
        }
       }
      }
     },
     "metadata": {},
     "output_type": "display_data"
    }
   ],
   "source": [
    "px.box(mavericks_outliers_removed, x='trim_level', y='list_price', points='all', \n",
    "    title='Used Ford Mavericks Listed on Cars.com in USA as of 5/12/2023 (709 with data)', category_orders={'trim_level':acceptable_trim_levels},\n",
    "    labels={'trim_level':'Trim Level','list_price':'List Price'}, width=1200, height=800)"
   ]
  },
  {
   "cell_type": "code",
   "execution_count": 100,
   "metadata": {},
   "outputs": [
    {
     "data": {
      "text/plain": [
       "condition         709\n",
       "model_year        709\n",
       "make              709\n",
       "model             709\n",
       "trim_level        709\n",
       "list_price        704\n",
       "exterior_color    709\n",
       "interior_color    709\n",
       "fwd_or_awd        709\n",
       "hybrid_or_eco     709\n",
       "mileage           708\n",
       "dealer_address    708\n",
       "date_parsed       709\n",
       "dtype: int64"
      ]
     },
     "execution_count": 100,
     "metadata": {},
     "output_type": "execute_result"
    }
   ],
   "source": [
    "mavericks_outliers_removed.count()"
   ]
  },
  {
   "cell_type": "code",
   "execution_count": 78,
   "metadata": {},
   "outputs": [
    {
     "data": {
      "text/html": [
       "<div>\n",
       "<style scoped>\n",
       "    .dataframe tbody tr th:only-of-type {\n",
       "        vertical-align: middle;\n",
       "    }\n",
       "\n",
       "    .dataframe tbody tr th {\n",
       "        vertical-align: top;\n",
       "    }\n",
       "\n",
       "    .dataframe thead th {\n",
       "        text-align: right;\n",
       "    }\n",
       "</style>\n",
       "<table border=\"1\" class=\"dataframe\">\n",
       "  <thead>\n",
       "    <tr style=\"text-align: right;\">\n",
       "      <th></th>\n",
       "      <th>condition</th>\n",
       "      <th>model_year</th>\n",
       "      <th>make</th>\n",
       "      <th>model</th>\n",
       "      <th>list_price</th>\n",
       "      <th>exterior_color</th>\n",
       "      <th>interior_color</th>\n",
       "      <th>fwd_or_awd</th>\n",
       "      <th>hybrid_or_eco</th>\n",
       "      <th>mileage</th>\n",
       "      <th>dealer_address</th>\n",
       "      <th>date_parsed</th>\n",
       "    </tr>\n",
       "    <tr>\n",
       "      <th>trim_level</th>\n",
       "      <th></th>\n",
       "      <th></th>\n",
       "      <th></th>\n",
       "      <th></th>\n",
       "      <th></th>\n",
       "      <th></th>\n",
       "      <th></th>\n",
       "      <th></th>\n",
       "      <th></th>\n",
       "      <th></th>\n",
       "      <th></th>\n",
       "      <th></th>\n",
       "    </tr>\n",
       "  </thead>\n",
       "  <tbody>\n",
       "    <tr>\n",
       "      <th>LARIAT</th>\n",
       "      <td>164</td>\n",
       "      <td>164</td>\n",
       "      <td>164</td>\n",
       "      <td>164</td>\n",
       "      <td>163</td>\n",
       "      <td>164</td>\n",
       "      <td>164</td>\n",
       "      <td>164</td>\n",
       "      <td>164</td>\n",
       "      <td>164</td>\n",
       "      <td>164</td>\n",
       "      <td>164</td>\n",
       "    </tr>\n",
       "    <tr>\n",
       "      <th>XL</th>\n",
       "      <td>180</td>\n",
       "      <td>180</td>\n",
       "      <td>180</td>\n",
       "      <td>180</td>\n",
       "      <td>179</td>\n",
       "      <td>180</td>\n",
       "      <td>180</td>\n",
       "      <td>180</td>\n",
       "      <td>180</td>\n",
       "      <td>179</td>\n",
       "      <td>180</td>\n",
       "      <td>180</td>\n",
       "    </tr>\n",
       "    <tr>\n",
       "      <th>XLT</th>\n",
       "      <td>365</td>\n",
       "      <td>365</td>\n",
       "      <td>365</td>\n",
       "      <td>365</td>\n",
       "      <td>362</td>\n",
       "      <td>365</td>\n",
       "      <td>365</td>\n",
       "      <td>365</td>\n",
       "      <td>365</td>\n",
       "      <td>365</td>\n",
       "      <td>364</td>\n",
       "      <td>365</td>\n",
       "    </tr>\n",
       "  </tbody>\n",
       "</table>\n",
       "</div>"
      ],
      "text/plain": [
       "            condition  model_year  make  model  list_price  exterior_color  \\\n",
       "trim_level                                                                   \n",
       "LARIAT            164         164   164    164         163             164   \n",
       "XL                180         180   180    180         179             180   \n",
       "XLT               365         365   365    365         362             365   \n",
       "\n",
       "            interior_color  fwd_or_awd  hybrid_or_eco  mileage  \\\n",
       "trim_level                                                       \n",
       "LARIAT                 164         164            164      164   \n",
       "XL                     180         180            180      179   \n",
       "XLT                    365         365            365      365   \n",
       "\n",
       "            dealer_address  date_parsed  \n",
       "trim_level                               \n",
       "LARIAT                 164          164  \n",
       "XL                     180          180  \n",
       "XLT                    364          365  "
      ]
     },
     "execution_count": 78,
     "metadata": {},
     "output_type": "execute_result"
    }
   ],
   "source": [
    "mavericks_outliers_removed.groupby(by='trim_level').count()"
   ]
  },
  {
   "cell_type": "code",
   "execution_count": 81,
   "metadata": {},
   "outputs": [
    {
     "data": {
      "text/html": [
       "<div>\n",
       "<style scoped>\n",
       "    .dataframe tbody tr th:only-of-type {\n",
       "        vertical-align: middle;\n",
       "    }\n",
       "\n",
       "    .dataframe tbody tr th {\n",
       "        vertical-align: top;\n",
       "    }\n",
       "\n",
       "    .dataframe thead th {\n",
       "        text-align: right;\n",
       "    }\n",
       "</style>\n",
       "<table border=\"1\" class=\"dataframe\">\n",
       "  <thead>\n",
       "    <tr style=\"text-align: right;\">\n",
       "      <th></th>\n",
       "      <th>condition</th>\n",
       "      <th>model_year</th>\n",
       "      <th>make</th>\n",
       "      <th>model</th>\n",
       "      <th>trim_level</th>\n",
       "      <th>list_price</th>\n",
       "      <th>exterior_color</th>\n",
       "      <th>interior_color</th>\n",
       "      <th>fwd_or_awd</th>\n",
       "      <th>hybrid_or_eco</th>\n",
       "      <th>mileage</th>\n",
       "      <th>dealer_address</th>\n",
       "      <th>date_parsed</th>\n",
       "    </tr>\n",
       "  </thead>\n",
       "  <tbody>\n",
       "    <tr>\n",
       "      <th>104</th>\n",
       "      <td>USED</td>\n",
       "      <td>2023</td>\n",
       "      <td>FORD</td>\n",
       "      <td>MAVERICK</td>\n",
       "      <td>LARIAT</td>\n",
       "      <td>51825.0</td>\n",
       "      <td>Cactus Green / Gray</td>\n",
       "      <td>Black Onyx</td>\n",
       "      <td>All-wheel Drive</td>\n",
       "      <td>Gasoline</td>\n",
       "      <td>129.0</td>\n",
       "      <td>2030 GA-40 Kingsland, GA 31548</td>\n",
       "      <td>2023-05-12</td>\n",
       "    </tr>\n",
       "    <tr>\n",
       "      <th>395</th>\n",
       "      <td>USED</td>\n",
       "      <td>2023</td>\n",
       "      <td>FORD</td>\n",
       "      <td>MAVERICK</td>\n",
       "      <td>LARIAT</td>\n",
       "      <td>52000.0</td>\n",
       "      <td>Oxford White</td>\n",
       "      <td>Black Onyx</td>\n",
       "      <td>All-wheel Drive</td>\n",
       "      <td>Gasoline</td>\n",
       "      <td>55.0</td>\n",
       "      <td>1045 E Chicago St Elgin, IL 60120</td>\n",
       "      <td>2023-05-12</td>\n",
       "    </tr>\n",
       "  </tbody>\n",
       "</table>\n",
       "</div>"
      ],
      "text/plain": [
       "    condition  model_year  make     model trim_level  list_price  \\\n",
       "104      USED        2023  FORD  MAVERICK     LARIAT     51825.0   \n",
       "395      USED        2023  FORD  MAVERICK     LARIAT     52000.0   \n",
       "\n",
       "          exterior_color interior_color       fwd_or_awd hybrid_or_eco  \\\n",
       "104  Cactus Green / Gray     Black Onyx  All-wheel Drive      Gasoline   \n",
       "395         Oxford White     Black Onyx  All-wheel Drive      Gasoline   \n",
       "\n",
       "     mileage                     dealer_address date_parsed  \n",
       "104    129.0     2030 GA-40 Kingsland, GA 31548  2023-05-12  \n",
       "395     55.0  1045 E Chicago St Elgin, IL 60120  2023-05-12  "
      ]
     },
     "execution_count": 81,
     "metadata": {},
     "output_type": "execute_result"
    }
   ],
   "source": [
    "mavericks_outliers_removed[mavericks_outliers_removed.list_price > 50000]"
   ]
  },
  {
   "cell_type": "code",
   "execution_count": null,
   "metadata": {},
   "outputs": [],
   "source": []
  }
 ],
 "metadata": {
  "kernelspec": {
   "display_name": "Python 3.9.12 ('base')",
   "language": "python",
   "name": "python3"
  },
  "language_info": {
   "codemirror_mode": {
    "name": "ipython",
    "version": 3
   },
   "file_extension": ".py",
   "mimetype": "text/x-python",
   "name": "python",
   "nbconvert_exporter": "python",
   "pygments_lexer": "ipython3",
   "version": "3.9.12"
  },
  "orig_nbformat": 4,
  "vscode": {
   "interpreter": {
    "hash": "bf69675bb191eeb9f84d45fb88747c8b4a562cfb347034b34d1b24ec151fbd2c"
   }
  }
 },
 "nbformat": 4,
 "nbformat_minor": 2
}
