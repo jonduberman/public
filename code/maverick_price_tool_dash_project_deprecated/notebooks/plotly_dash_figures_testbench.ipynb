{
 "cells": [
  {
   "cell_type": "code",
   "execution_count": 1,
   "metadata": {},
   "outputs": [],
   "source": [
    "import pandas as pd\n",
    "import plotly.express as px"
   ]
  },
  {
   "cell_type": "code",
   "execution_count": 23,
   "metadata": {},
   "outputs": [],
   "source": [
    "acceptable_trim_levels = ['XL','XLT','LARIAT']"
   ]
  },
  {
   "cell_type": "code",
   "execution_count": 2,
   "metadata": {},
   "outputs": [],
   "source": [
    "df = pd.read_csv('maverick_data_processed.csv')"
   ]
  },
  {
   "cell_type": "code",
   "execution_count": 10,
   "metadata": {},
   "outputs": [],
   "source": [
    "dates_parsed = sorted(df.date_parsed.unique())"
   ]
  },
  {
   "cell_type": "code",
   "execution_count": 16,
   "metadata": {},
   "outputs": [
    {
     "data": {
      "text/plain": [
       "['2023-05-11',\n",
       " '2023-05-14',\n",
       " '2023-05-15',\n",
       " '2023-05-16',\n",
       " '2023-05-17',\n",
       " '2023-05-18',\n",
       " '2023-05-19',\n",
       " '2023-05-20',\n",
       " '2023-05-22',\n",
       " '2023-05-23']"
      ]
     },
     "execution_count": 16,
     "metadata": {},
     "output_type": "execute_result"
    }
   ],
   "source": [
    "dates_parsed"
   ]
  },
  {
   "cell_type": "code",
   "execution_count": 21,
   "metadata": {},
   "outputs": [],
   "source": [
    "single_date_data = df[df.date_parsed == max(dates_parsed)]"
   ]
  },
  {
   "cell_type": "code",
   "execution_count": 24,
   "metadata": {},
   "outputs": [],
   "source": [
    "fig = px.box(single_date_data, x='trim_level', y='list_price', points='all', \n",
    "        title='Used Ford Mavericks Listed on Cars.com in USA as of 5/12/2023 (709 with data)', category_orders={'trim_level':acceptable_trim_levels},\n",
    "        labels={'trim_level':'Trim Level','list_price':'List Price'}, width=1200, height=800)"
   ]
  },
  {
   "cell_type": "code",
   "execution_count": 25,
   "metadata": {},
   "outputs": [
    {
     "data": {
      "application/vnd.plotly.v1+json": {
       "config": {
        "plotlyServerURL": "https://plotly.com"
       },
       "data": [
        {
         "alignmentgroup": "True",
         "boxpoints": "all",
         "hovertemplate": "Trim Level=%{x}<br>List Price=%{y}<extra></extra>",
         "legendgroup": "",
         "marker": {
          "color": "#636efa"
         },
         "name": "",
         "notched": false,
         "offsetgroup": "",
         "orientation": "v",
         "showlegend": false,
         "type": "box",
         "x": [
          "LARIAT",
          "XL",
          "XLT",
          "XLT",
          "LARIAT",
          "XLT",
          "XLT",
          "XLT",
          "LARIAT",
          "XL",
          "XLT",
          "XLT",
          "XLT",
          "XL",
          "XLT",
          "XLT",
          "XLT",
          "XL",
          "XL",
          "XL",
          "XL",
          "LARIAT",
          "XL",
          "XLT",
          "XLT",
          "XLT",
          "XL",
          "XL",
          "LARIAT",
          "LARIAT",
          "LARIAT",
          "XLT",
          "LARIAT",
          "XLT",
          "XL",
          "LARIAT",
          "LARIAT",
          "LARIAT",
          "LARIAT",
          "XLT",
          "LARIAT",
          "XLT",
          "LARIAT",
          "LARIAT",
          "XLT",
          "XL",
          "XLT",
          "XL",
          "LARIAT",
          "XL",
          "LARIAT",
          "XLT",
          "XLT",
          "XLT",
          "XL",
          "XLT",
          "XL",
          "XL",
          "XLT",
          "XLT",
          "XLT",
          "XL",
          "XLT",
          "XLT",
          "LARIAT",
          "XLT",
          "XLT",
          "XLT",
          "XL",
          "XLT",
          "XL",
          "LARIAT",
          "XL",
          "XLT",
          "LARIAT",
          "XLT",
          "XLT",
          "XLT",
          "XLT",
          "XLT",
          "XLT",
          "XL",
          "XLT",
          "XLT",
          "XLT",
          "LARIAT",
          "XLT",
          "XLT",
          "XLT",
          "XL",
          "XLT",
          "XLT",
          "XLT",
          "XLT",
          "XLT",
          "XL",
          "LARIAT",
          "XLT",
          "XLT",
          "XLT",
          "LARIAT",
          "XLT",
          "XLT",
          "LARIAT",
          "LARIAT",
          "XL",
          "XL",
          "LARIAT",
          "LARIAT",
          "XL",
          "XL",
          "XLT",
          "XLT",
          "XLT",
          "XLT",
          "XL",
          "LARIAT",
          "LARIAT",
          "LARIAT",
          "XL",
          "XLT",
          "XL",
          "XLT",
          "XLT",
          "XL",
          "XL",
          "XLT",
          "LARIAT",
          "XLT",
          "XL",
          "XLT",
          "LARIAT",
          "XLT",
          "XL",
          "LARIAT",
          "XL",
          "LARIAT",
          "XLT",
          "XLT",
          "LARIAT",
          "XLT",
          "LARIAT",
          "XLT",
          "XLT",
          "LARIAT",
          "XL",
          "XL",
          "XLT",
          "XLT",
          "XLT",
          "XLT",
          "XLT",
          "XLT",
          "XLT",
          "XLT",
          "XLT",
          "LARIAT",
          "XLT",
          "XLT",
          "XLT",
          "XLT",
          "XLT",
          "XLT",
          "XLT",
          "XLT",
          "XL",
          "XLT",
          "LARIAT",
          "LARIAT",
          "XLT",
          "XLT",
          "XLT",
          "XL",
          "XLT",
          "XLT",
          "XLT",
          "XLT",
          "XLT",
          "XL",
          "XL",
          "LARIAT",
          "XLT",
          "XLT",
          "XLT",
          "XL",
          "LARIAT",
          "XLT",
          "XLT",
          "LARIAT",
          "XLT",
          "LARIAT",
          "XLT",
          "XLT",
          "XLT",
          "LARIAT",
          "XLT",
          "LARIAT",
          "XLT",
          "XLT",
          "XLT",
          "XLT",
          "XLT",
          "XLT",
          "XLT",
          "XLT",
          "LARIAT",
          "XLT",
          "XLT",
          "LARIAT",
          "XLT",
          "XLT",
          "XL",
          "XL",
          "LARIAT",
          "XLT",
          "XLT",
          "XLT",
          "XLT",
          "LARIAT",
          "XL",
          "LARIAT",
          "XLT",
          "XLT",
          "XL",
          "LARIAT",
          "XLT",
          "XLT",
          "XL",
          "XL",
          "XL",
          "XLT",
          "XLT",
          "XLT",
          "XLT",
          "XL",
          "XLT",
          "XLT",
          "XL",
          "XLT",
          "XL",
          "XL",
          "XLT",
          "XLT",
          "XLT",
          "XLT",
          "XLT",
          "LARIAT",
          "XL",
          "XLT",
          "XL",
          "XLT",
          "LARIAT",
          "XLT",
          "LARIAT",
          "XLT",
          "XL",
          "XLT",
          "XLT",
          "XLT",
          "LARIAT",
          "LARIAT",
          "XL",
          "XLT",
          "XL",
          "LARIAT",
          "XLT",
          "XLT",
          "XLT",
          "LARIAT",
          "XL",
          "XL",
          "XLT",
          "XLT",
          "XLT",
          "XLT",
          "XLT",
          "XL",
          "XL",
          "XLT",
          "XLT",
          "LARIAT",
          "XLT",
          "XLT",
          "LARIAT",
          "XLT",
          "LARIAT",
          "LARIAT",
          "XLT",
          "XL",
          "LARIAT",
          "LARIAT",
          "XL",
          "LARIAT",
          "XLT",
          "XL",
          "XLT",
          "LARIAT",
          "XL",
          "XLT",
          "XLT",
          "XLT",
          "XLT",
          "XL",
          "XLT",
          "XL",
          "XL",
          "LARIAT",
          "XL",
          "LARIAT",
          "XLT",
          "XLT",
          "LARIAT",
          "LARIAT",
          "LARIAT",
          "LARIAT",
          "XL",
          "XL",
          "XLT",
          "LARIAT",
          "LARIAT",
          "XL",
          "XLT",
          "LARIAT",
          "LARIAT",
          "LARIAT",
          "LARIAT",
          "XLT",
          "XLT",
          "LARIAT",
          "XL",
          "XLT",
          "XL",
          "LARIAT",
          "LARIAT",
          "XLT",
          "LARIAT",
          "XLT",
          "XLT",
          "XLT",
          "XL",
          "XLT",
          "XLT",
          "LARIAT",
          "XLT",
          "XL",
          "LARIAT",
          "XLT",
          "XL",
          "XL",
          "XL",
          "LARIAT",
          "XLT",
          "LARIAT",
          "XLT",
          "XLT",
          "XLT",
          "LARIAT",
          "XL",
          "XL",
          "XL",
          "XL",
          "LARIAT",
          "XL",
          "LARIAT",
          "XL",
          "XLT",
          "LARIAT",
          "XL",
          "XL",
          "XLT",
          "XLT",
          "XLT",
          "XLT",
          "LARIAT",
          "XL",
          "LARIAT",
          "XLT",
          "XLT",
          "XLT",
          "XLT",
          "XLT",
          "XLT",
          "LARIAT",
          "XLT",
          "LARIAT",
          "LARIAT",
          "XLT",
          "XLT",
          "XL",
          "LARIAT",
          "XLT",
          "LARIAT",
          "XLT",
          "LARIAT",
          "XLT",
          "XLT",
          "XLT",
          "XLT",
          "LARIAT",
          "LARIAT",
          "XLT",
          "XLT",
          "XLT",
          "XLT",
          "XLT",
          "XLT",
          "XL",
          "XLT",
          "XL",
          "XLT",
          "XLT",
          "XL",
          "XLT",
          "XLT",
          "LARIAT",
          "XLT",
          "XLT",
          "LARIAT",
          "XLT",
          "XLT",
          "XL",
          "XLT",
          "XL",
          "XL",
          "XLT",
          "XLT",
          "LARIAT",
          "XLT",
          "LARIAT",
          "XLT",
          "XL",
          "LARIAT",
          "LARIAT",
          "XLT",
          "LARIAT",
          "XL",
          "XLT",
          "XLT",
          "LARIAT",
          "LARIAT",
          "XLT",
          "XLT",
          "XLT",
          "XLT",
          "XLT",
          "LARIAT",
          "XL",
          "XLT",
          "XLT",
          "XLT",
          "XLT",
          "XLT",
          "XL",
          "XLT",
          "XLT",
          "XLT",
          "XL",
          "XLT",
          "LARIAT",
          "XL",
          "XLT",
          "XLT",
          "XLT",
          "LARIAT",
          "LARIAT",
          "XL",
          "XLT",
          "XL",
          "LARIAT",
          "XLT",
          "XL",
          "XLT",
          "XLT",
          "XLT",
          "LARIAT",
          "XLT",
          "XLT",
          "XLT",
          "XL",
          "XLT",
          "XLT",
          "XLT",
          "XLT",
          "LARIAT",
          "XLT",
          "XL",
          "XLT",
          "XLT",
          "XLT",
          "XL",
          "LARIAT",
          "XL",
          "XL",
          "XLT",
          "XLT",
          "XL",
          "XL",
          "XL",
          "XLT",
          "LARIAT",
          "LARIAT",
          "XLT",
          "LARIAT",
          "XL",
          "XLT",
          "XLT",
          "XLT",
          "XLT",
          "XLT",
          "XLT",
          "LARIAT",
          "XLT",
          "XLT",
          "XLT",
          "XLT",
          "XLT",
          "LARIAT",
          "XLT",
          "XL",
          "XL",
          "XLT",
          "LARIAT",
          "XL",
          "LARIAT",
          "LARIAT",
          "XLT",
          "XLT",
          "XL",
          "XLT",
          "LARIAT",
          "XL",
          "XLT",
          "XL",
          "XLT",
          "XLT",
          "XLT",
          "XLT",
          "LARIAT",
          "LARIAT",
          "LARIAT",
          "LARIAT",
          "XLT",
          "XL",
          "LARIAT",
          "LARIAT",
          "LARIAT",
          "XL",
          "XL",
          "LARIAT",
          "XL",
          "LARIAT",
          "XLT",
          "LARIAT",
          "XLT",
          "XLT",
          "XLT",
          "XLT",
          "XL",
          "XLT",
          "XLT",
          "XLT",
          "XL",
          "LARIAT",
          "XL",
          "LARIAT",
          "LARIAT",
          "LARIAT",
          "XL",
          "XL",
          "XLT",
          "LARIAT",
          "XL",
          "XLT",
          "XL",
          "XLT",
          "XLT",
          "XL",
          "XL",
          "XLT",
          "LARIAT",
          "XLT",
          "LARIAT",
          "XL",
          "XLT",
          "XL",
          "XLT",
          "LARIAT",
          "XLT",
          "XLT",
          "XLT",
          "XLT",
          "XLT",
          "XL",
          "XL",
          "LARIAT",
          "LARIAT",
          "LARIAT",
          "XL",
          "XLT",
          "LARIAT",
          "XLT",
          "XLT",
          "XLT",
          "XLT",
          "XLT",
          "LARIAT",
          "XL",
          "XLT",
          "XL",
          "XLT",
          "XL",
          "XLT",
          "XLT",
          "XLT",
          "XLT",
          "XLT",
          "XLT",
          "XLT",
          "XLT",
          "XLT",
          "XLT",
          "XLT",
          "LARIAT",
          "XLT",
          "XLT",
          "LARIAT",
          "LARIAT",
          "XLT",
          "XLT",
          "XLT",
          "XLT",
          "LARIAT",
          "XLT",
          "LARIAT",
          "XL",
          "XLT",
          "LARIAT",
          "XLT",
          "XL",
          "XLT",
          "XL",
          "XLT",
          "XL",
          "XL",
          "LARIAT",
          "XL",
          "XLT",
          "XL",
          "XLT",
          "XLT",
          "LARIAT",
          "XLT",
          "XL",
          "XL",
          "XL",
          "XLT",
          "XL",
          "XLT",
          "LARIAT",
          "XLT",
          "LARIAT",
          "XLT",
          "XLT",
          "XLT",
          "XLT",
          "XL",
          "XLT",
          "LARIAT",
          "XLT",
          "XL",
          "LARIAT",
          "XLT",
          "XLT",
          "XLT",
          "XLT",
          "XLT",
          "LARIAT",
          "XLT",
          "XL",
          "XL",
          "XL",
          "LARIAT",
          "XLT",
          "LARIAT",
          "LARIAT",
          "XLT",
          "XL",
          "XLT",
          "XL",
          "XLT",
          "XLT",
          "XL",
          "XL",
          "XLT",
          "XLT",
          "XLT",
          "LARIAT",
          "XLT",
          "XL",
          "XLT",
          "LARIAT",
          "LARIAT",
          "XLT",
          "XLT",
          "XLT",
          "LARIAT",
          "XL",
          "XL",
          "XLT",
          "LARIAT",
          "XLT",
          "XL",
          "LARIAT",
          "LARIAT",
          "XLT",
          "XLT",
          "XLT",
          "XLT",
          "XL",
          "XLT",
          "LARIAT",
          "LARIAT",
          "LARIAT",
          "LARIAT",
          "XLT",
          "LARIAT",
          "XLT",
          "XLT",
          "XL",
          "XLT",
          "XLT",
          "XLT",
          "XL",
          "LARIAT",
          "XLT",
          "LARIAT",
          "LARIAT",
          "XLT",
          "LARIAT",
          "XLT",
          "LARIAT",
          "XLT",
          "LARIAT",
          "XLT",
          "XLT",
          "XLT",
          "XLT",
          "XLT",
          "XLT"
         ],
         "x0": " ",
         "xaxis": "x",
         "y": [
          40988,
          29892,
          33300,
          36895,
          39999,
          32996,
          39870,
          36000,
          41977,
          36971,
          36804,
          37500,
          37000,
          33000,
          38898,
          33981,
          35991,
          31541,
          33153,
          32000,
          34983,
          38750,
          35000,
          39463,
          35995,
          40047,
          35715,
          40499,
          47997,
          44997,
          32900,
          37900,
          39000,
          34000,
          34980,
          39500,
          40998,
          39832,
          40779,
          35000,
          44336,
          37999,
          38222,
          37900,
          35800,
          34147,
          35995,
          34500,
          43996,
          32000,
          39900,
          41595,
          39920,
          33894,
          27985,
          39500,
          39804,
          33998,
          37000,
          34403,
          34999,
          34989,
          32998,
          35999,
          44000,
          36000,
          36200,
          39750,
          32426,
          35999,
          33633,
          34485,
          33692,
          32890,
          35593,
          38495,
          39998,
          37991,
          32582,
          33181,
          34282,
          34499,
          36250,
          37900,
          34995,
          42950,
          36500,
          36200,
          35994,
          27995,
          40998,
          35400,
          36998,
          40971,
          34495,
          34990,
          39990,
          38999,
          35873,
          33890,
          39695,
          32998,
          35436,
          41962,
          34919,
          37864,
          36950,
          43991,
          33999,
          30962,
          32990,
          34990,
          36500,
          39177,
          39750,
          35450,
          43990,
          45997,
          40999,
          30995,
          37995,
          32995,
          35888,
          35995,
          31000,
          34477,
          42800,
          40611,
          38693,
          null,
          null,
          39895,
          34314,
          31784,
          38890,
          35890,
          42850,
          37850,
          36999,
          38695,
          34898,
          31495,
          33991,
          39800,
          42995,
          29969,
          34994,
          39063,
          36900,
          37959,
          38990,
          36990,
          42000,
          39800,
          35992,
          35684,
          41690,
          36000,
          38998,
          36000,
          36655,
          37500,
          33953,
          38988,
          37495,
          33700,
          38852,
          38337,
          44900,
          35980,
          37490,
          38550,
          37333,
          31995,
          38481,
          36149,
          35995,
          37995,
          34943,
          36200,
          40108,
          34500,
          27945,
          36351,
          32835,
          41375,
          38998,
          37998,
          38855,
          35000,
          38912,
          34500,
          35130,
          39900,
          41995,
          33999,
          43995,
          34998,
          37652,
          40982,
          36900,
          35400,
          36593,
          37498,
          37991,
          38635,
          43988,
          35540,
          40000,
          37199,
          36561,
          33998,
          33998,
          37998,
          38998,
          32500,
          40900,
          35988,
          39988,
          31900,
          42500,
          37852,
          36988,
          32500,
          41998,
          36560,
          35000,
          36300,
          39000,
          39000,
          41500,
          32500,
          37890,
          41749,
          35988,
          37812,
          36988,
          31700,
          31999,
          33998,
          33998,
          31495,
          35995,
          37495,
          37995,
          37495,
          39999,
          32295,
          38741,
          32950,
          34998,
          44999,
          35668,
          39333,
          33677,
          34990,
          37990,
          35000,
          36998,
          42000,
          41900,
          35977,
          35997,
          35998,
          38998,
          36998,
          39998,
          36791,
          38990,
          36998,
          31998,
          39998,
          39950,
          35950,
          38998,
          36998,
          33499,
          34998,
          37691,
          36981,
          40987,
          37998,
          35351,
          38995,
          38694,
          41982,
          38999,
          37999,
          36988,
          39800,
          39998,
          36500,
          40454,
          42951,
          35998,
          37351,
          38310,
          38761,
          39027,
          38998,
          40998,
          39999,
          33765,
          43988,
          32998,
          35988,
          46988,
          35988,
          37744,
          33897,
          37330,
          45971,
          37254,
          40999,
          46988,
          null,
          33000,
          39975,
          40994,
          36995,
          37899,
          36763,
          42970,
          38464,
          38900,
          44600,
          35116,
          35998,
          41984,
          34995,
          36448,
          33816,
          38645,
          38998,
          34998,
          40998,
          37990,
          39990,
          38564,
          33900,
          39000,
          36999,
          39911,
          38771,
          34988,
          35995,
          38998,
          30000,
          33181,
          34990,
          40998,
          39991,
          39892,
          35998,
          36000,
          31983,
          39580,
          35999,
          36362,
          34896,
          36505,
          37590,
          32495,
          null,
          28495,
          38991,
          41691,
          34289,
          31994,
          43950,
          38000,
          37599,
          36611,
          38976,
          45999,
          38812,
          40999,
          35996,
          35000,
          37888,
          32888,
          37888,
          38999,
          41900,
          39595,
          39595,
          34900,
          33591,
          32995,
          38995,
          34998,
          38089,
          30300,
          31995,
          35998,
          35500,
          34243,
          37000,
          40000,
          38190,
          36879,
          39990,
          37990,
          38999,
          35997,
          39999,
          33950,
          31999,
          35000,
          36998,
          32998,
          36988,
          42988,
          37950,
          41490,
          27499,
          35995,
          38923,
          27995,
          36999,
          null,
          36499,
          29988,
          29975,
          37725,
          40977,
          49777,
          36500,
          39849,
          35700,
          31998,
          35488,
          37500,
          40000,
          37299,
          33995,
          35399,
          34706,
          38597,
          40995,
          37995,
          34297,
          36500,
          36000,
          37750,
          36794,
          32758,
          34000,
          36905,
          37700,
          34737,
          35500,
          30198,
          36604,
          36900,
          34812,
          36899,
          38768,
          39999,
          31000,
          36789,
          36011,
          36988,
          38397,
          41998,
          35800,
          40900,
          31543,
          39900,
          38450,
          34295,
          31998,
          35990,
          34000,
          40000,
          34290,
          35998,
          33984,
          35998,
          38998,
          37900,
          34598,
          35698,
          45995,
          34914,
          34650,
          37575,
          37988,
          35468,
          34990,
          37991,
          30087,
          33991,
          33622,
          34993,
          36522,
          35511,
          35910,
          34750,
          46199,
          35879,
          34999,
          39954,
          32509,
          35499,
          37843,
          38574,
          39462,
          37992,
          35198,
          38900,
          35545,
          35706,
          33399,
          34995,
          37993,
          41995,
          34991,
          30998,
          33968,
          37999,
          37995,
          29995,
          40998,
          48253,
          41782,
          35998,
          35998,
          34900,
          38768,
          35991,
          38988,
          34091,
          36988,
          35000,
          35438,
          36999,
          31990,
          38527,
          39977,
          40977,
          33981,
          28998,
          42890,
          42997,
          43000,
          34171,
          34874,
          34988,
          35929,
          42996,
          37995,
          40977,
          36814,
          38900,
          32243,
          36899,
          30995,
          38980,
          32990,
          35777,
          35990,
          42900,
          34999,
          38788,
          37998,
          41000,
          33998,
          34998,
          39998,
          39256,
          31900,
          36639,
          31750,
          37998,
          36942,
          30988,
          28998,
          35900,
          42898,
          37550,
          42990,
          29515,
          36495,
          34087,
          35498,
          42995,
          35951,
          39991,
          30020,
          36999,
          35998,
          32998,
          32184,
          39995,
          40995,
          33995,
          42997,
          34991,
          39996,
          34927,
          31999,
          28995,
          38495,
          38779,
          38895,
          32800,
          34936,
          31998,
          34995,
          31710,
          35998,
          37998,
          38881,
          40875,
          37995,
          35998,
          35900,
          34377,
          36825,
          38000,
          33800,
          36500,
          29999,
          34499,
          42949,
          44322,
          36999,
          33499,
          35999,
          35000,
          41778,
          40800,
          38902,
          34995,
          38995,
          39500,
          36000,
          35949,
          36998,
          30991,
          33582,
          32300,
          32500,
          42000,
          null,
          34668,
          34224,
          36998,
          35101,
          37398,
          36515,
          34950,
          26949,
          28349,
          34600,
          35500,
          35955,
          41823,
          34199,
          41504,
          36255,
          34500,
          33500,
          32990,
          35745,
          39303,
          45234,
          34985,
          30998,
          44995,
          37990,
          39123,
          34799,
          40998,
          37500,
          36990,
          34988,
          32000,
          30395,
          32758,
          38998,
          36732,
          36642,
          40700,
          34425,
          38980,
          36815,
          33995,
          37975,
          34863,
          32632,
          33980,
          39995,
          36998,
          33500,
          42975,
          33976,
          27839,
          35900,
          39995,
          41997,
          36983,
          39764,
          40288,
          42980,
          34980,
          34980,
          37999,
          39470,
          33994,
          28990,
          42500,
          37500,
          36998,
          39994,
          35875,
          37998,
          31964,
          38450,
          40995,
          39773,
          39986,
          39750,
          38995,
          42000,
          34990,
          33990,
          33499,
          34998,
          35988,
          35123,
          27797,
          45451,
          40998,
          36899,
          44995,
          34000,
          43886,
          40599,
          39990,
          37998,
          43900,
          36995,
          39998,
          34997,
          34988,
          34750,
          41400
         ],
         "y0": " ",
         "yaxis": "y"
        }
       ],
       "layout": {
        "boxmode": "group",
        "height": 800,
        "legend": {
         "tracegroupgap": 0
        },
        "template": {
         "data": {
          "bar": [
           {
            "error_x": {
             "color": "#2a3f5f"
            },
            "error_y": {
             "color": "#2a3f5f"
            },
            "marker": {
             "line": {
              "color": "#E5ECF6",
              "width": 0.5
             },
             "pattern": {
              "fillmode": "overlay",
              "size": 10,
              "solidity": 0.2
             }
            },
            "type": "bar"
           }
          ],
          "barpolar": [
           {
            "marker": {
             "line": {
              "color": "#E5ECF6",
              "width": 0.5
             },
             "pattern": {
              "fillmode": "overlay",
              "size": 10,
              "solidity": 0.2
             }
            },
            "type": "barpolar"
           }
          ],
          "carpet": [
           {
            "aaxis": {
             "endlinecolor": "#2a3f5f",
             "gridcolor": "white",
             "linecolor": "white",
             "minorgridcolor": "white",
             "startlinecolor": "#2a3f5f"
            },
            "baxis": {
             "endlinecolor": "#2a3f5f",
             "gridcolor": "white",
             "linecolor": "white",
             "minorgridcolor": "white",
             "startlinecolor": "#2a3f5f"
            },
            "type": "carpet"
           }
          ],
          "choropleth": [
           {
            "colorbar": {
             "outlinewidth": 0,
             "ticks": ""
            },
            "type": "choropleth"
           }
          ],
          "contour": [
           {
            "colorbar": {
             "outlinewidth": 0,
             "ticks": ""
            },
            "colorscale": [
             [
              0,
              "#0d0887"
             ],
             [
              0.1111111111111111,
              "#46039f"
             ],
             [
              0.2222222222222222,
              "#7201a8"
             ],
             [
              0.3333333333333333,
              "#9c179e"
             ],
             [
              0.4444444444444444,
              "#bd3786"
             ],
             [
              0.5555555555555556,
              "#d8576b"
             ],
             [
              0.6666666666666666,
              "#ed7953"
             ],
             [
              0.7777777777777778,
              "#fb9f3a"
             ],
             [
              0.8888888888888888,
              "#fdca26"
             ],
             [
              1,
              "#f0f921"
             ]
            ],
            "type": "contour"
           }
          ],
          "contourcarpet": [
           {
            "colorbar": {
             "outlinewidth": 0,
             "ticks": ""
            },
            "type": "contourcarpet"
           }
          ],
          "heatmap": [
           {
            "colorbar": {
             "outlinewidth": 0,
             "ticks": ""
            },
            "colorscale": [
             [
              0,
              "#0d0887"
             ],
             [
              0.1111111111111111,
              "#46039f"
             ],
             [
              0.2222222222222222,
              "#7201a8"
             ],
             [
              0.3333333333333333,
              "#9c179e"
             ],
             [
              0.4444444444444444,
              "#bd3786"
             ],
             [
              0.5555555555555556,
              "#d8576b"
             ],
             [
              0.6666666666666666,
              "#ed7953"
             ],
             [
              0.7777777777777778,
              "#fb9f3a"
             ],
             [
              0.8888888888888888,
              "#fdca26"
             ],
             [
              1,
              "#f0f921"
             ]
            ],
            "type": "heatmap"
           }
          ],
          "heatmapgl": [
           {
            "colorbar": {
             "outlinewidth": 0,
             "ticks": ""
            },
            "colorscale": [
             [
              0,
              "#0d0887"
             ],
             [
              0.1111111111111111,
              "#46039f"
             ],
             [
              0.2222222222222222,
              "#7201a8"
             ],
             [
              0.3333333333333333,
              "#9c179e"
             ],
             [
              0.4444444444444444,
              "#bd3786"
             ],
             [
              0.5555555555555556,
              "#d8576b"
             ],
             [
              0.6666666666666666,
              "#ed7953"
             ],
             [
              0.7777777777777778,
              "#fb9f3a"
             ],
             [
              0.8888888888888888,
              "#fdca26"
             ],
             [
              1,
              "#f0f921"
             ]
            ],
            "type": "heatmapgl"
           }
          ],
          "histogram": [
           {
            "marker": {
             "pattern": {
              "fillmode": "overlay",
              "size": 10,
              "solidity": 0.2
             }
            },
            "type": "histogram"
           }
          ],
          "histogram2d": [
           {
            "colorbar": {
             "outlinewidth": 0,
             "ticks": ""
            },
            "colorscale": [
             [
              0,
              "#0d0887"
             ],
             [
              0.1111111111111111,
              "#46039f"
             ],
             [
              0.2222222222222222,
              "#7201a8"
             ],
             [
              0.3333333333333333,
              "#9c179e"
             ],
             [
              0.4444444444444444,
              "#bd3786"
             ],
             [
              0.5555555555555556,
              "#d8576b"
             ],
             [
              0.6666666666666666,
              "#ed7953"
             ],
             [
              0.7777777777777778,
              "#fb9f3a"
             ],
             [
              0.8888888888888888,
              "#fdca26"
             ],
             [
              1,
              "#f0f921"
             ]
            ],
            "type": "histogram2d"
           }
          ],
          "histogram2dcontour": [
           {
            "colorbar": {
             "outlinewidth": 0,
             "ticks": ""
            },
            "colorscale": [
             [
              0,
              "#0d0887"
             ],
             [
              0.1111111111111111,
              "#46039f"
             ],
             [
              0.2222222222222222,
              "#7201a8"
             ],
             [
              0.3333333333333333,
              "#9c179e"
             ],
             [
              0.4444444444444444,
              "#bd3786"
             ],
             [
              0.5555555555555556,
              "#d8576b"
             ],
             [
              0.6666666666666666,
              "#ed7953"
             ],
             [
              0.7777777777777778,
              "#fb9f3a"
             ],
             [
              0.8888888888888888,
              "#fdca26"
             ],
             [
              1,
              "#f0f921"
             ]
            ],
            "type": "histogram2dcontour"
           }
          ],
          "mesh3d": [
           {
            "colorbar": {
             "outlinewidth": 0,
             "ticks": ""
            },
            "type": "mesh3d"
           }
          ],
          "parcoords": [
           {
            "line": {
             "colorbar": {
              "outlinewidth": 0,
              "ticks": ""
             }
            },
            "type": "parcoords"
           }
          ],
          "pie": [
           {
            "automargin": true,
            "type": "pie"
           }
          ],
          "scatter": [
           {
            "marker": {
             "colorbar": {
              "outlinewidth": 0,
              "ticks": ""
             }
            },
            "type": "scatter"
           }
          ],
          "scatter3d": [
           {
            "line": {
             "colorbar": {
              "outlinewidth": 0,
              "ticks": ""
             }
            },
            "marker": {
             "colorbar": {
              "outlinewidth": 0,
              "ticks": ""
             }
            },
            "type": "scatter3d"
           }
          ],
          "scattercarpet": [
           {
            "marker": {
             "colorbar": {
              "outlinewidth": 0,
              "ticks": ""
             }
            },
            "type": "scattercarpet"
           }
          ],
          "scattergeo": [
           {
            "marker": {
             "colorbar": {
              "outlinewidth": 0,
              "ticks": ""
             }
            },
            "type": "scattergeo"
           }
          ],
          "scattergl": [
           {
            "marker": {
             "colorbar": {
              "outlinewidth": 0,
              "ticks": ""
             }
            },
            "type": "scattergl"
           }
          ],
          "scattermapbox": [
           {
            "marker": {
             "colorbar": {
              "outlinewidth": 0,
              "ticks": ""
             }
            },
            "type": "scattermapbox"
           }
          ],
          "scatterpolar": [
           {
            "marker": {
             "colorbar": {
              "outlinewidth": 0,
              "ticks": ""
             }
            },
            "type": "scatterpolar"
           }
          ],
          "scatterpolargl": [
           {
            "marker": {
             "colorbar": {
              "outlinewidth": 0,
              "ticks": ""
             }
            },
            "type": "scatterpolargl"
           }
          ],
          "scatterternary": [
           {
            "marker": {
             "colorbar": {
              "outlinewidth": 0,
              "ticks": ""
             }
            },
            "type": "scatterternary"
           }
          ],
          "surface": [
           {
            "colorbar": {
             "outlinewidth": 0,
             "ticks": ""
            },
            "colorscale": [
             [
              0,
              "#0d0887"
             ],
             [
              0.1111111111111111,
              "#46039f"
             ],
             [
              0.2222222222222222,
              "#7201a8"
             ],
             [
              0.3333333333333333,
              "#9c179e"
             ],
             [
              0.4444444444444444,
              "#bd3786"
             ],
             [
              0.5555555555555556,
              "#d8576b"
             ],
             [
              0.6666666666666666,
              "#ed7953"
             ],
             [
              0.7777777777777778,
              "#fb9f3a"
             ],
             [
              0.8888888888888888,
              "#fdca26"
             ],
             [
              1,
              "#f0f921"
             ]
            ],
            "type": "surface"
           }
          ],
          "table": [
           {
            "cells": {
             "fill": {
              "color": "#EBF0F8"
             },
             "line": {
              "color": "white"
             }
            },
            "header": {
             "fill": {
              "color": "#C8D4E3"
             },
             "line": {
              "color": "white"
             }
            },
            "type": "table"
           }
          ]
         },
         "layout": {
          "annotationdefaults": {
           "arrowcolor": "#2a3f5f",
           "arrowhead": 0,
           "arrowwidth": 1
          },
          "autotypenumbers": "strict",
          "coloraxis": {
           "colorbar": {
            "outlinewidth": 0,
            "ticks": ""
           }
          },
          "colorscale": {
           "diverging": [
            [
             0,
             "#8e0152"
            ],
            [
             0.1,
             "#c51b7d"
            ],
            [
             0.2,
             "#de77ae"
            ],
            [
             0.3,
             "#f1b6da"
            ],
            [
             0.4,
             "#fde0ef"
            ],
            [
             0.5,
             "#f7f7f7"
            ],
            [
             0.6,
             "#e6f5d0"
            ],
            [
             0.7,
             "#b8e186"
            ],
            [
             0.8,
             "#7fbc41"
            ],
            [
             0.9,
             "#4d9221"
            ],
            [
             1,
             "#276419"
            ]
           ],
           "sequential": [
            [
             0,
             "#0d0887"
            ],
            [
             0.1111111111111111,
             "#46039f"
            ],
            [
             0.2222222222222222,
             "#7201a8"
            ],
            [
             0.3333333333333333,
             "#9c179e"
            ],
            [
             0.4444444444444444,
             "#bd3786"
            ],
            [
             0.5555555555555556,
             "#d8576b"
            ],
            [
             0.6666666666666666,
             "#ed7953"
            ],
            [
             0.7777777777777778,
             "#fb9f3a"
            ],
            [
             0.8888888888888888,
             "#fdca26"
            ],
            [
             1,
             "#f0f921"
            ]
           ],
           "sequentialminus": [
            [
             0,
             "#0d0887"
            ],
            [
             0.1111111111111111,
             "#46039f"
            ],
            [
             0.2222222222222222,
             "#7201a8"
            ],
            [
             0.3333333333333333,
             "#9c179e"
            ],
            [
             0.4444444444444444,
             "#bd3786"
            ],
            [
             0.5555555555555556,
             "#d8576b"
            ],
            [
             0.6666666666666666,
             "#ed7953"
            ],
            [
             0.7777777777777778,
             "#fb9f3a"
            ],
            [
             0.8888888888888888,
             "#fdca26"
            ],
            [
             1,
             "#f0f921"
            ]
           ]
          },
          "colorway": [
           "#636efa",
           "#EF553B",
           "#00cc96",
           "#ab63fa",
           "#FFA15A",
           "#19d3f3",
           "#FF6692",
           "#B6E880",
           "#FF97FF",
           "#FECB52"
          ],
          "font": {
           "color": "#2a3f5f"
          },
          "geo": {
           "bgcolor": "white",
           "lakecolor": "white",
           "landcolor": "#E5ECF6",
           "showlakes": true,
           "showland": true,
           "subunitcolor": "white"
          },
          "hoverlabel": {
           "align": "left"
          },
          "hovermode": "closest",
          "mapbox": {
           "style": "light"
          },
          "paper_bgcolor": "white",
          "plot_bgcolor": "#E5ECF6",
          "polar": {
           "angularaxis": {
            "gridcolor": "white",
            "linecolor": "white",
            "ticks": ""
           },
           "bgcolor": "#E5ECF6",
           "radialaxis": {
            "gridcolor": "white",
            "linecolor": "white",
            "ticks": ""
           }
          },
          "scene": {
           "xaxis": {
            "backgroundcolor": "#E5ECF6",
            "gridcolor": "white",
            "gridwidth": 2,
            "linecolor": "white",
            "showbackground": true,
            "ticks": "",
            "zerolinecolor": "white"
           },
           "yaxis": {
            "backgroundcolor": "#E5ECF6",
            "gridcolor": "white",
            "gridwidth": 2,
            "linecolor": "white",
            "showbackground": true,
            "ticks": "",
            "zerolinecolor": "white"
           },
           "zaxis": {
            "backgroundcolor": "#E5ECF6",
            "gridcolor": "white",
            "gridwidth": 2,
            "linecolor": "white",
            "showbackground": true,
            "ticks": "",
            "zerolinecolor": "white"
           }
          },
          "shapedefaults": {
           "line": {
            "color": "#2a3f5f"
           }
          },
          "ternary": {
           "aaxis": {
            "gridcolor": "white",
            "linecolor": "white",
            "ticks": ""
           },
           "baxis": {
            "gridcolor": "white",
            "linecolor": "white",
            "ticks": ""
           },
           "bgcolor": "#E5ECF6",
           "caxis": {
            "gridcolor": "white",
            "linecolor": "white",
            "ticks": ""
           }
          },
          "title": {
           "x": 0.05
          },
          "xaxis": {
           "automargin": true,
           "gridcolor": "white",
           "linecolor": "white",
           "ticks": "",
           "title": {
            "standoff": 15
           },
           "zerolinecolor": "white",
           "zerolinewidth": 2
          },
          "yaxis": {
           "automargin": true,
           "gridcolor": "white",
           "linecolor": "white",
           "ticks": "",
           "title": {
            "standoff": 15
           },
           "zerolinecolor": "white",
           "zerolinewidth": 2
          }
         }
        },
        "title": {
         "text": "Used Ford Mavericks Listed on Cars.com in USA as of 5/12/2023 (709 with data)"
        },
        "width": 1200,
        "xaxis": {
         "anchor": "y",
         "categoryarray": [
          "XL",
          "XLT",
          "LARIAT"
         ],
         "categoryorder": "array",
         "domain": [
          0,
          1
         ],
         "title": {
          "text": "Trim Level"
         }
        },
        "yaxis": {
         "anchor": "x",
         "domain": [
          0,
          1
         ],
         "title": {
          "text": "List Price"
         }
        }
       }
      }
     },
     "metadata": {},
     "output_type": "display_data"
    }
   ],
   "source": [
    "fig.show()"
   ]
  },
  {
   "cell_type": "code",
   "execution_count": 26,
   "metadata": {},
   "outputs": [
    {
     "data": {
      "application/vnd.plotly.v1+json": {
       "config": {
        "plotlyServerURL": "https://plotly.com"
       },
       "data": [
        {
         "alignmentgroup": "True",
         "boxpoints": "all",
         "hovertemplate": "Trim Level=%{x}<br>List Price=%{y}<extra></extra>",
         "legendgroup": "",
         "marker": {
          "color": "#636efa"
         },
         "name": "",
         "notched": false,
         "offsetgroup": "",
         "orientation": "v",
         "showlegend": false,
         "type": "box",
         "x": [
          "LARIAT",
          "XL",
          "XLT",
          "XLT",
          "LARIAT",
          "XLT",
          "XLT",
          "XLT",
          "LARIAT",
          "XL",
          "XLT",
          "XLT",
          "XLT",
          "XL",
          "XLT",
          "XLT",
          "XLT",
          "XL",
          "XL",
          "XL",
          "XL",
          "LARIAT",
          "XL",
          "XLT",
          "XLT",
          "XLT",
          "XL",
          "XL",
          "LARIAT",
          "LARIAT",
          "LARIAT",
          "XLT",
          "LARIAT",
          "XLT",
          "XL",
          "LARIAT",
          "LARIAT",
          "LARIAT",
          "LARIAT",
          "XLT",
          "LARIAT",
          "XLT",
          "LARIAT",
          "LARIAT",
          "XLT",
          "XL",
          "XLT",
          "XL",
          "LARIAT",
          "XL",
          "LARIAT",
          "XLT",
          "XLT",
          "XLT",
          "XL",
          "XLT",
          "XL",
          "XL",
          "XLT",
          "XLT",
          "XLT",
          "XL",
          "XLT",
          "XLT",
          "LARIAT",
          "XLT",
          "XLT",
          "XLT",
          "XL",
          "XLT",
          "XL",
          "LARIAT",
          "XL",
          "XLT",
          "LARIAT",
          "XLT",
          "XLT",
          "XLT",
          "XLT",
          "XLT",
          "XLT",
          "XL",
          "XLT",
          "XLT",
          "XLT",
          "LARIAT",
          "XLT",
          "XLT",
          "XLT",
          "XL",
          "XLT",
          "XLT",
          "XLT",
          "XLT",
          "XLT",
          "XL",
          "LARIAT",
          "XLT",
          "XLT",
          "XLT",
          "LARIAT",
          "XLT",
          "XLT",
          "LARIAT",
          "LARIAT",
          "XL",
          "XL",
          "LARIAT",
          "LARIAT",
          "XL",
          "XL",
          "XLT",
          "XLT",
          "XLT",
          "XLT",
          "XL",
          "LARIAT",
          "LARIAT",
          "LARIAT",
          "XL",
          "XLT",
          "XL",
          "XLT",
          "XLT",
          "XL",
          "XL",
          "XLT",
          "LARIAT",
          "XLT",
          "XL",
          "XLT",
          "LARIAT",
          "XLT",
          "XL",
          "LARIAT",
          "XL",
          "LARIAT",
          "XLT",
          "XLT",
          "LARIAT",
          "XLT",
          "LARIAT",
          "XLT",
          "XLT",
          "LARIAT",
          "XL",
          "XL",
          "XLT",
          "XLT",
          "XLT",
          "XLT",
          "XLT",
          "XLT",
          "XLT",
          "XLT",
          "XLT",
          "LARIAT",
          "XLT",
          "XLT",
          "XLT",
          "XLT",
          "XLT",
          "XLT",
          "XLT",
          "XLT",
          "XL",
          "XLT",
          "LARIAT",
          "LARIAT",
          "XLT",
          "XLT",
          "XLT",
          "XL",
          "XLT",
          "XLT",
          "XLT",
          "XLT",
          "XLT",
          "XL",
          "XL",
          "LARIAT",
          "XLT",
          "XLT",
          "XLT",
          "XL",
          "LARIAT",
          "XLT",
          "XLT",
          "LARIAT",
          "XLT",
          "LARIAT",
          "XLT",
          "XLT",
          "XLT",
          "LARIAT",
          "XLT",
          "LARIAT",
          "XLT",
          "XLT",
          "XLT",
          "XLT",
          "XLT",
          "XLT",
          "XLT",
          "XLT",
          "LARIAT",
          "XLT",
          "XLT",
          "LARIAT",
          "XLT",
          "XLT",
          "XL",
          "XL",
          "LARIAT",
          "XLT",
          "XLT",
          "XLT",
          "XLT",
          "LARIAT",
          "XL",
          "LARIAT",
          "XLT",
          "XLT",
          "XL",
          "LARIAT",
          "XLT",
          "XLT",
          "XL",
          "XL",
          "XL",
          "XLT",
          "XLT",
          "XLT",
          "XLT",
          "XL",
          "XLT",
          "XLT",
          "XL",
          "XLT",
          "XL",
          "XL",
          "XLT",
          "XLT",
          "XLT",
          "XLT",
          "XLT",
          "LARIAT",
          "XL",
          "XLT",
          "XL",
          "XLT",
          "LARIAT",
          "XLT",
          "LARIAT",
          "XLT",
          "XL",
          "XLT",
          "XLT",
          "XLT",
          "LARIAT",
          "LARIAT",
          "XL",
          "XLT",
          "XL",
          "LARIAT",
          "XLT",
          "XLT",
          "XLT",
          "LARIAT",
          "XL",
          "XL",
          "XLT",
          "XLT",
          "XLT",
          "XLT",
          "XLT",
          "XL",
          "XL",
          "XLT",
          "XLT",
          "LARIAT",
          "XLT",
          "XLT",
          "LARIAT",
          "XLT",
          "LARIAT",
          "LARIAT",
          "XLT",
          "XL",
          "LARIAT",
          "LARIAT",
          "XL",
          "LARIAT",
          "XLT",
          "XL",
          "XLT",
          "LARIAT",
          "XL",
          "XLT",
          "XLT",
          "XLT",
          "XLT",
          "XL",
          "XLT",
          "XL",
          "XL",
          "LARIAT",
          "XL",
          "LARIAT",
          "XLT",
          "XLT",
          "LARIAT",
          "LARIAT",
          "LARIAT",
          "LARIAT",
          "XL",
          "XL",
          "XLT",
          "LARIAT",
          "LARIAT",
          "XL",
          "XLT",
          "LARIAT",
          "LARIAT",
          "LARIAT",
          "LARIAT",
          "XLT",
          "XLT",
          "LARIAT",
          "XL",
          "XLT",
          "XL",
          "LARIAT",
          "LARIAT",
          "XLT",
          "LARIAT",
          "XLT",
          "XLT",
          "XLT",
          "XL",
          "XLT",
          "XLT",
          "LARIAT",
          "XLT",
          "XL",
          "LARIAT",
          "XLT",
          "XL",
          "XL",
          "XL",
          "LARIAT",
          "XLT",
          "LARIAT",
          "XLT",
          "XLT",
          "XLT",
          "LARIAT",
          "XL",
          "XL",
          "XL",
          "XL",
          "LARIAT",
          "XL",
          "LARIAT",
          "XL",
          "XLT",
          "LARIAT",
          "XL",
          "XL",
          "XLT",
          "XLT",
          "XLT",
          "XLT",
          "LARIAT",
          "XL",
          "LARIAT",
          "XLT",
          "XLT",
          "XLT",
          "XLT",
          "XLT",
          "XLT",
          "LARIAT",
          "XLT",
          "LARIAT",
          "LARIAT",
          "XLT",
          "XLT",
          "XL",
          "LARIAT",
          "XLT",
          "LARIAT",
          "XLT",
          "LARIAT",
          "XLT",
          "XLT",
          "XLT",
          "XLT",
          "LARIAT",
          "LARIAT",
          "XLT",
          "XLT",
          "XLT",
          "XLT",
          "XLT",
          "XLT",
          "XL",
          "XLT",
          "XL",
          "XLT",
          "XLT",
          "XL",
          "XLT",
          "XLT",
          "LARIAT",
          "XLT",
          "XLT",
          "LARIAT",
          "XLT",
          "XLT",
          "XL",
          "XLT",
          "XL",
          "XL",
          "XLT",
          "XLT",
          "LARIAT",
          "XLT",
          "LARIAT",
          "XLT",
          "XL",
          "LARIAT",
          "LARIAT",
          "XLT",
          "LARIAT",
          "XL",
          "XLT",
          "XLT",
          "LARIAT",
          "LARIAT",
          "XLT",
          "XLT",
          "XLT",
          "XLT",
          "XLT",
          "LARIAT",
          "XL",
          "XLT",
          "XLT",
          "XLT",
          "XLT",
          "XLT",
          "XL",
          "XLT",
          "XLT",
          "XLT",
          "XL",
          "XLT",
          "LARIAT",
          "XL",
          "XLT",
          "XLT",
          "XLT",
          "LARIAT",
          "LARIAT",
          "XL",
          "XLT",
          "XL",
          "LARIAT",
          "XLT",
          "XL",
          "XLT",
          "XLT",
          "XLT",
          "LARIAT",
          "XLT",
          "XLT",
          "XLT",
          "XL",
          "XLT",
          "XLT",
          "XLT",
          "XLT",
          "LARIAT",
          "XLT",
          "XL",
          "XLT",
          "XLT",
          "XLT",
          "XL",
          "LARIAT",
          "XL",
          "XL",
          "XLT",
          "XLT",
          "XL",
          "XL",
          "XL",
          "XLT",
          "LARIAT",
          "LARIAT",
          "XLT",
          "LARIAT",
          "XL",
          "XLT",
          "XLT",
          "XLT",
          "XLT",
          "XLT",
          "XLT",
          "LARIAT",
          "XLT",
          "XLT",
          "XLT",
          "XLT",
          "XLT",
          "LARIAT",
          "XLT",
          "XL",
          "XL",
          "XLT",
          "LARIAT",
          "XL",
          "LARIAT",
          "LARIAT",
          "XLT",
          "XLT",
          "XL",
          "XLT",
          "LARIAT",
          "XL",
          "XLT",
          "XL",
          "XLT",
          "XLT",
          "XLT",
          "XLT",
          "LARIAT",
          "LARIAT",
          "LARIAT",
          "LARIAT",
          "XLT",
          "XL",
          "LARIAT",
          "LARIAT",
          "LARIAT",
          "XL",
          "XL",
          "LARIAT",
          "XL",
          "LARIAT",
          "XLT",
          "LARIAT",
          "XLT",
          "XLT",
          "XLT",
          "XLT",
          "XL",
          "XLT",
          "XLT",
          "XLT",
          "XL",
          "LARIAT",
          "XL",
          "LARIAT",
          "LARIAT",
          "LARIAT",
          "XL",
          "XL",
          "XLT",
          "LARIAT",
          "XL",
          "XLT",
          "XL",
          "XLT",
          "XLT",
          "XL",
          "XL",
          "XLT",
          "LARIAT",
          "XLT",
          "LARIAT",
          "XL",
          "XLT",
          "XL",
          "XLT",
          "LARIAT",
          "XLT",
          "XLT",
          "XLT",
          "XLT",
          "XLT",
          "XL",
          "XL",
          "LARIAT",
          "LARIAT",
          "LARIAT",
          "XL",
          "XLT",
          "LARIAT",
          "XLT",
          "XLT",
          "XLT",
          "XLT",
          "XLT",
          "LARIAT",
          "XL",
          "XLT",
          "XL",
          "XLT",
          "XL",
          "XLT",
          "XLT",
          "XLT",
          "XLT",
          "XLT",
          "XLT",
          "XLT",
          "XLT",
          "XLT",
          "XLT",
          "XLT",
          "LARIAT",
          "XLT",
          "XLT",
          "LARIAT",
          "LARIAT",
          "XLT",
          "XLT",
          "XLT",
          "XLT",
          "LARIAT",
          "XLT",
          "LARIAT",
          "XL",
          "XLT",
          "LARIAT",
          "XLT",
          "XL",
          "XLT",
          "XL",
          "XLT",
          "XL",
          "XL",
          "LARIAT",
          "XL",
          "XLT",
          "XL",
          "XLT",
          "XLT",
          "LARIAT",
          "XLT",
          "XL",
          "XL",
          "XL",
          "XLT",
          "XL",
          "XLT",
          "LARIAT",
          "XLT",
          "LARIAT",
          "XLT",
          "XLT",
          "XLT",
          "XLT",
          "XL",
          "XLT",
          "LARIAT",
          "XLT",
          "XL",
          "LARIAT",
          "XLT",
          "XLT",
          "XLT",
          "XLT",
          "XLT",
          "LARIAT",
          "XLT",
          "XL",
          "XL",
          "XL",
          "LARIAT",
          "XLT",
          "LARIAT",
          "LARIAT",
          "XLT",
          "XL",
          "XLT",
          "XL",
          "XLT",
          "XLT",
          "XL",
          "XL",
          "XLT",
          "XLT",
          "XLT",
          "LARIAT",
          "XLT",
          "XL",
          "XLT",
          "LARIAT",
          "LARIAT",
          "XLT",
          "XLT",
          "XLT",
          "LARIAT",
          "XL",
          "XL",
          "XLT",
          "LARIAT",
          "XLT",
          "XL",
          "LARIAT",
          "LARIAT",
          "XLT",
          "XLT",
          "XLT",
          "XLT",
          "XL",
          "XLT",
          "LARIAT",
          "LARIAT",
          "LARIAT",
          "LARIAT",
          "XLT",
          "LARIAT",
          "XLT",
          "XLT",
          "XL",
          "XLT",
          "XLT",
          "XLT",
          "XL",
          "LARIAT",
          "XLT",
          "LARIAT",
          "LARIAT",
          "XLT",
          "LARIAT",
          "XLT",
          "LARIAT",
          "XLT",
          "LARIAT",
          "XLT",
          "XLT",
          "XLT",
          "XLT",
          "XLT",
          "XLT"
         ],
         "x0": " ",
         "xaxis": "x",
         "y": [
          40988,
          29892,
          33300,
          36895,
          39999,
          32996,
          39870,
          36000,
          41977,
          36971,
          36804,
          37500,
          37000,
          33000,
          38898,
          33981,
          35991,
          31541,
          33153,
          32000,
          34983,
          38750,
          35000,
          39463,
          35995,
          40047,
          35715,
          40499,
          47997,
          44997,
          32900,
          37900,
          39000,
          34000,
          34980,
          39500,
          40998,
          39832,
          40779,
          35000,
          44336,
          37999,
          38222,
          37900,
          35800,
          34147,
          35995,
          34500,
          43996,
          32000,
          39900,
          41595,
          39920,
          33894,
          27985,
          39500,
          39804,
          33998,
          37000,
          34403,
          34999,
          34989,
          32998,
          35999,
          44000,
          36000,
          36200,
          39750,
          32426,
          35999,
          33633,
          34485,
          33692,
          32890,
          35593,
          38495,
          39998,
          37991,
          32582,
          33181,
          34282,
          34499,
          36250,
          37900,
          34995,
          42950,
          36500,
          36200,
          35994,
          27995,
          40998,
          35400,
          36998,
          40971,
          34495,
          34990,
          39990,
          38999,
          35873,
          33890,
          39695,
          32998,
          35436,
          41962,
          34919,
          37864,
          36950,
          43991,
          33999,
          30962,
          32990,
          34990,
          36500,
          39177,
          39750,
          35450,
          43990,
          45997,
          40999,
          30995,
          37995,
          32995,
          35888,
          35995,
          31000,
          34477,
          42800,
          40611,
          38693,
          null,
          null,
          39895,
          34314,
          31784,
          38890,
          35890,
          42850,
          37850,
          36999,
          38695,
          34898,
          31495,
          33991,
          39800,
          42995,
          29969,
          34994,
          39063,
          36900,
          37959,
          38990,
          36990,
          42000,
          39800,
          35992,
          35684,
          41690,
          36000,
          38998,
          36000,
          36655,
          37500,
          33953,
          38988,
          37495,
          33700,
          38852,
          38337,
          44900,
          35980,
          37490,
          38550,
          37333,
          31995,
          38481,
          36149,
          35995,
          37995,
          34943,
          36200,
          40108,
          34500,
          27945,
          36351,
          32835,
          41375,
          38998,
          37998,
          38855,
          35000,
          38912,
          34500,
          35130,
          39900,
          41995,
          33999,
          43995,
          34998,
          37652,
          40982,
          36900,
          35400,
          36593,
          37498,
          37991,
          38635,
          43988,
          35540,
          40000,
          37199,
          36561,
          33998,
          33998,
          37998,
          38998,
          32500,
          40900,
          35988,
          39988,
          31900,
          42500,
          37852,
          36988,
          32500,
          41998,
          36560,
          35000,
          36300,
          39000,
          39000,
          41500,
          32500,
          37890,
          41749,
          35988,
          37812,
          36988,
          31700,
          31999,
          33998,
          33998,
          31495,
          35995,
          37495,
          37995,
          37495,
          39999,
          32295,
          38741,
          32950,
          34998,
          44999,
          35668,
          39333,
          33677,
          34990,
          37990,
          35000,
          36998,
          42000,
          41900,
          35977,
          35997,
          35998,
          38998,
          36998,
          39998,
          36791,
          38990,
          36998,
          31998,
          39998,
          39950,
          35950,
          38998,
          36998,
          33499,
          34998,
          37691,
          36981,
          40987,
          37998,
          35351,
          38995,
          38694,
          41982,
          38999,
          37999,
          36988,
          39800,
          39998,
          36500,
          40454,
          42951,
          35998,
          37351,
          38310,
          38761,
          39027,
          38998,
          40998,
          39999,
          33765,
          43988,
          32998,
          35988,
          46988,
          35988,
          37744,
          33897,
          37330,
          45971,
          37254,
          40999,
          46988,
          null,
          33000,
          39975,
          40994,
          36995,
          37899,
          36763,
          42970,
          38464,
          38900,
          44600,
          35116,
          35998,
          41984,
          34995,
          36448,
          33816,
          38645,
          38998,
          34998,
          40998,
          37990,
          39990,
          38564,
          33900,
          39000,
          36999,
          39911,
          38771,
          34988,
          35995,
          38998,
          30000,
          33181,
          34990,
          40998,
          39991,
          39892,
          35998,
          36000,
          31983,
          39580,
          35999,
          36362,
          34896,
          36505,
          37590,
          32495,
          null,
          28495,
          38991,
          41691,
          34289,
          31994,
          43950,
          38000,
          37599,
          36611,
          38976,
          45999,
          38812,
          40999,
          35996,
          35000,
          37888,
          32888,
          37888,
          38999,
          41900,
          39595,
          39595,
          34900,
          33591,
          32995,
          38995,
          34998,
          38089,
          30300,
          31995,
          35998,
          35500,
          34243,
          37000,
          40000,
          38190,
          36879,
          39990,
          37990,
          38999,
          35997,
          39999,
          33950,
          31999,
          35000,
          36998,
          32998,
          36988,
          42988,
          37950,
          41490,
          27499,
          35995,
          38923,
          27995,
          36999,
          null,
          36499,
          29988,
          29975,
          37725,
          40977,
          49777,
          36500,
          39849,
          35700,
          31998,
          35488,
          37500,
          40000,
          37299,
          33995,
          35399,
          34706,
          38597,
          40995,
          37995,
          34297,
          36500,
          36000,
          37750,
          36794,
          32758,
          34000,
          36905,
          37700,
          34737,
          35500,
          30198,
          36604,
          36900,
          34812,
          36899,
          38768,
          39999,
          31000,
          36789,
          36011,
          36988,
          38397,
          41998,
          35800,
          40900,
          31543,
          39900,
          38450,
          34295,
          31998,
          35990,
          34000,
          40000,
          34290,
          35998,
          33984,
          35998,
          38998,
          37900,
          34598,
          35698,
          45995,
          34914,
          34650,
          37575,
          37988,
          35468,
          34990,
          37991,
          30087,
          33991,
          33622,
          34993,
          36522,
          35511,
          35910,
          34750,
          46199,
          35879,
          34999,
          39954,
          32509,
          35499,
          37843,
          38574,
          39462,
          37992,
          35198,
          38900,
          35545,
          35706,
          33399,
          34995,
          37993,
          41995,
          34991,
          30998,
          33968,
          37999,
          37995,
          29995,
          40998,
          48253,
          41782,
          35998,
          35998,
          34900,
          38768,
          35991,
          38988,
          34091,
          36988,
          35000,
          35438,
          36999,
          31990,
          38527,
          39977,
          40977,
          33981,
          28998,
          42890,
          42997,
          43000,
          34171,
          34874,
          34988,
          35929,
          42996,
          37995,
          40977,
          36814,
          38900,
          32243,
          36899,
          30995,
          38980,
          32990,
          35777,
          35990,
          42900,
          34999,
          38788,
          37998,
          41000,
          33998,
          34998,
          39998,
          39256,
          31900,
          36639,
          31750,
          37998,
          36942,
          30988,
          28998,
          35900,
          42898,
          37550,
          42990,
          29515,
          36495,
          34087,
          35498,
          42995,
          35951,
          39991,
          30020,
          36999,
          35998,
          32998,
          32184,
          39995,
          40995,
          33995,
          42997,
          34991,
          39996,
          34927,
          31999,
          28995,
          38495,
          38779,
          38895,
          32800,
          34936,
          31998,
          34995,
          31710,
          35998,
          37998,
          38881,
          40875,
          37995,
          35998,
          35900,
          34377,
          36825,
          38000,
          33800,
          36500,
          29999,
          34499,
          42949,
          44322,
          36999,
          33499,
          35999,
          35000,
          41778,
          40800,
          38902,
          34995,
          38995,
          39500,
          36000,
          35949,
          36998,
          30991,
          33582,
          32300,
          32500,
          42000,
          null,
          34668,
          34224,
          36998,
          35101,
          37398,
          36515,
          34950,
          26949,
          28349,
          34600,
          35500,
          35955,
          41823,
          34199,
          41504,
          36255,
          34500,
          33500,
          32990,
          35745,
          39303,
          45234,
          34985,
          30998,
          44995,
          37990,
          39123,
          34799,
          40998,
          37500,
          36990,
          34988,
          32000,
          30395,
          32758,
          38998,
          36732,
          36642,
          40700,
          34425,
          38980,
          36815,
          33995,
          37975,
          34863,
          32632,
          33980,
          39995,
          36998,
          33500,
          42975,
          33976,
          27839,
          35900,
          39995,
          41997,
          36983,
          39764,
          40288,
          42980,
          34980,
          34980,
          37999,
          39470,
          33994,
          28990,
          42500,
          37500,
          36998,
          39994,
          35875,
          37998,
          31964,
          38450,
          40995,
          39773,
          39986,
          39750,
          38995,
          42000,
          34990,
          33990,
          33499,
          34998,
          35988,
          35123,
          27797,
          45451,
          40998,
          36899,
          44995,
          34000,
          43886,
          40599,
          39990,
          37998,
          43900,
          36995,
          39998,
          34997,
          34988,
          34750,
          41400
         ],
         "y0": " ",
         "yaxis": "y"
        }
       ],
       "layout": {
        "boxmode": "group",
        "height": 800,
        "legend": {
         "tracegroupgap": 0
        },
        "template": {
         "data": {
          "bar": [
           {
            "error_x": {
             "color": "#2a3f5f"
            },
            "error_y": {
             "color": "#2a3f5f"
            },
            "marker": {
             "line": {
              "color": "#E5ECF6",
              "width": 0.5
             },
             "pattern": {
              "fillmode": "overlay",
              "size": 10,
              "solidity": 0.2
             }
            },
            "type": "bar"
           }
          ],
          "barpolar": [
           {
            "marker": {
             "line": {
              "color": "#E5ECF6",
              "width": 0.5
             },
             "pattern": {
              "fillmode": "overlay",
              "size": 10,
              "solidity": 0.2
             }
            },
            "type": "barpolar"
           }
          ],
          "carpet": [
           {
            "aaxis": {
             "endlinecolor": "#2a3f5f",
             "gridcolor": "white",
             "linecolor": "white",
             "minorgridcolor": "white",
             "startlinecolor": "#2a3f5f"
            },
            "baxis": {
             "endlinecolor": "#2a3f5f",
             "gridcolor": "white",
             "linecolor": "white",
             "minorgridcolor": "white",
             "startlinecolor": "#2a3f5f"
            },
            "type": "carpet"
           }
          ],
          "choropleth": [
           {
            "colorbar": {
             "outlinewidth": 0,
             "ticks": ""
            },
            "type": "choropleth"
           }
          ],
          "contour": [
           {
            "colorbar": {
             "outlinewidth": 0,
             "ticks": ""
            },
            "colorscale": [
             [
              0,
              "#0d0887"
             ],
             [
              0.1111111111111111,
              "#46039f"
             ],
             [
              0.2222222222222222,
              "#7201a8"
             ],
             [
              0.3333333333333333,
              "#9c179e"
             ],
             [
              0.4444444444444444,
              "#bd3786"
             ],
             [
              0.5555555555555556,
              "#d8576b"
             ],
             [
              0.6666666666666666,
              "#ed7953"
             ],
             [
              0.7777777777777778,
              "#fb9f3a"
             ],
             [
              0.8888888888888888,
              "#fdca26"
             ],
             [
              1,
              "#f0f921"
             ]
            ],
            "type": "contour"
           }
          ],
          "contourcarpet": [
           {
            "colorbar": {
             "outlinewidth": 0,
             "ticks": ""
            },
            "type": "contourcarpet"
           }
          ],
          "heatmap": [
           {
            "colorbar": {
             "outlinewidth": 0,
             "ticks": ""
            },
            "colorscale": [
             [
              0,
              "#0d0887"
             ],
             [
              0.1111111111111111,
              "#46039f"
             ],
             [
              0.2222222222222222,
              "#7201a8"
             ],
             [
              0.3333333333333333,
              "#9c179e"
             ],
             [
              0.4444444444444444,
              "#bd3786"
             ],
             [
              0.5555555555555556,
              "#d8576b"
             ],
             [
              0.6666666666666666,
              "#ed7953"
             ],
             [
              0.7777777777777778,
              "#fb9f3a"
             ],
             [
              0.8888888888888888,
              "#fdca26"
             ],
             [
              1,
              "#f0f921"
             ]
            ],
            "type": "heatmap"
           }
          ],
          "heatmapgl": [
           {
            "colorbar": {
             "outlinewidth": 0,
             "ticks": ""
            },
            "colorscale": [
             [
              0,
              "#0d0887"
             ],
             [
              0.1111111111111111,
              "#46039f"
             ],
             [
              0.2222222222222222,
              "#7201a8"
             ],
             [
              0.3333333333333333,
              "#9c179e"
             ],
             [
              0.4444444444444444,
              "#bd3786"
             ],
             [
              0.5555555555555556,
              "#d8576b"
             ],
             [
              0.6666666666666666,
              "#ed7953"
             ],
             [
              0.7777777777777778,
              "#fb9f3a"
             ],
             [
              0.8888888888888888,
              "#fdca26"
             ],
             [
              1,
              "#f0f921"
             ]
            ],
            "type": "heatmapgl"
           }
          ],
          "histogram": [
           {
            "marker": {
             "pattern": {
              "fillmode": "overlay",
              "size": 10,
              "solidity": 0.2
             }
            },
            "type": "histogram"
           }
          ],
          "histogram2d": [
           {
            "colorbar": {
             "outlinewidth": 0,
             "ticks": ""
            },
            "colorscale": [
             [
              0,
              "#0d0887"
             ],
             [
              0.1111111111111111,
              "#46039f"
             ],
             [
              0.2222222222222222,
              "#7201a8"
             ],
             [
              0.3333333333333333,
              "#9c179e"
             ],
             [
              0.4444444444444444,
              "#bd3786"
             ],
             [
              0.5555555555555556,
              "#d8576b"
             ],
             [
              0.6666666666666666,
              "#ed7953"
             ],
             [
              0.7777777777777778,
              "#fb9f3a"
             ],
             [
              0.8888888888888888,
              "#fdca26"
             ],
             [
              1,
              "#f0f921"
             ]
            ],
            "type": "histogram2d"
           }
          ],
          "histogram2dcontour": [
           {
            "colorbar": {
             "outlinewidth": 0,
             "ticks": ""
            },
            "colorscale": [
             [
              0,
              "#0d0887"
             ],
             [
              0.1111111111111111,
              "#46039f"
             ],
             [
              0.2222222222222222,
              "#7201a8"
             ],
             [
              0.3333333333333333,
              "#9c179e"
             ],
             [
              0.4444444444444444,
              "#bd3786"
             ],
             [
              0.5555555555555556,
              "#d8576b"
             ],
             [
              0.6666666666666666,
              "#ed7953"
             ],
             [
              0.7777777777777778,
              "#fb9f3a"
             ],
             [
              0.8888888888888888,
              "#fdca26"
             ],
             [
              1,
              "#f0f921"
             ]
            ],
            "type": "histogram2dcontour"
           }
          ],
          "mesh3d": [
           {
            "colorbar": {
             "outlinewidth": 0,
             "ticks": ""
            },
            "type": "mesh3d"
           }
          ],
          "parcoords": [
           {
            "line": {
             "colorbar": {
              "outlinewidth": 0,
              "ticks": ""
             }
            },
            "type": "parcoords"
           }
          ],
          "pie": [
           {
            "automargin": true,
            "type": "pie"
           }
          ],
          "scatter": [
           {
            "marker": {
             "colorbar": {
              "outlinewidth": 0,
              "ticks": ""
             }
            },
            "type": "scatter"
           }
          ],
          "scatter3d": [
           {
            "line": {
             "colorbar": {
              "outlinewidth": 0,
              "ticks": ""
             }
            },
            "marker": {
             "colorbar": {
              "outlinewidth": 0,
              "ticks": ""
             }
            },
            "type": "scatter3d"
           }
          ],
          "scattercarpet": [
           {
            "marker": {
             "colorbar": {
              "outlinewidth": 0,
              "ticks": ""
             }
            },
            "type": "scattercarpet"
           }
          ],
          "scattergeo": [
           {
            "marker": {
             "colorbar": {
              "outlinewidth": 0,
              "ticks": ""
             }
            },
            "type": "scattergeo"
           }
          ],
          "scattergl": [
           {
            "marker": {
             "colorbar": {
              "outlinewidth": 0,
              "ticks": ""
             }
            },
            "type": "scattergl"
           }
          ],
          "scattermapbox": [
           {
            "marker": {
             "colorbar": {
              "outlinewidth": 0,
              "ticks": ""
             }
            },
            "type": "scattermapbox"
           }
          ],
          "scatterpolar": [
           {
            "marker": {
             "colorbar": {
              "outlinewidth": 0,
              "ticks": ""
             }
            },
            "type": "scatterpolar"
           }
          ],
          "scatterpolargl": [
           {
            "marker": {
             "colorbar": {
              "outlinewidth": 0,
              "ticks": ""
             }
            },
            "type": "scatterpolargl"
           }
          ],
          "scatterternary": [
           {
            "marker": {
             "colorbar": {
              "outlinewidth": 0,
              "ticks": ""
             }
            },
            "type": "scatterternary"
           }
          ],
          "surface": [
           {
            "colorbar": {
             "outlinewidth": 0,
             "ticks": ""
            },
            "colorscale": [
             [
              0,
              "#0d0887"
             ],
             [
              0.1111111111111111,
              "#46039f"
             ],
             [
              0.2222222222222222,
              "#7201a8"
             ],
             [
              0.3333333333333333,
              "#9c179e"
             ],
             [
              0.4444444444444444,
              "#bd3786"
             ],
             [
              0.5555555555555556,
              "#d8576b"
             ],
             [
              0.6666666666666666,
              "#ed7953"
             ],
             [
              0.7777777777777778,
              "#fb9f3a"
             ],
             [
              0.8888888888888888,
              "#fdca26"
             ],
             [
              1,
              "#f0f921"
             ]
            ],
            "type": "surface"
           }
          ],
          "table": [
           {
            "cells": {
             "fill": {
              "color": "#EBF0F8"
             },
             "line": {
              "color": "white"
             }
            },
            "header": {
             "fill": {
              "color": "#C8D4E3"
             },
             "line": {
              "color": "white"
             }
            },
            "type": "table"
           }
          ]
         },
         "layout": {
          "annotationdefaults": {
           "arrowcolor": "#2a3f5f",
           "arrowhead": 0,
           "arrowwidth": 1
          },
          "autotypenumbers": "strict",
          "coloraxis": {
           "colorbar": {
            "outlinewidth": 0,
            "ticks": ""
           }
          },
          "colorscale": {
           "diverging": [
            [
             0,
             "#8e0152"
            ],
            [
             0.1,
             "#c51b7d"
            ],
            [
             0.2,
             "#de77ae"
            ],
            [
             0.3,
             "#f1b6da"
            ],
            [
             0.4,
             "#fde0ef"
            ],
            [
             0.5,
             "#f7f7f7"
            ],
            [
             0.6,
             "#e6f5d0"
            ],
            [
             0.7,
             "#b8e186"
            ],
            [
             0.8,
             "#7fbc41"
            ],
            [
             0.9,
             "#4d9221"
            ],
            [
             1,
             "#276419"
            ]
           ],
           "sequential": [
            [
             0,
             "#0d0887"
            ],
            [
             0.1111111111111111,
             "#46039f"
            ],
            [
             0.2222222222222222,
             "#7201a8"
            ],
            [
             0.3333333333333333,
             "#9c179e"
            ],
            [
             0.4444444444444444,
             "#bd3786"
            ],
            [
             0.5555555555555556,
             "#d8576b"
            ],
            [
             0.6666666666666666,
             "#ed7953"
            ],
            [
             0.7777777777777778,
             "#fb9f3a"
            ],
            [
             0.8888888888888888,
             "#fdca26"
            ],
            [
             1,
             "#f0f921"
            ]
           ],
           "sequentialminus": [
            [
             0,
             "#0d0887"
            ],
            [
             0.1111111111111111,
             "#46039f"
            ],
            [
             0.2222222222222222,
             "#7201a8"
            ],
            [
             0.3333333333333333,
             "#9c179e"
            ],
            [
             0.4444444444444444,
             "#bd3786"
            ],
            [
             0.5555555555555556,
             "#d8576b"
            ],
            [
             0.6666666666666666,
             "#ed7953"
            ],
            [
             0.7777777777777778,
             "#fb9f3a"
            ],
            [
             0.8888888888888888,
             "#fdca26"
            ],
            [
             1,
             "#f0f921"
            ]
           ]
          },
          "colorway": [
           "#636efa",
           "#EF553B",
           "#00cc96",
           "#ab63fa",
           "#FFA15A",
           "#19d3f3",
           "#FF6692",
           "#B6E880",
           "#FF97FF",
           "#FECB52"
          ],
          "font": {
           "color": "#2a3f5f"
          },
          "geo": {
           "bgcolor": "white",
           "lakecolor": "white",
           "landcolor": "#E5ECF6",
           "showlakes": true,
           "showland": true,
           "subunitcolor": "white"
          },
          "hoverlabel": {
           "align": "left"
          },
          "hovermode": "closest",
          "mapbox": {
           "style": "light"
          },
          "paper_bgcolor": "white",
          "plot_bgcolor": "#E5ECF6",
          "polar": {
           "angularaxis": {
            "gridcolor": "white",
            "linecolor": "white",
            "ticks": ""
           },
           "bgcolor": "#E5ECF6",
           "radialaxis": {
            "gridcolor": "white",
            "linecolor": "white",
            "ticks": ""
           }
          },
          "scene": {
           "xaxis": {
            "backgroundcolor": "#E5ECF6",
            "gridcolor": "white",
            "gridwidth": 2,
            "linecolor": "white",
            "showbackground": true,
            "ticks": "",
            "zerolinecolor": "white"
           },
           "yaxis": {
            "backgroundcolor": "#E5ECF6",
            "gridcolor": "white",
            "gridwidth": 2,
            "linecolor": "white",
            "showbackground": true,
            "ticks": "",
            "zerolinecolor": "white"
           },
           "zaxis": {
            "backgroundcolor": "#E5ECF6",
            "gridcolor": "white",
            "gridwidth": 2,
            "linecolor": "white",
            "showbackground": true,
            "ticks": "",
            "zerolinecolor": "white"
           }
          },
          "shapedefaults": {
           "line": {
            "color": "#2a3f5f"
           }
          },
          "ternary": {
           "aaxis": {
            "gridcolor": "white",
            "linecolor": "white",
            "ticks": ""
           },
           "baxis": {
            "gridcolor": "white",
            "linecolor": "white",
            "ticks": ""
           },
           "bgcolor": "#E5ECF6",
           "caxis": {
            "gridcolor": "white",
            "linecolor": "white",
            "ticks": ""
           }
          },
          "title": {
           "x": 0.05
          },
          "xaxis": {
           "automargin": true,
           "gridcolor": "white",
           "linecolor": "white",
           "ticks": "",
           "title": {
            "standoff": 15
           },
           "zerolinecolor": "white",
           "zerolinewidth": 2
          },
          "yaxis": {
           "automargin": true,
           "gridcolor": "white",
           "linecolor": "white",
           "ticks": "",
           "title": {
            "standoff": 15
           },
           "zerolinecolor": "white",
           "zerolinewidth": 2
          }
         }
        },
        "title": {
         "text": "Used Ford Mavericks Listed on Cars.com in USA from: 2023-05-23, 749 cars shown"
        },
        "width": 1200,
        "xaxis": {
         "anchor": "y",
         "categoryarray": [
          "XL",
          "XLT",
          "LARIAT"
         ],
         "categoryorder": "array",
         "domain": [
          0,
          1
         ],
         "title": {
          "text": "Trim Level"
         }
        },
        "yaxis": {
         "anchor": "x",
         "domain": [
          0,
          1
         ],
         "title": {
          "text": "List Price"
         }
        }
       }
      }
     },
     "metadata": {},
     "output_type": "display_data"
    }
   ],
   "source": [
    "single_date = max(dates_parsed)\n",
    "single_date_data = df[df.date_parsed == single_date]\n",
    "num_cars = len(single_date_data)\n",
    "fig = px.box(single_date_data, x='trim_level', y='list_price', points='all', \n",
    "        title=f'Used Ford Mavericks Listed on Cars.com in USA from: {single_date}, {num_cars} cars shown', category_orders={'trim_level':acceptable_trim_levels},\n",
    "        labels={'trim_level':'Trim Level','list_price':'List Price'}, width=1200, height=800)\n",
    "fig.show()"
   ]
  },
  {
   "cell_type": "code",
   "execution_count": 40,
   "metadata": {},
   "outputs": [],
   "source": [
    "options = []\n",
    "for item in dates_parsed:\n",
    "    options.append({'label':str(item),'value':str(item)})"
   ]
  },
  {
   "cell_type": "code",
   "execution_count": 38,
   "metadata": {},
   "outputs": [
    {
     "data": {
      "text/plain": [
       "[{'label': '2023-05-11', 'value': '2023-05-11'},\n",
       " {'label': '2023-05-14', 'value': '2023-05-14'},\n",
       " {'label': '2023-05-15', 'value': '2023-05-15'},\n",
       " {'label': '2023-05-16', 'value': '2023-05-16'},\n",
       " {'label': '2023-05-17', 'value': '2023-05-17'},\n",
       " {'label': '2023-05-18', 'value': '2023-05-18'},\n",
       " {'label': '2023-05-19', 'value': '2023-05-19'},\n",
       " {'label': '2023-05-20', 'value': '2023-05-20'},\n",
       " {'label': '2023-05-22', 'value': '2023-05-22'},\n",
       " {'label': '2023-05-23', 'value': '2023-05-23'}]"
      ]
     },
     "execution_count": 38,
     "metadata": {},
     "output_type": "execute_result"
    }
   ],
   "source": [
    "options"
   ]
  },
  {
   "cell_type": "code",
   "execution_count": 35,
   "metadata": {},
   "outputs": [],
   "source": [
    "options = []\n",
    "for i in range(len(dates_parsed)):\n",
    "    options{'label':str(dates_parsed[i]),'value':str(dates_parsed[i])},]"
   ]
  },
  {
   "cell_type": "code",
   "execution_count": 36,
   "metadata": {},
   "outputs": [
    {
     "data": {
      "text/plain": [
       "[{'label': '2023-05-23', 'value': '2023-05-23'}]"
      ]
     },
     "execution_count": 36,
     "metadata": {},
     "output_type": "execute_result"
    }
   ],
   "source": [
    "options"
   ]
  },
  {
   "cell_type": "code",
   "execution_count": null,
   "metadata": {},
   "outputs": [],
   "source": [
    "format = list of dicts, so\n",
    "\n",
    "[{'label':'year','value':'year'}]"
   ]
  },
  {
   "cell_type": "code",
   "execution_count": null,
   "metadata": {},
   "outputs": [],
   "source": []
  }
 ],
 "metadata": {
  "kernelspec": {
   "display_name": "Python 3.9.12 ('base')",
   "language": "python",
   "name": "python3"
  },
  "language_info": {
   "codemirror_mode": {
    "name": "ipython",
    "version": 3
   },
   "file_extension": ".py",
   "mimetype": "text/x-python",
   "name": "python",
   "nbconvert_exporter": "python",
   "pygments_lexer": "ipython3",
   "version": "3.9.12"
  },
  "orig_nbformat": 4,
  "vscode": {
   "interpreter": {
    "hash": "bf69675bb191eeb9f84d45fb88747c8b4a562cfb347034b34d1b24ec151fbd2c"
   }
  }
 },
 "nbformat": 4,
 "nbformat_minor": 2
}
